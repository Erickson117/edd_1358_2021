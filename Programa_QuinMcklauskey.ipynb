{
  "nbformat": 4,
  "nbformat_minor": 0,
  "metadata": {
    "colab": {
      "name": "Programa-QuinMcklauskey.ipynb",
      "provenance": [],
      "include_colab_link": true
    },
    "kernelspec": {
      "name": "python3",
      "display_name": "Python 3"
    },
    "language_info": {
      "name": "python"
    }
  },
  "cells": [
    {
      "cell_type": "markdown",
      "metadata": {
        "id": "view-in-github",
        "colab_type": "text"
      },
      "source": [
        "<a href=\"https://colab.research.google.com/github/Erickson117/edd_1358_2021/blob/master/Programa_QuinMcklauskey.ipynb\" target=\"_parent\"><img src=\"https://colab.research.google.com/assets/colab-badge.svg\" alt=\"Open In Colab\"/></a>"
      ]
    },
    {
      "cell_type": "code",
      "metadata": {
        "id": "Bc6HkYCUgl4q",
        "colab": {
          "base_uri": "https://localhost:8080/",
          "height": 354
        },
        "outputId": "a6f40ec6-7ebb-4e7f-9ca7-060ecda3311c"
      },
      "source": [
        "\"\"\"\n",
        "Integrantes:\n",
        "* Perez Paz Eduardo\n",
        "* Reyes Garcia Erick Jesus\n",
        "* Reyes Marques Josseline Esmeralda\n",
        "\"\"\"\n",
        "\n",
        "def decimalBinario(value, n): #Esta funcion pasa un numero decimal a binario en un arreglo\n",
        "  arreglo = []                #n  representa la cantidad de variables\n",
        "  for i in range(n):          # value es el valor que se pasara de binario a decimal\n",
        "    arreglo.append(0)\n",
        "   \n",
        "  for j in range(n-1,-1,-1):\n",
        "    arreglo[j] = (value % 2)\n",
        "    value = int(value / 2)\n",
        "  return arreglo\n",
        "\n",
        "\n",
        "def tablaValor(n): #Esta funcion crea una tabla de valor dependiendo el numero de variables que se coloquen\n",
        "  tabla = []       \n",
        "  indice = 0\n",
        "  while(indice < 2**n):\n",
        "    tabla.append([indice,decimalBinario(indice,n)]) #Utilice la funcion decimal a binario para pasar todos los indices a sus valores binarios\n",
        "    indice = indice + 1\n",
        "  return tabla\n",
        "\n",
        "def salida(n):\n",
        "  indice = 2**n\n",
        "  f = []\n",
        "\n",
        "  for i in range(indice):\n",
        "    print(\"Coloque su salida del index: \",i,\":\")\n",
        "    x = input()\n",
        "    f.append([i,x])\n",
        "  return f \n",
        "\n",
        "def contarUnos(arreglo):\n",
        "  n = 0;\n",
        "  for i in range(len(arreglo)):\n",
        "    if(arreglo[i] == 1):\n",
        "      n = n+1\n",
        "  return n\n",
        "\n",
        "def borrar(arreglo, pos):\n",
        "  arreglo2 = []\n",
        "  for i in range(len(arreglo)):\n",
        "    if (i != pos):\n",
        "      arreglo2.append(arreglo[i])\n",
        "  return arreglo2\n",
        "\n",
        "def agrupacion(n, nueva_tabla):\n",
        "  agrupacion = []\n",
        "  agrupacion2 = []\n",
        "  variantes = n+1\n",
        "  #print(\"Variantes: \",variantes)\n",
        "  for i in range(variantes):\n",
        "    agrupacion.append([])\n",
        "  for i in range(len(nueva_tabla)):\n",
        "    agrupacion[contarUnos(nueva_tabla[i])].append(nueva_tabla[i])\n",
        "  for i in range(variantes):\n",
        "    if(len(agrupacion[i]) > 0):\n",
        "      agrupacion2.append(agrupacion[i])\n",
        "  return agrupacion2\n",
        "  \n",
        "def quineMcClausky(n):\n",
        "  tabla_valor = tablaValor(n)\n",
        "  print(tablaValor(n))\n",
        "  salida_tabla = salida(n)\n",
        "  indice = 2**n\n",
        "  nueva_tabla = [] #Este arreglo lo usare para guardar los valores que den 1 en su salida\n",
        "  tablafinal = []\n",
        "  for i in range( indice ):  # Aqui coloque en nueva tabla los valores de entrada que tienen como salida un 1\n",
        "    #print(\"Salida: \",salida_tabla[i][1])\n",
        "    if (int(salida_tabla[i][1]) == 1):\n",
        "      #print(\"Entradas: \",tabla_valor[i][1])\n",
        "      nueva_tabla.append(tabla_valor[i][1])\n",
        "  \n",
        "  print(\"nueva: \",nueva_tabla)\n",
        "  nueva_tabla = agrupacion(n, nueva_tabla)\n",
        "  x = 0\n",
        "  \n",
        "\n",
        "      \n",
        "  \n",
        "  return nueva_tabla\n",
        "\n",
        "x = quineMcClausky(3)\n",
        "print(x)\n",
        "\"\"\"\n",
        "tabla1 = tablaValor(4)\n",
        "for i in range(len(tabla1)):\n",
        "  print(tabla1[i])\n",
        "\n",
        "numero = contarUnos(tabla1[2][1])\n",
        "print(\"numero de unos: \",numero)\n",
        "\"\"\"\n"
      ],
      "execution_count": 102,
      "outputs": [
        {
          "output_type": "stream",
          "name": "stdout",
          "text": [
            "[[0, [0, 0, 0]], [1, [0, 0, 1]], [2, [0, 1, 0]], [3, [0, 1, 1]], [4, [1, 0, 0]], [5, [1, 0, 1]], [6, [1, 1, 0]], [7, [1, 1, 1]]]\n",
            "Coloque su salida del index:  0 :\n",
            "0\n",
            "Coloque su salida del index:  1 :\n",
            "1\n",
            "Coloque su salida del index:  2 :\n",
            "0\n",
            "Coloque su salida del index:  3 :\n",
            "1\n",
            "Coloque su salida del index:  4 :\n",
            "1\n",
            "Coloque su salida del index:  5 :\n",
            "1\n",
            "Coloque su salida del index:  6 :\n",
            "0\n",
            "Coloque su salida del index:  7 :\n",
            "0\n",
            "nueva:  [[0, 0, 1], [0, 1, 1], [1, 0, 0], [1, 0, 1]]\n",
            "[[[0, 0, 1], [1, 0, 0]], [[0, 1, 1], [1, 0, 1]]]\n"
          ]
        },
        {
          "output_type": "execute_result",
          "data": {
            "application/vnd.google.colaboratory.intrinsic+json": {
              "type": "string"
            },
            "text/plain": [
              "'\\ntabla1 = tablaValor(4)\\nfor i in range(len(tabla1)):\\n  print(tabla1[i])\\n\\nnumero = contarUnos(tabla1[2][1])\\nprint(\"numero de unos: \",numero)\\n'"
            ]
          },
          "metadata": {},
          "execution_count": 102
        }
      ]
    },
    {
      "cell_type": "code",
      "metadata": {
        "id": "aHgJRwIh0L62"
      },
      "source": [
        ""
      ],
      "execution_count": null,
      "outputs": []
    },
    {
      "cell_type": "code",
      "metadata": {
        "colab": {
          "base_uri": "https://localhost:8080/"
        },
        "id": "lNIkxtmOiI43",
        "outputId": "8e26e64a-e558-4684-9ab3-17d1b02b0ff7"
      },
      "source": [
        "def CovertidorBinarioDecima(arreglo):\n",
        "  n = len(arreglo) -1\n",
        "  #print(\"Longitud\",n)\n",
        "  value = 0\n",
        "  x= 1\n",
        "  for i in range(len(arreglo)-1,-1,-1):\n",
        "    #print(\"i: \",i)\n",
        "    #print(\"x: \",x)\n",
        "    value = value + (arreglo[i] * x)\n",
        "    #print(\"valor: \",value)\n",
        "    x = x * 2\n",
        "  return value\n",
        "arreglo= [1,1,1,1,1,1,1,1,1,1]\n",
        "decimal = CovertidorBinarioDecima(arreglo)\n",
        "print(decimal)\n"
      ],
      "execution_count": 16,
      "outputs": [
        {
          "output_type": "stream",
          "name": "stdout",
          "text": [
            "1023\n"
          ]
        }
      ]
    },
    {
      "cell_type": "code",
      "metadata": {
        "colab": {
          "base_uri": "https://localhost:8080/"
        },
        "id": "IHM4VjTvVykJ",
        "outputId": "646cea2b-48be-4249-8e08-70761b156ddd"
      },
      "source": [
        "x = \"s\"\n",
        "y = 1\n",
        "\n",
        "if(x != y):\n",
        "  print(\"uwu\")\n",
        "  y = \"x\"\n",
        "  print(y)\n",
        "\n",
        "arreglo = [1]\n",
        "\n",
        "for i in range(3):\n",
        "  for j in range(4):\n",
        "    print(\"i: \",i,\", j: \",j)"
      ],
      "execution_count": 98,
      "outputs": [
        {
          "output_type": "stream",
          "name": "stdout",
          "text": [
            "uwu\n",
            "x\n",
            "i:  0 , j:  0\n",
            "i:  0 , j:  1\n",
            "i:  0 , j:  2\n",
            "i:  0 , j:  3\n",
            "i:  1 , j:  0\n",
            "i:  1 , j:  1\n",
            "i:  1 , j:  2\n",
            "i:  1 , j:  3\n",
            "i:  2 , j:  0\n",
            "i:  2 , j:  1\n",
            "i:  2 , j:  2\n",
            "i:  2 , j:  3\n"
          ]
        }
      ]
    },
    {
      "cell_type": "code",
      "metadata": {
        "id": "QBFrnc2rl6bM"
      },
      "source": [
        ",salida_tabla[i][1]\n",
        "while(x < (len(nueva_tabla)-1)):\n",
        "    for i in range(len(nueva_tabla[x])):\n",
        "      for j in range(nueva_tabla[x+1]):\n",
        "        for e in range(n):\n",
        "          if(nueva_tabla[x][i][0][j] == nueva_tabla[x+1][i][0][j])"
      ],
      "execution_count": null,
      "outputs": []
    },
    {
      "cell_type": "code",
      "metadata": {
        "colab": {
          "base_uri": "https://localhost:8080/"
        },
        "id": "KCSj-HIHtcat",
        "outputId": "39900476-e36d-4038-85f1-c96bf5998558"
      },
      "source": [
        "s = \"S\"\n",
        "s = s + str(1) +\"'\"\n",
        "print(s)\n",
        "arreglo = [0,1,0]\n",
        "resultado = \"\"\n",
        "def ecuacion(arreglo, n): #n = cantidad de variables\n",
        "  arreglo_s = [] # [S0,S1,S2]\n",
        "\n",
        "  \n",
        "#S0'S1S2\n"
      ],
      "execution_count": 109,
      "outputs": [
        {
          "output_type": "stream",
          "name": "stdout",
          "text": [
            "S1'\n"
          ]
        }
      ]
    }
  ]
}