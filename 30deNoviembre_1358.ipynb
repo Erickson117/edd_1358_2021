{
  "nbformat": 4,
  "nbformat_minor": 0,
  "metadata": {
    "colab": {
      "name": "30deNoviembre_1358.ipynb",
      "provenance": [],
      "authorship_tag": "ABX9TyMnY7jzrRevgeuiJ6MJoh7k",
      "include_colab_link": true
    },
    "kernelspec": {
      "name": "python3",
      "display_name": "Python 3"
    }
  },
  "cells": [
    {
      "cell_type": "markdown",
      "metadata": {
        "id": "view-in-github",
        "colab_type": "text"
      },
      "source": [
        "<a href=\"https://colab.research.google.com/github/Erickson117/edd_1358_2021/blob/master/30deNoviembre_1358.ipynb\" target=\"_parent\"><img src=\"https://colab.research.google.com/assets/colab-badge.svg\" alt=\"Open In Colab\"/></a>"
      ]
    },
    {
      "cell_type": "code",
      "metadata": {
        "id": "F_ciXdgHe29W"
      },
      "source": [
        "class Stack:\n",
        "  def __init__(self):\n",
        "    self.__data = []\n",
        "    self.__size = 0\n",
        "\n",
        "  def length(self):\n",
        "    return self.__size\n",
        "  \n",
        "  def is_empty(self):\n",
        "    return self.__size == 0\n",
        "\n",
        "  def pop( self ):\n",
        "    self.__size -= 1\n",
        "    return self.__data.pop()\n",
        "  \n",
        "  def peak(self):\n",
        "    return self.__data[-1]\n",
        "  \n",
        "  def push(self,value):\n",
        "    self.__data.append(value)\n",
        "    self.__size += 1\n",
        "\n",
        "  def to_string(self):\n",
        "    print(\"-------------------\")\n",
        "    for dato in self.__data[::-1]:\n",
        "      print(f\"| {dato} |\")\n",
        "      print(\"------\")\n",
        "\n"
      ],
      "execution_count": 28,
      "outputs": []
    },
    {
      "cell_type": "code",
      "metadata": {
        "colab": {
          "base_uri": "https://localhost:8080/"
        },
        "id": "wfr5EgTM--hf",
        "outputId": "53f65813-d5b3-44cb-c090-25eb72cb70a0"
      },
      "source": [
        "pl = Stack()\n",
        "pl.push(34)\n",
        "pl.push(10)\n",
        "pl.push(45)\n",
        "pl.push(4)\n",
        "pl.push(23)\n",
        "pl.push(33)\n",
        "valor = pl.pop()\n",
        "print(valor * 2)\n",
        "pl.to_string()\n",
        "valor = pl.peak()\n",
        "print(valor * 2)"
      ],
      "execution_count": 16,
      "outputs": [
        {
          "output_type": "stream",
          "text": [
            "66\n",
            "-------------------\n",
            "| 23 |\n",
            "------\n",
            "| 4 |\n",
            "------\n",
            "| 45 |\n",
            "------\n",
            "| 10 |\n",
            "------\n",
            "| 34 |\n",
            "------\n",
            "46\n"
          ],
          "name": "stdout"
        }
      ]
    },
    {
      "cell_type": "code",
      "metadata": {
        "colab": {
          "base_uri": "https://localhost:8080/"
        },
        "id": "0VFSXufxB4WM",
        "outputId": "aeafb3ea-0d48-493f-b27e-eb84c5c02364"
      },
      "source": [
        "#aplicaciones de la estructura Stack\n",
        "#validacion de parentesis valanceados\n",
        "\n",
        "cadena =\"b=3*(5+((4/2))\"\n",
        "\n",
        "pila  = Stack()\n",
        "pila.push(\"#\") #caracter de pila vacia\n",
        "for elem in cadena:\n",
        "  if elem == \"(\":\n",
        "    pila.push(\"*\")\n",
        "  elif elem == \")\":\n",
        "    pila.pop()\n",
        "  else:\n",
        "    pass\n",
        "  \n",
        "if pila.peak() == \"#\":\n",
        "  print(\"la expresion esta balanceada en parentesis\")\n",
        "else:\n",
        "  print(\"la expresion no esta balanceada\")\n",
        "  \n",
        "\n"
      ],
      "execution_count": 29,
      "outputs": [
        {
          "output_type": "stream",
          "text": [
            "la expresion no esta balanceada\n"
          ],
          "name": "stdout"
        }
      ]
    }
  ]
}