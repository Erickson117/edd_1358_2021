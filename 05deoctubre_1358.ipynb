{
  "nbformat": 4,
  "nbformat_minor": 0,
  "metadata": {
    "colab": {
      "name": "05deoctubre_1358.ipynb",
      "provenance": [],
      "authorship_tag": "ABX9TyMaJfnlKsAgDQ5rhREX8S8b",
      "include_colab_link": true
    },
    "kernelspec": {
      "name": "python3",
      "display_name": "Python 3"
    }
  },
  "cells": [
    {
      "cell_type": "markdown",
      "metadata": {
        "id": "view-in-github",
        "colab_type": "text"
      },
      "source": [
        "<a href=\"https://colab.research.google.com/github/Erickson117/edd_1358_2021/blob/master/05deoctubre_1358.ipynb\" target=\"_parent\"><img src=\"https://colab.research.google.com/assets/colab-badge.svg\" alt=\"Open In Colab\"/></a>"
      ]
    },
    {
      "cell_type": "markdown",
      "metadata": {
        "id": "HBd8y3CNXy_v"
      },
      "source": [
        "## Continuacion print"
      ]
    },
    {
      "cell_type": "code",
      "metadata": {
        "id": "lU_0x9oSSouB",
        "outputId": "eea1aa86-9d91-4702-e815-cca9fc17c5c8",
        "colab": {
          "base_uri": "https://localhost:8080/",
          "height": 69
        }
      },
      "source": [
        "precio = 12.5\n",
        "cantidad = 2\n",
        "existencia = True \n",
        "\n",
        "# precio de los chetos es de 12 pesos con 50 centavos y quiero 2 hay? True\n",
        "print(\"precio de los chetos es de \",precio,\"y quiero\",cantidad,\"hay\",existencia)\n",
        "\n",
        "#format() de clase str\n",
        "\n",
        "print(\"precio chetos {0}y quiero{1}hay?{2}\".format(precio,cantidad,existencia))\n",
        "\n",
        "#operador f\"\"\n",
        "\n",
        "print(f\"precio chetos { precio }y quiero{ cantidad }hay?{ existencia }\")\n",
        "\n",
        "#es lo mismo pero simplificado\n",
        "\n",
        "\n",
        "\n"
      ],
      "execution_count": 9,
      "outputs": [
        {
          "output_type": "stream",
          "text": [
            "precio de los chetos es de  12.5 y quiero 2 hay True\n",
            "precio chetos 12.5y quiero2hay?True\n",
            "precio chetos 12.5y quiero2hay?True\n"
          ],
          "name": "stdout"
        }
      ]
    },
    {
      "cell_type": "markdown",
      "metadata": {
        "id": "l2O9Wdr7X5hC"
      },
      "source": [
        "\n",
        "\n",
        "* Listas: corchetes cuadrados [ \n",
        "             declaracion ()\n",
        "             mutable\n",
        "* tuplas:                                 \n",
        "            declaracion ()\n",
        "            no mutable\n",
        "\n",
        "* diccionarios\n",
        "          son mutables al igual que las listas \n",
        "          conjuntos de pares de llave ; valor\n",
        "          equivalente a Json\n",
        "\n",
        "* conjuntos\n",
        "          operaciones de conjuntos\n"
      ]
    },
    {
      "cell_type": "code",
      "metadata": {
        "id": "XjAgjOySZil6",
        "outputId": "975d5295-f47e-479d-b4d9-099fc2e16bf1",
        "colab": {
          "base_uri": "https://localhost:8080/",
          "height": 449
        }
      },
      "source": [
        "#Listas\n",
        "\n",
        "materias = [\"CyP\",\"DAA\",\"EDD\",\"IS\",\"POO\"]\n",
        "print(materias)\n",
        "#Operador selector de Listas\n",
        "print(materias[2])\n",
        "print(materias[-3])\n",
        "print(materias[::-1])\n",
        "# revisar apunte del 2 de octubre\n",
        "fecha = \"5 / octubre / 2020\"\n",
        "# funcion split\n",
        "#aqui creara una lista en base a los datos que separe el digito escrito en este ejemplo la diaglonal /\n",
        "lista_fecha = fecha.split(\"/\")\n",
        "print(lista_fecha)\n",
        "#crear un string a partir de una lista\n",
        "lista_hora = [\"15\",\"22\",\"45\"]\n",
        "#los : sera el string que los va a unir\n",
        "#hora sera el string generado a partir de el arreglo lista_hora\n",
        "hora = \":\".join(lista_hora)\n",
        "print(hora)\n",
        "print(\"----------------\")\n",
        "print(materias)\n",
        "print(lista_fecha)\n",
        "print(lista_hora)\n",
        "#las listas son mutables por lo que se puede hacer lo siguiente\n",
        "\n",
        "materias[0] = \"computadoras y programacion\"\n",
        "print(materias)\n",
        "#se ha modificado\n",
        "\n",
        "#tambien podemos agregar elementos\n",
        "\n",
        "materias.append(\"calida\")\n",
        "print(materias)\n",
        "\n",
        "#cuando quieres ponerlo en una pocicion especifica se usa insert\n",
        "\n",
        "materias.insert(2,\"emprendimiento\")\n",
        "print(materias)\n",
        "\n",
        "#funcion pop extrae el ultimo elemento y lo regresa en el indice\n",
        "print(\"--------------\")\n",
        "materia = materias.pop()\n",
        "print(materia)\n",
        "print(materias)\n",
        "#con el indice se especifica\n",
        "print(\"----------------\")\n",
        "materia2 = materias.pop(1)\n",
        "print(materia2)\n",
        "print(materias)\n",
        "#vacias una lista se utiliza el clear\n",
        "print(\"---------------\")\n",
        "materias.clear()\n",
        "print(materias)\n",
        "#slicing \n",
        "print(\"slicing\")\n",
        "numeros = [0,1,2,3,4,5,6,7,8,9]\n",
        "print(numeros)\n",
        "print(numeros[4:9:1])\n",
        "#sustituir un segmento de Lista con slicing [0,1,2,3,-2,9,10]\n",
        "#cambiamos del 4 al 8 por un valor nuevo en este caso -2\n",
        "numeros[3:9:1] = [-2]\n",
        "print(numeros)\n",
        "\n"
      ],
      "execution_count": 36,
      "outputs": [
        {
          "output_type": "stream",
          "text": [
            "['CyP', 'DAA', 'EDD', 'IS', 'POO']\n",
            "EDD\n",
            "EDD\n",
            "['POO', 'IS', 'EDD', 'DAA', 'CyP']\n",
            "['5 ', ' octubre ', ' 2020']\n",
            "15:22:45\n",
            "----------------\n",
            "['CyP', 'DAA', 'EDD', 'IS', 'POO']\n",
            "['5 ', ' octubre ', ' 2020']\n",
            "['15', '22', '45']\n",
            "['computadoras y programacion', 'DAA', 'EDD', 'IS', 'POO']\n",
            "['computadoras y programacion', 'DAA', 'EDD', 'IS', 'POO', 'calida']\n",
            "['computadoras y programacion', 'DAA', 'emprendimiento', 'EDD', 'IS', 'POO', 'calida']\n",
            "--------------\n",
            "calida\n",
            "['computadoras y programacion', 'DAA', 'emprendimiento', 'EDD', 'IS', 'POO']\n",
            "----------------\n",
            "DAA\n",
            "['computadoras y programacion', 'emprendimiento', 'EDD', 'IS', 'POO']\n",
            "---------------\n",
            "[]\n",
            "slicing\n",
            "[0, 1, 2, 3, 4, 5, 6, 7, 8, 9]\n",
            "[4, 5, 6, 7, 8]\n",
            "[0, 1, 2, -2, 9]\n"
          ],
          "name": "stdout"
        }
      ]
    },
    {
      "cell_type": "markdown",
      "metadata": {
        "id": "BFRWB7qdiTEY"
      },
      "source": [
        "## conjuntos multidimencionales"
      ]
    },
    {
      "cell_type": "code",
      "metadata": {
        "id": "11QQwtVtiT2X",
        "outputId": "31bee7a8-e3a3-4077-d4ac-d6d6f50cf712",
        "colab": {
          "base_uri": "https://localhost:8080/",
          "height": 72
        }
      },
      "source": [
        "autos = [\"mazda\",\"honda\",\"tesla\",\"akura\",\"ford\",\"vw\"]\n",
        "telefonos = [\"iPhone\",\"Huawei mate 30\",\"Xiami s10\",\"Alcatel\"]\n",
        "sistemas_operativos = [\"windows\",\"linux\",\"ios\",\"Android\",\"macOS\"]\n",
        "\n",
        "lista_2d = [autos,telefonos,sistemas_operativos]\n",
        "print(lista_2d)\n",
        "\n",
        "#para seleccionar algo\n",
        "\n",
        "print(lista_2d[1][1])\n",
        "\n"
      ],
      "execution_count": 38,
      "outputs": [
        {
          "output_type": "stream",
          "text": [
            "[['mazda', 'honda', 'tesla', 'akura', 'ford', 'vw'], ['iPhone', 'Huawei mate 30', 'Xiami s10', 'Alcatel'], ['windows', 'linux', 'ios', 'Android', 'macOS']]\n",
            "Huawei mate 30\n"
          ],
          "name": "stdout"
        }
      ]
    }
  ]
}