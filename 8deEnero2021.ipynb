{
  "nbformat": 4,
  "nbformat_minor": 0,
  "metadata": {
    "colab": {
      "name": "8deEnero2021.ipynb",
      "provenance": [],
      "authorship_tag": "ABX9TyN8wnfjgLsQqNDL2Gy0mrBM",
      "include_colab_link": true
    },
    "kernelspec": {
      "name": "python3",
      "display_name": "Python 3"
    }
  },
  "cells": [
    {
      "cell_type": "markdown",
      "metadata": {
        "id": "view-in-github",
        "colab_type": "text"
      },
      "source": [
        "<a href=\"https://colab.research.google.com/github/Erickson117/edd_1358_2021/blob/master/8deEnero2021.ipynb\" target=\"_parent\"><img src=\"https://colab.research.google.com/assets/colab-badge.svg\" alt=\"Open In Colab\"/></a>"
      ]
    },
    {
      "cell_type": "code",
      "metadata": {
        "id": "-OLAtrx8o6vI"
      },
      "source": [
        "class Queue:\r\n",
        "  def __init__(self):\r\n",
        "    self.__data = list()\r\n",
        "\r\n",
        "  def is_empty(self):\r\n",
        "    return len(self.__data) == 0\r\n",
        "\r\n",
        "  def lenght(self):\r\n",
        "    return len(self.__data)\r\n",
        "\r\n",
        "  def enqueue( self, item ):\r\n",
        "    self.__data.append(item)\r\n",
        "  \r\n",
        "  def dequeue( self ):\r\n",
        "    if not self.is_empty(): #en caso de que no este vacia\r\n",
        "      return self.__data.pop(0)\r\n",
        "\r\n",
        "    else:\r\n",
        "      return None #en caso de que este vacia\r\n",
        "  \r\n",
        "  def to_string( self ):\r\n",
        "    cadena = \"\"\r\n",
        "    for elem in self.__data:\r\n",
        "      cadena = cadena + \"|\" + elem\r\n",
        "    cadena = cadena + \"|\" \r\n",
        "    return cadena\r\n",
        "      \r\n"
      ],
      "execution_count": 14,
      "outputs": []
    },
    {
      "cell_type": "code",
      "metadata": {
        "id": "ppaXeTPkpZpL"
      },
      "source": [
        "class BoundePriorityQueue:\r\n",
        "  def __init__(self ,niveles):\r\n",
        "    self.__data = [Queue() for x in range(niveles)]\r\n",
        "    self.__size = 0\r\n",
        "  \r\n",
        "  def empty(self):\r\n",
        "    return self.__size == 0\r\n",
        "\r\n",
        "  def lenght(self):\r\n",
        "    return self.__size\r\n",
        "  \r\n",
        "  def enqueue(self, prioridad, elem):\r\n",
        "    \r\n",
        "    if prioridad < len(self.__data) and prioridad >= 0:\r\n",
        "      self.__data[prioridad].enqueue(elem)\r\n",
        "      self.__size += 1\r\n",
        "    else:\r\n",
        "      print(\"prioridad fuera de rango\")\r\n",
        "  \r\n",
        "  def denqueue(self):\r\n",
        "    if not self.empty():\r\n",
        "      nivel = 0\r\n",
        "      while self.__data[nivel].is_empty():\r\n",
        "        nivel += 1\r\n",
        "      return self.__data[nivel].denqueue()\r\n",
        "  \r\n",
        "  def to_string(self):\r\n",
        "    \r\n",
        "    for nivel in range(len(self.__data)):\r\n",
        "      print(f\"Nivel: {nivel}------> {self.__data[nivel].to_string()}\")\r\n",
        "    \r\n",
        "  \r\n"
      ],
      "execution_count": 20,
      "outputs": []
    },
    {
      "cell_type": "code",
      "metadata": {
        "colab": {
          "base_uri": "https://localhost:8080/"
        },
        "id": "Wz9aJzN-2lOA",
        "outputId": "dfd0d309-934f-4127-f7d3-c9087158c47c"
      },
      "source": [
        "cpa = BoundePriorityQueue(5)\r\n",
        "cpa.enqueue(2 , \"Diana\")\r\n",
        "cpa.to_string()\r\n",
        "cpa.enqueue(3 , \"Santiago\")\r\n",
        "cpa.enqueue(0 , \"Roberto\")\r\n",
        "cpa.enqueue(0 , \"Pedro\")\r\n",
        "cpa.enqueue(2 , \"Maria\")\r\n",
        "cpa.enqueue(3 , \"Jose\")\r\n",
        "cpa.enqueue(4 , \"Mayra\")\r\n",
        "cpa.enqueue(4 , \"Elena\")\r\n",
        "cpa.to_string()\r\n"
      ],
      "execution_count": 22,
      "outputs": [
        {
          "output_type": "stream",
          "text": [
            "Nivel: 0------> |\n",
            "Nivel: 1------> |\n",
            "Nivel: 2------> |Diana|\n",
            "Nivel: 3------> |\n",
            "Nivel: 4------> |\n",
            "Nivel: 0------> |Roberto|Pedro|\n",
            "Nivel: 1------> |\n",
            "Nivel: 2------> |Diana|Maria|\n",
            "Nivel: 3------> |Santiago|Jose|\n",
            "Nivel: 4------> |Mayra|Elena|\n"
          ],
          "name": "stdout"
        }
      ]
    }
  ]
}