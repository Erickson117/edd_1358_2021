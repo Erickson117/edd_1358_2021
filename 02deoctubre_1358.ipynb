{
  "nbformat": 4,
  "nbformat_minor": 0,
  "metadata": {
    "colab": {
      "name": "02deoctubre_1358.ipynb",
      "provenance": [],
      "authorship_tag": "ABX9TyNU2YKuK8XtS4U9p/zB5TWe",
      "include_colab_link": true
    },
    "kernelspec": {
      "name": "python3",
      "display_name": "Python 3"
    }
  },
  "cells": [
    {
      "cell_type": "markdown",
      "metadata": {
        "id": "view-in-github",
        "colab_type": "text"
      },
      "source": [
        "<a href=\"https://colab.research.google.com/github/Erickson117/edd_1358_2021/blob/master/02deoctubre_1358.ipynb\" target=\"_parent\"><img src=\"https://colab.research.google.com/assets/colab-badge.svg\" alt=\"Open In Colab\"/></a>"
      ]
    },
    {
      "cell_type": "markdown",
      "metadata": {
        "id": "2gLlEWMk2igD"
      },
      "source": [
        "# REPASO PYHON\n",
        "tipo de dato \n",
        "\n",
        "\n",
        "*   int = entero\n",
        "*   str = string\n",
        "*   float = flotante\n",
        "\n",
        "\n",
        "\n",
        "*  logico = bool\n",
        "*  numero complejo = complex\n",
        "*   listas = list\n",
        "*  tuplas = tuple\n",
        "*  diccionarios = dict\n",
        "*  conjuntos = set"
      ]
    },
    {
      "cell_type": "code",
      "metadata": {
        "id": "4KO4eeuo2eY8",
        "outputId": "cb91bc94-97f8-465d-bca7-6fa149754581",
        "colab": {
          "base_uri": "https://localhost:8080/",
          "height": 104
        }
      },
      "source": [
        "#String pueden emplear comillas dobles, comillas simples grupo de comillas triples\n",
        "universidad = \"universidad nacional autonoma de mexico\"\n",
        "print(universidad)\n",
        "#cuando el string es una sola palabra '' -> buena practica pero no es necesario\n",
        "carrera = 'ICO'\n",
        "area = 'software' \n",
        "division = 'ciencias fisico matematicas'\n",
        "print(carrera , area)\n",
        "print(division)\n",
        "#cuando el string imprime varios renglones \"\"\"\n",
        "frase = \"\"\" si funciona\n",
        "            no le muevas\"\"\"\n",
        "print(frase)\n",
        "\n",
        "\n",
        "\n"
      ],
      "execution_count": null,
      "outputs": [
        {
          "output_type": "stream",
          "text": [
            "universidad nacional autonoma de mexico\n",
            "ICO software\n",
            "ciencias fisico matematicas\n",
            " si funciona\n",
            "            no le muevas\n"
          ],
          "name": "stdout"
        }
      ]
    },
    {
      "cell_type": "markdown",
      "metadata": {
        "id": "JihD3kEK_U_I"
      },
      "source": [
        "len devuleve la longitud de la cadena\n",
        "#SLICING\n",
        "\n",
        "SINTAXIS \n",
        "[inicio : stop : incremento]"
      ]
    },
    {
      "cell_type": "code",
      "metadata": {
        "id": "EYnoCOgx5zwg",
        "outputId": "b406329d-e1c7-4d37-c0fa-8e498c544aea",
        "colab": {
          "base_uri": "https://localhost:8080/",
          "height": 207
        }
      },
      "source": [
        "#upper transforma el testo a mayusculas\n",
        "print(universidad.upper())\n",
        "print(universidad)\n",
        "#title pone mayuscula la primera letra de cada palabra \n",
        "print(universidad.title())\n",
        "#elimina espacios de la izquierda\n",
        "print(universidad.strip())\n",
        "\n",
        "lista = universidad.split(\" \")\n",
        "print(lista)\n",
        "nueva = \"\"\n",
        "for l in lista:\n",
        "  if len(l) > 0:\n",
        "    nueva +=  l +  \" \"\n",
        "print(nueva)\n",
        "\n",
        "numeros = \"1,2,3,4,5,6\"\n",
        "separados = numeros.split(\",\")\n",
        "print(separados)\n",
        "numeros_int = []\n",
        "for l in separados:\n",
        "  numeros_int.append(int (num))\n",
        "\n",
        "print(numeros_int)\n",
        "print(nueva)\n",
        "print(nueva.index(\"na\"))\n",
        "nueva.replace('','-')\n",
        "print(nueva)\n",
        "\n",
        "\n",
        "\n",
        "\n",
        "\n",
        "\n",
        "\n",
        "\n"
      ],
      "execution_count": 44,
      "outputs": [
        {
          "output_type": "stream",
          "text": [
            "UNIVERSIDAD NACIONAL AUTONOMA DE MEXICO\n",
            "universidad nacional autonoma de mexico\n",
            "Universidad Nacional Autonoma De Mexico\n",
            "universidad nacional autonoma de mexico\n",
            "['universidad', 'nacional', 'autonoma', 'de', 'mexico']\n",
            "universidad nacional autonoma de mexico \n",
            "['1', '2', '3', '4', '5', '6']\n",
            "[6, 6, 6, 6, 6, 6]\n",
            "universidad nacional autonoma de mexico \n",
            "12\n",
            "universidad nacional autonoma de mexico \n"
          ],
          "name": "stdout"
        }
      ]
    },
    {
      "cell_type": "code",
      "metadata": {
        "id": "9OIECadwAYdX",
        "outputId": "3908cffc-de9d-4347-d362-7726fe2e8b3e",
        "colab": {
          "base_uri": "https://localhost:8080/",
          "height": 121
        }
      },
      "source": [
        "print(nueva[0])\n",
        "nueva = nueva.strip()\n",
        "print ( nueva[len(nueva) -1])\n",
        "print(nueva[-2])\n",
        "\n",
        "#slicing\n",
        "\n",
        "print( nueva[12 : 20 : 1])\n",
        "print(nueva[-6 : : 1])\n",
        "#mexico al raves con slicing\n",
        "print(nueva[-1 : -7 : -1])\n",
        "#valores por defecto [0 : longitud de la cadena : 1]\n",
        "\n",
        "\n"
      ],
      "execution_count": 45,
      "outputs": [
        {
          "output_type": "stream",
          "text": [
            "u\n",
            "o\n",
            "c\n",
            "nacional\n",
            "mexico\n",
            "ocixem\n"
          ],
          "name": "stdout"
        }
      ]
    },
    {
      "cell_type": "markdown",
      "metadata": {
        "id": "39KkTJB-E4HF"
      },
      "source": [
        "#BOOl solo acepta 2 valores \n",
        "true o  false"
      ]
    },
    {
      "cell_type": "code",
      "metadata": {
        "id": "XyiFXcgkEU1N",
        "outputId": "398b4c2b-5d98-467e-a046-76421552505f",
        "colab": {
          "base_uri": "https://localhost:8080/",
          "height": 69
        }
      },
      "source": [
        "print(bool(0))\n",
        "print(bool(423423))\n",
        "flag = 0\n",
        "print(bool(0))"
      ],
      "execution_count": 46,
      "outputs": [
        {
          "output_type": "stream",
          "text": [
            "False\n",
            "True\n",
            "False\n"
          ],
          "name": "stdout"
        }
      ]
    },
    {
      "cell_type": "code",
      "metadata": {
        "id": "QPTJG1FXFpax"
      },
      "source": [
        "## comentario de una linea \n",
        "\"\"\"comentrio \n",
        "   de multiple linea\n",
        "   \"\"\""
      ],
      "execution_count": null,
      "outputs": []
    },
    {
      "cell_type": "markdown",
      "metadata": {
        "id": "NMfcWI0SFyT2"
      },
      "source": [
        "print\n",
        "hay cuatro formas de usar print con (,) con signo (+)\n",
        "con la funcion format()"
      ]
    },
    {
      "cell_type": "code",
      "metadata": {
        "id": "2aNCg12eFzv7",
        "outputId": "dd721881-c644-4858-ed7b-bc79244a61ad",
        "colab": {
          "base_uri": "https://localhost:8080/",
          "height": 86
        }
      },
      "source": [
        "cantidad = 2\n",
        "precio_chetos = 8\n",
        "precio_fanta = 12\n",
        "print(cantidad,precio_chetos,precio_fanta)\n",
        "#con signo mas solo opera con strings\n",
        "print(\"hola\"+\"mundo\")\n",
        "#hizo la suma antes de imprimir \n",
        "print(cantidad+precio_chetos+precio_fanta)\n",
        "#para que no pase hay que volverlos string\n",
        "print(str(cantidad)+str(precio_chetos)+str(precio_fanta))\n"
      ],
      "execution_count": 47,
      "outputs": [
        {
          "output_type": "stream",
          "text": [
            "2 8 12\n",
            "holamundo\n",
            "22\n",
            "2812\n"
          ],
          "name": "stdout"
        }
      ]
    }
  ]
}