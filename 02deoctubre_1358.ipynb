{
  "nbformat": 4,
  "nbformat_minor": 0,
  "metadata": {
    "colab": {
      "name": "02deoctubre_1358.ipynb",
      "provenance": [],
      "authorship_tag": "ABX9TyNli83/A2Eh0M95gBSkNblD",
      "include_colab_link": true
    },
    "kernelspec": {
      "name": "python3",
      "display_name": "Python 3"
    }
  },
  "cells": [
    {
      "cell_type": "markdown",
      "metadata": {
        "id": "view-in-github",
        "colab_type": "text"
      },
      "source": [
        "<a href=\"https://colab.research.google.com/github/Erickson117/edd_1358_2021/blob/master/02deoctubre_1358.ipynb\" target=\"_parent\"><img src=\"https://colab.research.google.com/assets/colab-badge.svg\" alt=\"Open In Colab\"/></a>"
      ]
    },
    {
      "cell_type": "markdown",
      "metadata": {
        "id": "2gLlEWMk2igD"
      },
      "source": [
        "# REPASO PYHON\n",
        "tipo de dato \n",
        "\n",
        "\n",
        "*   int = entero\n",
        "*   str = string\n",
        "*   float = flotante\n",
        "\n",
        "\n",
        "\n",
        "*  logico = bool\n",
        "*  numero complejo = complex\n",
        "*   listas = list\n",
        "*  tuplas = tuple\n",
        "*  diccionarios = dict\n",
        "*  conjuntos = set"
      ]
    },
    {
      "cell_type": "code",
      "metadata": {
        "id": "4KO4eeuo2eY8",
        "outputId": "cb91bc94-97f8-465d-bca7-6fa149754581",
        "colab": {
          "base_uri": "https://localhost:8080/",
          "height": 104
        }
      },
      "source": [
        "#String pueden emplear comillas dobles, comillas simples grupo de comillas triples\n",
        "universidad = \"universidad nacional autonoma de mexico\"\n",
        "print(universidad)\n",
        "#cuando el string es una sola palabra '' -> buena practica pero no es necesario\n",
        "carrera = 'ICO'\n",
        "area = 'software' \n",
        "division = 'ciencias fisico matematicas'\n",
        "print(carrera , area)\n",
        "print(division)\n",
        "#cuando el string imprime varios renglones \"\"\"\n",
        "frase = \"\"\" si funciona\n",
        "            no le muevas\"\"\"\n",
        "print(frase)\n",
        "\n",
        "\n",
        "\n"
      ],
      "execution_count": 3,
      "outputs": [
        {
          "output_type": "stream",
          "text": [
            "universidad nacional autonoma de mexico\n",
            "ICO software\n",
            "ciencias fisico matematicas\n",
            " si funciona\n",
            "            no le muevas\n"
          ],
          "name": "stdout"
        }
      ]
    },
    {
      "cell_type": "code",
      "metadata": {
        "id": "EYnoCOgx5zwg",
        "outputId": "9ccf899b-000c-4b4c-e29e-ae189ae3d305",
        "colab": {
          "base_uri": "https://localhost:8080/",
          "height": 132
        }
      },
      "source": [
        "#upper transforma el testo a mayusculas\n",
        "print(universidad.upper())\n",
        "print(universidad)\n",
        "#title pone mayuscula la primera letra de cada palabra \n",
        "print(universidad.title())\n",
        "#elimina espacios de la izquierda\n",
        "print(universidad.strip())\n",
        "\n",
        "lista = universidad.split(\" \")\n",
        "print(lista)\n",
        "nueva = \"\"\n",
        "for 1 in lista:\n",
        "  if len(1) > 0:\n",
        "   nueva += 1 + \"\"\n",
        "#print(nueva)\n",
        "\n",
        "numeros = \"1,2,3,4,5,6\"\n",
        "separados = numeros.split(\",\")\n",
        "print(separados)\n",
        "numeros_int = []\n",
        "for num in separados:\n",
        "  numeros_int.append(int (num))\n",
        "\n",
        "print(numeros_int)\n",
        "print(nueva)\n",
        "#print(nueva.index(\"na\"))\n",
        "nueva.replace('','-')\n",
        "print(nueva)\n",
        "\n",
        "\n",
        "\n",
        "\n",
        "\n",
        "\n",
        "\n",
        "\n"
      ],
      "execution_count": 28,
      "outputs": [
        {
          "output_type": "error",
          "ename": "SyntaxError",
          "evalue": "ignored",
          "traceback": [
            "\u001b[0;36m  File \u001b[0;32m\"<ipython-input-28-535a50a57cb7>\"\u001b[0;36m, line \u001b[0;32m12\u001b[0m\n\u001b[0;31m    for 1 in lista:\u001b[0m\n\u001b[0m       ^\u001b[0m\n\u001b[0;31mSyntaxError\u001b[0m\u001b[0;31m:\u001b[0m can't assign to literal\n"
          ]
        }
      ]
    },
    {
      "cell_type": "markdown",
      "metadata": {
        "id": "JihD3kEK_U_I"
      },
      "source": [
        "len devuleve la longitud de la cadena\n",
        "#SLICING\n",
        "\n",
        "SINTAXIS \n",
        "[inicio : stop : incremento]"
      ]
    },
    {
      "cell_type": "code",
      "metadata": {
        "id": "9OIECadwAYdX",
        "outputId": "7c8c35f1-8338-4292-fd8e-7760c4e83439",
        "colab": {
          "base_uri": "https://localhost:8080/",
          "height": 52
        }
      },
      "source": [
        "#print(nueva[0])\n",
        "nueva = nueva.strip()\n",
        "#print ( nueva[len(nueva) -1])\n",
        "print(nueva[-2])\n",
        "\n",
        "#slicing\n",
        "\n",
        "print( nueva[12 : 20 : 1])\n",
        "print(nueva[-6 : : 1])\n",
        "#mexico al raves con slicing\n",
        "print(nueva[-1 : -7 : -1])\n",
        "#valores por defecto [0 : longitud de la cadena : 1]\n",
        "\n",
        "\n"
      ],
      "execution_count": 31,
      "outputs": [
        {
          "output_type": "stream",
          "text": [
            "\n",
            "\n"
          ],
          "name": "stdout"
        }
      ]
    }
  ]
}