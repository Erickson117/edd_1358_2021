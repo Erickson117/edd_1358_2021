{
  "nbformat": 4,
  "nbformat_minor": 0,
  "metadata": {
    "colab": {
      "name": "02deoctubre_1358.ipynb",
      "provenance": [],
      "authorship_tag": "ABX9TyM/cL/lEz9cuUSKLjy617x/",
      "include_colab_link": true
    },
    "kernelspec": {
      "name": "python3",
      "display_name": "Python 3"
    }
  },
  "cells": [
    {
      "cell_type": "markdown",
      "metadata": {
        "id": "view-in-github",
        "colab_type": "text"
      },
      "source": [
        "<a href=\"https://colab.research.google.com/github/Erickson117/edd_1358_2021/blob/master/02deoctubre_1358.ipynb\" target=\"_parent\"><img src=\"https://colab.research.google.com/assets/colab-badge.svg\" alt=\"Open In Colab\"/></a>"
      ]
    },
    {
      "cell_type": "markdown",
      "metadata": {
        "id": "2gLlEWMk2igD"
      },
      "source": [
        "# REPASO PYHON\n",
        "tipo de dato \n",
        "\n",
        "\n",
        "*   int = entero\n",
        "*   str = string\n",
        "*   float = flotante\n",
        "\n",
        "\n",
        "\n",
        "*  logico = bool\n",
        "*  numero complejo = complex\n",
        "*   listas = list\n",
        "*  tuplas = tuple\n",
        "*  diccionarios = dict\n",
        "*  conjuntos = set"
      ]
    },
    {
      "cell_type": "code",
      "metadata": {
        "id": "4KO4eeuo2eY8",
        "outputId": "cb91bc94-97f8-465d-bca7-6fa149754581",
        "colab": {
          "base_uri": "https://localhost:8080/",
          "height": 104
        }
      },
      "source": [
        "#String pueden emplear comillas dobles, comillas simples grupo de comillas triples\n",
        "universidad = \"universidad nacional autonoma de mexico\"\n",
        "print(universidad)\n",
        "#cuando el string es una sola palabra '' -> buena practica pero no es necesario\n",
        "carrera = 'ICO'\n",
        "area = 'software' \n",
        "division = 'ciencias fisico matematicas'\n",
        "print(carrera , area)\n",
        "print(division)\n",
        "#cuando el string imprime varios renglones \"\"\"\n",
        "frase = \"\"\" si funciona\n",
        "            no le muevas\"\"\"\n",
        "print(frase)\n",
        "\n",
        "\n",
        "\n"
      ],
      "execution_count": 3,
      "outputs": [
        {
          "output_type": "stream",
          "text": [
            "universidad nacional autonoma de mexico\n",
            "ICO software\n",
            "ciencias fisico matematicas\n",
            " si funciona\n",
            "            no le muevas\n"
          ],
          "name": "stdout"
        }
      ]
    },
    {
      "cell_type": "markdown",
      "metadata": {
        "id": "JihD3kEK_U_I"
      },
      "source": [
        "len devuleve la longitud de la cadena\n",
        "#SLICING\n",
        "\n",
        "SINTAXIS \n",
        "[inicio : stop : incremento]"
      ]
    },
    {
      "cell_type": "code",
      "metadata": {
        "id": "EYnoCOgx5zwg",
        "outputId": "dfe5640d-18a1-4ec2-c9ed-5951bc60e79d",
        "colab": {
          "base_uri": "https://localhost:8080/",
          "height": 132
        }
      },
      "source": [
        "#upper transforma el testo a mayusculas\n",
        "print(universidad.upper())\n",
        "print(universidad)\n",
        "#title pone mayuscula la primera letra de cada palabra \n",
        "print(universidad.title())\n",
        "#elimina espacios de la izquierda\n",
        "print(universidad.strip())\n",
        "\n",
        "lista = universidad.split(\" \")\n",
        "print(lista)\n",
        "nueva = \"\"\n",
        "#for 1 in lista:\n",
        "  #if len(1) > 0:\n",
        "   #nueva += 1 + \"\"\n",
        "#print(nueva)\n",
        "\n",
        "numeros = \"1,2,3,4,5,6\"\n",
        "separados = numeros.split(\",\")\n",
        "print(separados)\n",
        "numeros_int = []\n",
        "for 1 in separados:\n",
        "  numeros_int.append(int (num))\n",
        "\n",
        "print(numeros_int)\n",
        "print(nueva)\n",
        "#print(nueva.index(\"na\"))\n",
        "nueva.replace('','-')\n",
        "print(nueva)\n",
        "\n",
        "\n",
        "\n",
        "\n",
        "\n",
        "\n",
        "\n",
        "\n"
      ],
      "execution_count": 35,
      "outputs": [
        {
          "output_type": "error",
          "ename": "SyntaxError",
          "evalue": "ignored",
          "traceback": [
            "\u001b[0;36m  File \u001b[0;32m\"<ipython-input-35-5c0b3056a43c>\"\u001b[0;36m, line \u001b[0;32m12\u001b[0m\n\u001b[0;31m    for 1 in lista:\u001b[0m\n\u001b[0m       ^\u001b[0m\n\u001b[0;31mSyntaxError\u001b[0m\u001b[0;31m:\u001b[0m can't assign to literal\n"
          ]
        }
      ]
    },
    {
      "cell_type": "code",
      "metadata": {
        "id": "9OIECadwAYdX",
        "outputId": "024d520e-12ec-4c9d-d511-c9978e3523fd",
        "colab": {
          "base_uri": "https://localhost:8080/",
          "height": 235
        }
      },
      "source": [
        "#print(nueva[0])\n",
        "nueva = nueva.strip()\n",
        "#print ( nueva[len(nueva) -1])\n",
        "print(nueva[-2])\n",
        "\n",
        "#slicing\n",
        "\n",
        "print( nueva[12 : 20 : 1])\n",
        "print(nueva[-6 : : 1])\n",
        "#mexico al raves con slicing\n",
        "print(nueva[-1 : -7 : -1])\n",
        "#valores por defecto [0 : longitud de la cadena : 1]\n",
        "\n",
        "\n"
      ],
      "execution_count": 36,
      "outputs": [
        {
          "output_type": "error",
          "ename": "IndexError",
          "evalue": "ignored",
          "traceback": [
            "\u001b[0;31m---------------------------------------------------------------------------\u001b[0m",
            "\u001b[0;31mIndexError\u001b[0m                                Traceback (most recent call last)",
            "\u001b[0;32m<ipython-input-36-c18da9f21f68>\u001b[0m in \u001b[0;36m<module>\u001b[0;34m()\u001b[0m\n\u001b[1;32m      2\u001b[0m \u001b[0mnueva\u001b[0m \u001b[0;34m=\u001b[0m \u001b[0mnueva\u001b[0m\u001b[0;34m.\u001b[0m\u001b[0mstrip\u001b[0m\u001b[0;34m(\u001b[0m\u001b[0;34m)\u001b[0m\u001b[0;34m\u001b[0m\u001b[0;34m\u001b[0m\u001b[0m\n\u001b[1;32m      3\u001b[0m \u001b[0;31m#print ( nueva[len(nueva) -1])\u001b[0m\u001b[0;34m\u001b[0m\u001b[0;34m\u001b[0m\u001b[0;34m\u001b[0m\u001b[0m\n\u001b[0;32m----> 4\u001b[0;31m \u001b[0mprint\u001b[0m\u001b[0;34m(\u001b[0m\u001b[0mnueva\u001b[0m\u001b[0;34m[\u001b[0m\u001b[0;34m-\u001b[0m\u001b[0;36m2\u001b[0m\u001b[0;34m]\u001b[0m\u001b[0;34m)\u001b[0m\u001b[0;34m\u001b[0m\u001b[0;34m\u001b[0m\u001b[0m\n\u001b[0m\u001b[1;32m      5\u001b[0m \u001b[0;34m\u001b[0m\u001b[0m\n\u001b[1;32m      6\u001b[0m \u001b[0;31m#slicing\u001b[0m\u001b[0;34m\u001b[0m\u001b[0;34m\u001b[0m\u001b[0;34m\u001b[0m\u001b[0m\n",
            "\u001b[0;31mIndexError\u001b[0m: string index out of range"
          ]
        }
      ]
    },
    {
      "cell_type": "markdown",
      "metadata": {
        "id": "39KkTJB-E4HF"
      },
      "source": [
        "#BOOl solo acepta 2 valores \n",
        "true o  false"
      ]
    },
    {
      "cell_type": "code",
      "metadata": {
        "id": "XyiFXcgkEU1N",
        "outputId": "c1c78b35-a5cc-4cf5-98ca-669d47cb64f4",
        "colab": {
          "base_uri": "https://localhost:8080/",
          "height": 69
        }
      },
      "source": [
        "print(bool(0))\n",
        "print(bool(423423))\n",
        "flag = 0\n",
        "print(bool(0))"
      ],
      "execution_count": 37,
      "outputs": [
        {
          "output_type": "stream",
          "text": [
            "False\n",
            "True\n",
            "False\n"
          ],
          "name": "stdout"
        }
      ]
    },
    {
      "cell_type": "code",
      "metadata": {
        "id": "QPTJG1FXFpax"
      },
      "source": [
        "## comentario de una linea \n",
        "\"\"\"comentrio \n",
        "   de multiple linea\n",
        "   \"\"\""
      ],
      "execution_count": null,
      "outputs": []
    },
    {
      "cell_type": "markdown",
      "metadata": {
        "id": "NMfcWI0SFyT2"
      },
      "source": [
        "print\n",
        "hay cuatro formas de usar print con (,) con signo (+)\n",
        "con la funcion format()"
      ]
    },
    {
      "cell_type": "code",
      "metadata": {
        "id": "2aNCg12eFzv7",
        "outputId": "bf2f8915-8701-4ba4-a370-d4ba06b26634",
        "colab": {
          "base_uri": "https://localhost:8080/",
          "height": 86
        }
      },
      "source": [
        "cantidad = 2\n",
        "precio_chetos = 8\n",
        "precio_fanta = 12\n",
        "print(cantidad,precio_chetos,precio_fanta)\n",
        "#con signo mas solo opera con strings\n",
        "print(\"hola\"+\"mundo\")\n",
        "#hizo la suma antes de imprimir \n",
        "print(cantidad+precio_chetos+precio_fanta)\n",
        "#para que no pase hay que volverlos string\n",
        "print(str(cantidad)+str(precio_chetos)+str(precio_fanta))\n"
      ],
      "execution_count": 41,
      "outputs": [
        {
          "output_type": "stream",
          "text": [
            "2 8 12\n",
            "holamundo\n",
            "22\n",
            "2812\n"
          ],
          "name": "stdout"
        }
      ]
    }
  ]
}