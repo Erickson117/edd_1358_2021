{
  "nbformat": 4,
  "nbformat_minor": 0,
  "metadata": {
    "colab": {
      "name": "11deNoviembre_1358.ipynb",
      "provenance": [],
      "authorship_tag": "ABX9TyP3RGR3YRKEdLxb7iFiNTBY",
      "include_colab_link": true
    },
    "kernelspec": {
      "name": "python3",
      "display_name": "Python 3"
    }
  },
  "cells": [
    {
      "cell_type": "markdown",
      "metadata": {
        "id": "view-in-github",
        "colab_type": "text"
      },
      "source": [
        "<a href=\"https://colab.research.google.com/github/Erickson117/edd_1358_2021/blob/master/11deNoviembre_1358.ipynb\" target=\"_parent\"><img src=\"https://colab.research.google.com/assets/colab-badge.svg\" alt=\"Open In Colab\"/></a>"
      ]
    },
    {
      "cell_type": "code",
      "metadata": {
        "id": "GrKZoQdPFX6R",
        "outputId": "1506f1f7-24e2-4018-95fa-283260215930",
        "colab": {
          "base_uri": "https://localhost:8080/"
        }
      },
      "source": [
        "class Nodo:\n",
        "  def __init__(self, dato):\n",
        "    self.__dato = dato\n",
        "    self.__siguiente = None\n",
        "\n",
        "  def get_dato(self):\n",
        "    return self.__dato\n",
        "\n",
        "  def set_dato(self,d):\n",
        "    self.__dato = d\n",
        "\n",
        "  def get_siguiente(self):\n",
        "    return self.__siguiente\n",
        "\n",
        "  def set_siguiente(self,s):\n",
        "    self.__siguiente = s\n",
        "\n",
        "  def show(self):\n",
        "    curr_node = self #head\n",
        "    print(\"inicio de la estructura ligada\")\n",
        "    print(\"|\"+ str(curr_node.get_dato() ) +\"| -->\", end = \"\")\n",
        "    while( curr_node.get_siguiente() != None ):\n",
        "      curr_node = curr_node.get_siguiente()\n",
        "      print(\"|\" + str(curr_node.get_dato()) + \"| -->\", end = \"\")\n",
        "    print(\"\\n Fin\")\n",
        "\n",
        "\n",
        "# Ejemplo 1\n",
        "a = Nodo( 10 )\n",
        "a.show()\n",
        "\n",
        "#Ejemplo 2\n",
        "a.set_siguiente(Nodo(20))\n",
        "a.show()\n",
        "\n",
        "#Ejemplo 3\n",
        "a.get_siguiente().set_siguiente(Nodo(30))\n",
        "a.show()\n",
        "\n",
        "#Ejemplo 4\n",
        "a.get_siguiente().get_siguiente().set_siguiente(Nodo(40))\n",
        "a.show()\n",
        "\n",
        "#Ejemplo 5\n",
        "a.get_siguiente().get_siguiente().get_siguiente().set_siguiente(Nodo(50))\n",
        "a.show()\n",
        "\n",
        "#Ejemplo 6 cambio de valor nodo 1\n",
        "a.set_dato(12)\n",
        "a.show()\n",
        "\n",
        "#Ejemplo 7\n",
        "\n",
        "a.get_siguiente().get_siguiente().get_siguiente().set_dato(45)\n",
        "a.show()\n",
        "\n",
        "#Ejemplo 8\n",
        "a.get_siguiente().get_siguiente().get_siguiente().get_siguiente().set_siguiente(Nodo(60))\n",
        "a.show()\n",
        "\n",
        "#Ejemplo 9\n",
        "a.get_siguiente().set_dato(25)\n",
        "a.show()\n",
        "\n"
      ],
      "execution_count": 24,
      "outputs": [
        {
          "output_type": "stream",
          "text": [
            "inicio de la estructura ligada\n",
            "|10| -->\n",
            " Fin\n",
            "inicio de la estructura ligada\n",
            "|10| -->|20| -->\n",
            " Fin\n",
            "inicio de la estructura ligada\n",
            "|10| -->|20| -->|30| -->\n",
            " Fin\n",
            "inicio de la estructura ligada\n",
            "|10| -->|20| -->|30| -->|40| -->\n",
            " Fin\n",
            "inicio de la estructura ligada\n",
            "|10| -->|20| -->|30| -->|40| -->|50| -->\n",
            " Fin\n",
            "inicio de la estructura ligada\n",
            "|12| -->|20| -->|30| -->|40| -->|50| -->\n",
            " Fin\n",
            "inicio de la estructura ligada\n",
            "|12| -->|20| -->|30| -->|45| -->|50| -->\n",
            " Fin\n",
            "inicio de la estructura ligada\n",
            "|12| -->|20| -->|30| -->|45| -->|50| -->|60| -->\n",
            " Fin\n",
            "inicio de la estructura ligada\n",
            "|12| -->|25| -->|30| -->|45| -->|50| -->|60| -->\n",
            " Fin\n"
          ],
          "name": "stdout"
        }
      ]
    }
  ]
}