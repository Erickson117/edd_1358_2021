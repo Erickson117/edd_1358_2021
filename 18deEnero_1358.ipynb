{
  "nbformat": 4,
  "nbformat_minor": 0,
  "metadata": {
    "colab": {
      "name": "18deEnero_1358.ipynb",
      "provenance": [],
      "authorship_tag": "ABX9TyN+uOqXD/Z4usiU/Eu3KFwp",
      "include_colab_link": true
    },
    "kernelspec": {
      "name": "python3",
      "display_name": "Python 3"
    }
  },
  "cells": [
    {
      "cell_type": "markdown",
      "metadata": {
        "id": "view-in-github",
        "colab_type": "text"
      },
      "source": [
        "<a href=\"https://colab.research.google.com/github/Erickson117/edd_1358_2021/blob/master/18deEnero_1358.ipynb\" target=\"_parent\"><img src=\"https://colab.research.google.com/assets/colab-badge.svg\" alt=\"Open In Colab\"/></a>"
      ]
    },
    {
      "cell_type": "code",
      "metadata": {
        "id": "0Ji9vy-2RM5-"
      },
      "source": [
        "class NodoArbol:\r\n",
        "  def __init__(self, value, left = None, right = None):\r\n",
        "    self.data = value\r\n",
        "    self.left = left\r\n",
        "    self.right = right\r\n",
        "  \r\n",
        "  "
      ],
      "execution_count": 1,
      "outputs": []
    },
    {
      "cell_type": "code",
      "metadata": {
        "id": "YCOQswXhS6Gw"
      },
      "source": [
        "class ArbolBinarioBusqueda:\r\n",
        "  def __init__( self ):\r\n",
        "    self.__root = None\r\n",
        "\r\n",
        "  def insert( self , value):\r\n",
        "    if self.__root == None:\r\n",
        "      self.__root = NodoArbol(value)\r\n",
        "    else:\r\n",
        "      self.__insert__( self.__root , value)\r\n",
        "\r\n",
        "\r\n",
        "  def __insert__( self, nodo, value): #recursividad\r\n",
        "    if nodo.data == value:\r\n",
        "      print(\"El nodo ya existe, no se inserta: \", value)\r\n",
        "    elif value < nodo.data:\r\n",
        "      #ir a la izq\r\n",
        "      if nodo.left == None:\r\n",
        "        nodo.left = NodoArbol(value)\r\n",
        "      else:\r\n",
        "        self.__insert__( nodo.left, value)\r\n",
        "      \r\n",
        "    else:\r\n",
        "      #ir a la der\r\n",
        "      if nodo.right == None:\r\n",
        "        nodo.right = NodoArbol(value)\r\n",
        "      else:\r\n",
        "        self.__insert__(nodo.right,value)\r\n",
        "  \r\n",
        "  \r\n"
      ],
      "execution_count": 11,
      "outputs": []
    },
    {
      "cell_type": "code",
      "metadata": {
        "colab": {
          "base_uri": "https://localhost:8080/"
        },
        "id": "UhTJ-8vidKv1",
        "outputId": "657e41e9-7052-41d1-c323-2861b2e0ccee"
      },
      "source": [
        "abb = ArbolBinarioBusqueda()\r\n",
        "abb.insert(40)\r\n",
        "abb.insert(40)\r\n",
        "abb.insert(30)\r\n",
        "abb.insert(30)"
      ],
      "execution_count": 12,
      "outputs": [
        {
          "output_type": "stream",
          "text": [
            "El nodo ya existe, no se inserta:  40\n",
            "El nodo ya existe, no se inserta:  30\n"
          ],
          "name": "stdout"
        }
      ]
    }
  ]
}