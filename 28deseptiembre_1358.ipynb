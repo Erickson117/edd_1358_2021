{
  "nbformat": 4,
  "nbformat_minor": 0,
  "metadata": {
    "colab": {
      "name": "28deseptiembre_1358.ipynb",
      "provenance": [],
      "collapsed_sections": [],
      "authorship_tag": "ABX9TyN7Od9UIee+//NnQuSR3qQN",
      "include_colab_link": true
    },
    "kernelspec": {
      "name": "python3",
      "display_name": "Python 3"
    }
  },
  "cells": [
    {
      "cell_type": "markdown",
      "metadata": {
        "id": "view-in-github",
        "colab_type": "text"
      },
      "source": [
        "<a href=\"https://colab.research.google.com/github/Erickson117/edd_1358_2021/blob/master/28deseptiembre_1358.ipynb\" target=\"_parent\"><img src=\"https://colab.research.google.com/assets/colab-badge.svg\" alt=\"Open In Colab\"/></a>"
      ]
    },
    {
      "cell_type": "code",
      "metadata": {
        "id": "l-c-PPhbXSEN",
        "outputId": "afe0ac29-c435-4d85-8b53-c2644d2700a9",
        "colab": {
          "base_uri": "https://localhost:8080/",
          "height": 34
        }
      },
      "source": [
        "print(\"hola colab reserch\")\n",
        "nombre = \" EdD \""
      ],
      "execution_count": 3,
      "outputs": [
        {
          "output_type": "stream",
          "text": [
            "hola colab reserch\n"
          ],
          "name": "stdout"
        }
      ]
    },
    {
      "cell_type": "code",
      "metadata": {
        "id": "O2LhYcSvXsVh",
        "outputId": "a9d3a63c-13ab-48b6-c19b-25f825ac48b2",
        "colab": {
          "base_uri": "https://localhost:8080/",
          "height": 34
        }
      },
      "source": [
        "print(nombre)"
      ],
      "execution_count": 4,
      "outputs": [
        {
          "output_type": "stream",
          "text": [
            " EdD \n"
          ],
          "name": "stdout"
        }
      ]
    },
    {
      "cell_type": "code",
      "metadata": {
        "id": "9hnrQT4BfikO"
      },
      "source": [
        "class Silla():\n",
        "  def _init_ (self):\n",
        "    self.material = \"\"\n",
        "    self.color = \"\"\n",
        "  def to_string(self):\n",
        "    print(\"-------\")\n",
        "    print(f\"Material: {self.material}\")\n",
        "    print(f\"{self.color}------\")\n",
        "    \n",
        "\n"
      ],
      "execution_count": 1,
      "outputs": []
    },
    {
      "cell_type": "code",
      "metadata": {
        "id": "Qv4x0I-IhGZx",
        "outputId": "7fea1789-8027-4c05-87c9-9bdd1ec09ef4",
        "colab": {
          "base_uri": "https://localhost:8080/",
          "height": 67
        }
      },
      "source": [
        "obj = Silla()\n",
        "obj.material = \"madera\"\n",
        "obj.color = \"rojo\"\n",
        "obj.to_string()\n"
      ],
      "execution_count": 2,
      "outputs": [
        {
          "output_type": "stream",
          "text": [
            "-------\n",
            "Material: madera\n",
            "rojo------\n"
          ],
          "name": "stdout"
        }
      ]
    }
  ]
}