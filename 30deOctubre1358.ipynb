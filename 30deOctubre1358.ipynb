{
  "nbformat": 4,
  "nbformat_minor": 0,
  "metadata": {
    "colab": {
      "name": "30deOctubre1358.ipynb",
      "provenance": [],
      "authorship_tag": "ABX9TyN9XAQpBlENvQyp3Rlnbqdo",
      "include_colab_link": true
    },
    "kernelspec": {
      "name": "python3",
      "display_name": "Python 3"
    }
  },
  "cells": [
    {
      "cell_type": "markdown",
      "metadata": {
        "id": "view-in-github",
        "colab_type": "text"
      },
      "source": [
        "<a href=\"https://colab.research.google.com/github/Erickson117/edd_1358_2021/blob/master/30deOctubre1358.ipynb\" target=\"_parent\"><img src=\"https://colab.research.google.com/assets/colab-badge.svg\" alt=\"Open In Colab\"/></a>"
      ]
    },
    {
      "cell_type": "code",
      "metadata": {
        "id": "i3dSWU0gTGoW"
      },
      "source": [
        "\"\"\"\n",
        "Array\n",
        "\"\"\"\n",
        "\n",
        "class Array:\n",
        "  def __init__(self,tam):\n",
        "    self.__datos = [0 for x in range(tam) ]\n",
        "\n",
        "  def get_item(self, index):\n",
        "    dato = 0\n",
        "    if index >= 0 and index < len(self.__datos):\n",
        "      dato = self.__datos[index]\n",
        "    else:\n",
        "      print(\"error en el indice\")\n",
        "\n",
        "    return dato\n",
        "  \n",
        "  def set_item(self, index , dato):\n",
        "     if index >= 0 and index < len(self.__datos):\n",
        "       self.__datos[index] = dato\n",
        "     else:\n",
        "       print(\"error en el indice\")\n",
        "  \n",
        "  def get_leght(self):\n",
        "    tamano = len(self.__datos)\n",
        "    return tamano\n",
        "  def clear(self,dato):\n",
        "    self.__datos = [ dato for x in range(self.__tam)]\n",
        "  def __iter__(self):\n",
        "    return _getIterador(self.__datos)\n",
        "\n",
        "\n",
        "\n",
        "class _getIterador:\n",
        "  def __init__(self,arreglo):\n",
        "    self.__arreglo = arreglo\n",
        "    self.__indice_actual = 0\n",
        "\n",
        "  def __iter__(self):\n",
        "    return self\n",
        "  def __next__(self):\n",
        "    if self.__indice_actual < len(self.__arreglo):\n",
        "      dato = self.__arreglo[self.__indice_actual]\n",
        "      self.__indice_actual += 1\n",
        "      return dato\n",
        "    else:\n",
        "      raise StopIteration "
      ],
      "execution_count": 2,
      "outputs": []
    },
    {
      "cell_type": "code",
      "metadata": {
        "id": "IViB354UVheV"
      },
      "source": [
        "class Empleado:\n",
        "  self.__num_trabajador = num\n",
        "  self.__nombres = nom\n",
        "  self.__paterno = pat\n",
        "  self.__materno = mat\n",
        "  self.__horas_extra = hoe\n",
        "  self.sueldo = sue\n"
      ],
      "execution_count": null,
      "outputs": []
    },
    {
      "cell_type": "code",
      "metadata": {
        "id": "he4DTZnTWFdz",
        "outputId": "1e59dc5f-dfb8-49f6-a67b-1f8dbbd7d0f2",
        "colab": {
          "base_uri": "https://localhost:8080/"
        }
      },
      "source": [
        "\"\"\"\n",
        "ADT sueldos --> encapsula datos de nomina\n",
        "cargar_datos(ruta de archivo)\n",
        "calcular_sueldos()\n",
        "reportar_mayor_antiguedad()\n",
        "reportar_menor_antiguedad()\n",
        "\n",
        "\"\"\"\n",
        "class Sueldos:\n",
        "  def __init__(self):\n",
        "    self.__data = None\n",
        "    \n",
        "\n",
        "  def cargar_datos(self, ruta_archivo):\n",
        "    archivo = open(ruta_archivo, \"rt\",encoding= 'latin1')\n",
        "    lineas = archivo.readlines()\n",
        "    \n",
        "    archivo.close()\n",
        "    \n",
        "    self.__data = Array(len(lineas)-1)\n",
        "    \n",
        "    lista1 = lineas[1]\n",
        "    lista2 = lineas[2]\n",
        "    lista3 = lineas[3]\n",
        "    lista4 = lineas[4]\n",
        "    lista5 = lineas[5]\n",
        "    lista6 = lineas[6]\n",
        "    lista7 = lineas[7]\n",
        "    lista8 = lineas[8]\n",
        "    lista9 = lineas[9]\n",
        "    lista10 = lineas[10]\n",
        "    lista11 = lineas[11]\n",
        "    lista12 = lineas[12]\n",
        "    lista13 = lineas[13]\n",
        "    lista14 = lineas[14]\n",
        "    \n",
        "    lista1 = ''.join(lista1)\n",
        "    lista1 = lista1.rstrip('\\n')\n",
        "    lista01 = lista1.split(\",\")\n",
        "\n",
        "    \n",
        "    lista2 = ''.join(lista2)\n",
        "    lista2 = lista2.rstrip('\\n')\n",
        "    lista02 = lista2.split(\",\")\n",
        "\n",
        "    lista3 = ''.join(lista3)\n",
        "    lista3 = lista3.rstrip('\\n')\n",
        "    lista03 = lista3.split(\",\")\n",
        "    \n",
        "    lista4 = ''.join(lista4)\n",
        "    lista4 = lista4.rstrip('\\n')\n",
        "    lista04 = lista4.split(\",\")\n",
        "    \n",
        "    lista5 = ''.join(lista5)\n",
        "    lista5 = lista5.rstrip('\\n')\n",
        "    lista05 = lista5.split(\",\")\n",
        "    \n",
        "    lista6 = ''.join(lista6)\n",
        "    lista6 = lista6.rstrip('\\n')\n",
        "    lista06 = lista6.split(\",\")\n",
        "\n",
        "    lista7 = ''.join(lista7)\n",
        "    lista7 = lista7.rstrip('\\n')\n",
        "    lista07 = lista7.split(\",\") \n",
        "    \n",
        "    lista8 = ''.join(lista8)\n",
        "    lista8 = lista8.rstrip('\\n')\n",
        "    lista08 = lista8.split(\",\")\n",
        "\n",
        "    lista9 = ''.join(lista9)\n",
        "    lista9 = lista9.rstrip('\\n')\n",
        "    lista09 = lista9.split(\",\")\n",
        "\n",
        "    lista10 = ''.join(lista10)\n",
        "    lista10 = lista10.rstrip('\\n')\n",
        "    lista010 = lista10.split(\",\")\n",
        "\n",
        "    lista11 = ''.join(lista11)\n",
        "    lista11 = lista11.rstrip('\\n')\n",
        "    lista011 = lista11.split(\",\")\n",
        "\n",
        "    lista12 = ''.join(lista12)\n",
        "    lista12 = lista12.rstrip('\\n')\n",
        "    lista012 = lista12.split(\",\")\n",
        "\n",
        "    lista13 = ''.join(lista13)\n",
        "    lista13 = lista13.rstrip('\\n')\n",
        "    lista013 = lista13.split(\",\")\n",
        "\n",
        "    lista14 = ''.join(lista14)\n",
        "    lista14 = lista14.rstrip('\\n')\n",
        "    lista014 = lista14.split(\",\") \n",
        "\n",
        "    lista = [lista01,lista02,lista03,lista04,lista05,lista06,lista07,lista08,lista09,lista010,lista011,lista012,lista013,lista014]\n",
        "    \n",
        "    return lista\n",
        "  \n",
        "  def calcular_sueldos(self,arreglo):\n",
        "    self.arreglo = arreglo\n",
        "    print(self.arreglo)\n",
        "  \n",
        "\n",
        "\n",
        "  \n",
        "  \n",
        "  ##def __antiguedad(self)\n",
        "\n",
        "ejemplo1 = Sueldos()\n",
        "ejemplo1.cargar_datos('junio.dat')\n",
        "ejemplo1.calcular_sueldos(ejemplo1.cargar_datos('junio.dat'))\n",
        "\n"
      ],
      "execution_count": 132,
      "outputs": [
        {
          "output_type": "stream",
          "text": [
            "[['2345', 'CARLOS', 'PEREZ', 'CASTILLO', '0', '9850', '2017'], ['5754', 'ANGEL', 'GOMEZ', 'GARRIDO', '1', '9850', '2020'], ['5345', 'JESUS', 'MARTIN', 'SANTOS', '2', '9850', '2016'], ['3267', 'DAVID', 'JIMENEZ', 'LOZANO', '2', '9850', '2017'], ['8765', 'PEDRO', 'RUIZ', 'GUERRERO', '2', '9850', '2017'], ['5454', 'DANIEL', 'HERNANDEZ', 'CANO', '3', '9850', '2018'], ['3456', 'ALEJANDRO', 'DIAZ', 'PRIETO', '2', '9850', '2018'], ['3445', 'MARIA', 'MORENO', 'MENDEZ', '1', '9850', '2018'], ['9088', 'ALBERTO', 'MU\\x84OZ', 'CRUZ', '1', '9850', '2017'], ['8877', 'RAFAEL', 'ALVAREZ', 'FLORES', '2', '9850', '2017'], ['6767', 'FERNANDO', 'ROMERO', 'HERRERA', '4', '9850', '2019'], ['5654', 'PABLO', 'ALONSO', 'GALLEGO', '1', '9850', '2019'], ['4323', 'JORGE', 'GUTIERREZ', 'MARQUEZ', '2', '9850', '2020'], ['2232', 'RAMON', 'NAVARRO', 'LEON', '1', '9850', '2016']]\n"
          ],
          "name": "stdout"
        }
      ]
    },
    {
      "cell_type": "code",
      "metadata": {
        "id": "ZB8DUZPUDEAy"
      },
      "source": [
        ""
      ],
      "execution_count": null,
      "outputs": []
    }
  ]
}