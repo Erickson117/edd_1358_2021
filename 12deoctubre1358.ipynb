{
  "nbformat": 4,
  "nbformat_minor": 0,
  "metadata": {
    "colab": {
      "name": "12deoctubre1358.ipynb",
      "provenance": [],
      "authorship_tag": "ABX9TyO+mp+S+1wqQGp0CU71j8PS",
      "include_colab_link": true
    },
    "kernelspec": {
      "name": "python3",
      "display_name": "Python 3"
    }
  },
  "cells": [
    {
      "cell_type": "markdown",
      "metadata": {
        "id": "view-in-github",
        "colab_type": "text"
      },
      "source": [
        "<a href=\"https://colab.research.google.com/github/Erickson117/edd_1358_2021/blob/master/12deoctubre1358.ipynb\" target=\"_parent\"><img src=\"https://colab.research.google.com/assets/colab-badge.svg\" alt=\"Open In Colab\"/></a>"
      ]
    },
    {
      "cell_type": "markdown",
      "metadata": {
        "id": "D9v-FLUhWAoF"
      },
      "source": [
        "## Diccionarios continuacion"
      ]
    },
    {
      "cell_type": "code",
      "metadata": {
        "id": "xnMf2EXMUz77",
        "outputId": "e3a41acb-77db-43de-c074-4976bb089960",
        "colab": {
          "base_uri": "https://localhost:8080/",
          "height": 124
        }
      },
      "source": [
        "print(\"Diccionarios\")\n",
        "\n",
        "cliente = {\n",
        "            \"id \":1,\n",
        "            \"Nombres\":[\"Juan\",\"Jesus\"],\n",
        "            \"Paterno\":\"García\",\n",
        "            \"Materno\":\"Perez\",\n",
        "            \"telefonos\":{\n",
        "                          \"casa\":5566778899,\n",
        "                          \"Celular\":55776385,\n",
        "                          \"Trabajo\":982263265,\n",
        "                \n",
        "                        },\n",
        "           \"Activo\":True,\n",
        "           \"balance\":24567.89,\n",
        "           \"tarjetas\":({\"tipo\":\"debito\",\"saldo\":12000},{\"tipo\":\"credito\",\"saldo\":3000})\n",
        "     \n",
        "           }\n",
        "print(cliente)\n",
        "cliente[\"balance\"] = cliente[\"balance\"] -1000.69\n",
        "print(cliente[\"balance\"])\n",
        "#para modificar tupla se cambia por otra\n",
        "cliente[\"tarjetas\"] = ({\"tipo\":\"debito\",\"saldo\":12000},{\"tipo\":\"credito\",\"nivel\":\"oro\",\"saldo\":3000})\n",
        "print(cliente[\"tarjetas\"])\n",
        "cliente[\"direccion\"] = {\"calle\":\"rancho seco\",\"num\":21}\n",
        "print(cliente)\n",
        "\n"
      ],
      "execution_count": 15,
      "outputs": [
        {
          "output_type": "stream",
          "text": [
            "Diccionarios\n",
            "{'id ': 1, 'Nombres': ['Juan', 'Jesus'], 'Paterno': 'García', 'Materno': 'Perez', 'telefonos': {'casa': 5566778899, 'Celular': 55776385, 'Trabajo': 982263265}, 'Activo': True, 'balance': 24567.89, 'tarjetas': ({'tipo': 'debito', 'saldo': 12000}, {'tipo': 'credito', 'saldo': 3000})}\n",
            "23567.2\n",
            "({'tipo': 'debito', 'saldo': 12000}, {'tipo': 'credito', 'nivel': 'oro', 'saldo': 3000})\n",
            "{'id ': 1, 'Nombres': ['Juan', 'Jesus'], 'Paterno': 'García', 'Materno': 'Perez', 'telefonos': {'casa': 5566778899, 'Celular': 55776385, 'Trabajo': 982263265}, 'Activo': True, 'balance': 23567.2, 'tarjetas': ({'tipo': 'debito', 'saldo': 12000}, {'tipo': 'credito', 'nivel': 'oro', 'saldo': 3000}), 'direccion': {'calle': 'rancho seco', 'num': 21}}\n"
          ],
          "name": "stdout"
        }
      ]
    },
    {
      "cell_type": "markdown",
      "metadata": {
        "id": "HzjzAqRtV_Hd"
      },
      "source": [
        ""
      ]
    },
    {
      "cell_type": "code",
      "metadata": {
        "id": "k9xD4ADCd1Rz",
        "outputId": "088ed30f-4ca6-4f25-e0c2-a41e25c0b4de",
        "colab": {
          "base_uri": "https://localhost:8080/",
          "height": 605
        }
      },
      "source": [
        "#para saber un iterable de llaves\n",
        "print(\"llaves\")\n",
        "llaves = cliente.keys()\n",
        "print(llaves)\n",
        "for x in llaves:\n",
        "  print(x)\n",
        "print(\"----------------\")\n",
        "#para saber los valores\n",
        "print(\"valores\")\n",
        "valores = cliente.values()\n",
        "for v in valores:\n",
        " print(v)\n",
        "print(\"---------------\")\n",
        "#para saber ambos usamos la funcion items\n",
        "print(\"Pares\")\n",
        "pares = cliente.items()\n",
        "for p in pares:\n",
        "  print(f\"{p[0]} = {p[1]}\")\n",
        "print(\"-----------\")\n"
      ],
      "execution_count": 30,
      "outputs": [
        {
          "output_type": "stream",
          "text": [
            "llaves\n",
            "dict_keys(['id ', 'Nombres', 'Paterno', 'Materno', 'telefonos', 'Activo', 'balance', 'tarjetas', 'direccion'])\n",
            "id \n",
            "Nombres\n",
            "Paterno\n",
            "Materno\n",
            "telefonos\n",
            "Activo\n",
            "balance\n",
            "tarjetas\n",
            "direccion\n",
            "----------------\n",
            "valores\n",
            "1\n",
            "['Juan', 'Jesus']\n",
            "García\n",
            "Perez\n",
            "{'casa': 5566778899, 'Celular': 55776385, 'Trabajo': 982263265}\n",
            "True\n",
            "23567.2\n",
            "({'tipo': 'debito', 'saldo': 12000}, {'tipo': 'credito', 'nivel': 'oro', 'saldo': 3000})\n",
            "{'calle': 'rancho seco', 'num': 21}\n",
            "---------------\n",
            "Pares\n",
            "id  = 1\n",
            "Nombres = ['Juan', 'Jesus']\n",
            "Paterno = García\n",
            "Materno = Perez\n",
            "telefonos = {'casa': 5566778899, 'Celular': 55776385, 'Trabajo': 982263265}\n",
            "Activo = True\n",
            "balance = 23567.2\n",
            "tarjetas = ({'tipo': 'debito', 'saldo': 12000}, {'tipo': 'credito', 'nivel': 'oro', 'saldo': 3000})\n",
            "direccion = {'calle': 'rancho seco', 'num': 21}\n",
            "-----------\n"
          ],
          "name": "stdout"
        }
      ]
    },
    {
      "cell_type": "code",
      "metadata": {
        "id": "DeLuL0J4g6Cb",
        "outputId": "d2ab6795-dd44-450b-e924-2253e0e7b959",
        "colab": {
          "base_uri": "https://localhost:8080/",
          "height": 34
        }
      },
      "source": [
        "#para juntar diccionarios\n",
        "frutas = {\n",
        "          \"nombre\":\"manzana\",\n",
        "          \"color\":\"rojo\",\n",
        "          \"Estado\":\"Chihuahua\"\n",
        "        }\n",
        "otras_caracteristicas = {\n",
        "                         \"vitaminas\":\"D\",\n",
        "\n",
        "    \n",
        "                        }\n",
        "frutas.update(otras_caracteristicas)\n",
        "print(frutas)"
      ],
      "execution_count": 33,
      "outputs": [
        {
          "output_type": "stream",
          "text": [
            "{'nombre': 'manzana', 'color': 'rojo', 'Estado': 'Chihuahua', 'vitaminas': 'D'}\n"
          ],
          "name": "stdout"
        }
      ]
    },
    {
      "cell_type": "markdown",
      "metadata": {
        "id": "91rlDSUFiRcy"
      },
      "source": [
        "## Funciones\n",
        "* Resive de 0 a n argumentos. \n",
        "* Regresa 1 valor aunque sea nulo.\n",
        "* Una funcion tiene nombre unico en el contexto.\n",
        "* Se pueden hacer solo 2 cosas, definirla o llamarla.\n",
        "\n",
        "\n",
        "\n"
      ]
    },
    {
      "cell_type": "code",
      "metadata": {
        "id": "vbQ-r2PniVdK",
        "outputId": "9a775c27-8fac-47e7-b631-83dceaba067f",
        "colab": {
          "base_uri": "https://localhost:8080/",
          "height": 52
        }
      },
      "source": [
        "def suma(a,b):\n",
        "  return a+b\n",
        "def saludo():\n",
        "  print(\"hola\")\n",
        "  return None\n",
        "x = 10\n",
        "y = 20\n",
        "c = suma(x,y)\n",
        "print(c)\n",
        "saludo()"
      ],
      "execution_count": 39,
      "outputs": [
        {
          "output_type": "stream",
          "text": [
            "30\n",
            "hola\n"
          ],
          "name": "stdout"
        }
      ]
    },
    {
      "cell_type": "markdown",
      "metadata": {
        "id": "wNZGjVAjkwUa"
      },
      "source": [
        "## None y las funciones\n",
        "* usar none en paso de funciones"
      ]
    },
    {
      "cell_type": "code",
      "metadata": {
        "id": "G9EZijq0k9LC",
        "outputId": "56bd64ad-3df6-4cce-ceaf-a3ed9b355c3f",
        "colab": {
          "base_uri": "https://localhost:8080/",
          "height": 52
        }
      },
      "source": [
        "def calcular(x,y):\n",
        "  if (x != None ):\n",
        "      resultado = x * y\n",
        "  else:\n",
        "      resultado = \"desconocido\"\n",
        "  return resultado\n",
        "\n",
        "print(calcular(4,12))\n",
        "print(calcular(None,12))\n"
      ],
      "execution_count": 51,
      "outputs": [
        {
          "output_type": "stream",
          "text": [
            "48\n",
            "desconocido\n"
          ],
          "name": "stdout"
        }
      ]
    }
  ]
}