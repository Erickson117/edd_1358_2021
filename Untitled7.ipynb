{
  "nbformat": 4,
  "nbformat_minor": 0,
  "metadata": {
    "colab": {
      "name": "Untitled7.ipynb",
      "provenance": [],
      "authorship_tag": "ABX9TyO7Rqw0/jEZGcJZ/fEZJcsa",
      "include_colab_link": true
    },
    "kernelspec": {
      "name": "python3",
      "display_name": "Python 3"
    }
  },
  "cells": [
    {
      "cell_type": "markdown",
      "metadata": {
        "id": "view-in-github",
        "colab_type": "text"
      },
      "source": [
        "<a href=\"https://colab.research.google.com/github/Erickson117/edd_1358_2021/blob/master/Untitled7.ipynb\" target=\"_parent\"><img src=\"https://colab.research.google.com/assets/colab-badge.svg\" alt=\"Open In Colab\"/></a>"
      ]
    },
    {
      "cell_type": "code",
      "metadata": {
        "id": "Eq-R8pIeZIVx"
      },
      "source": [
        "#Nombre: Reyes Garcia Erick Jesus\r\n",
        "#Grupo: 1358\r\n",
        "class PriorityQueue:\r\n",
        "  def __init__(self):\r\n",
        "    self.__data = list()\r\n",
        "    self.__size = 0\r\n",
        "\r\n",
        "  def is_empty(self):\r\n",
        "    return len(self.__data) == 0\r\n",
        "  \r\n",
        "  def lenght(self):\r\n",
        "    return len(self.__data)\r\n",
        "\r\n",
        "  def enqueue(self, prioridad, elem): #Agrega un elemento base a las siguientes condiciones\r\n",
        "    if self.is_empty() or prioridad > self.__size: #Si esta vacio agrega con la funcion append e incrementa size en 1\r\n",
        "      self.__data.append([elem,prioridad])\r\n",
        "      self.__size += 1\r\n",
        "    else:\r\n",
        "      x = self.__size -1 #si tiene datos se guarda el tamaño para poder iterar\r\n",
        "      #print(x)\r\n",
        "      while self.__data[x][1] != prioridad and x >= 0:#en caso de que haya un prioridad similar guardara su posicion\r\n",
        "        x -= 1\r\n",
        "      if x != -1: #si es -1 quiere decir que no encontro una prioridad similar por lo que pasa al else \r\n",
        "        self.__data.insert((x+1),[elem,prioridad]) #si no lo inserta despues del ultimo elemento con esa prioridad\r\n",
        "        self.__size += 1\r\n",
        "      else:\r\n",
        "        if prioridad > self.__data[self.__size -1][1]:#revisa si la prioridad nueva es mayor a la ultima prioridad encontrada\r\n",
        "          self.__data.append([elem,prioridad])#en caso de que asi sea lo incremente al final\r\n",
        "          self.__size += 1\r\n",
        "        else:\r\n",
        "          y = self.__size -1 #en caso de que no busca cual es su lugar dependiendo de su prioridad\r\n",
        "          while prioridad < self.__data[y][1] and y >= 0:\r\n",
        "            y-= 1\r\n",
        "          self.__data.insert((x),[elem,prioridad]) \r\n",
        "          self.__size += 1\r\n",
        "\r\n",
        "  \r\n",
        "  def dequeue(self):\r\n",
        "    self.__size -= 1\r\n",
        "    self.__data.pop(0)\r\n",
        "  \r\n",
        "  def to_string(self):\r\n",
        "    for i in range(len(self.__data)):\r\n",
        "      print(f\"Posicion | {i} | es : | {self.__data[i][0]} |, con una prioridad de: | {self.__data[i][1]} | tamaño de la cola | {self.__size} |\") "
      ],
      "execution_count": 8,
      "outputs": []
    },
    {
      "cell_type": "code",
      "metadata": {
        "colab": {
          "base_uri": "https://localhost:8080/"
        },
        "id": "nJa5bLzeZJ05",
        "outputId": "036d7727-8591-4d2a-baec-334a75c9a213"
      },
      "source": [
        "uwu = PriorityQueue()\r\n",
        "uwu.enqueue(3,\"Diana\")\r\n",
        "uwu.enqueue(0,\"Raul\")\r\n",
        "uwu.enqueue(1,\"Pid\")\r\n",
        "uwu.enqueue(0,\"Erick\")\r\n",
        "uwu.enqueue(2,\"lary\")\r\n",
        "uwu.enqueue(1,\"Zyanya\")\r\n",
        "uwu.enqueue(3,\"Grogu\")\r\n",
        "uwu.to_string()\r\n"
      ],
      "execution_count": 9,
      "outputs": [
        {
          "output_type": "stream",
          "text": [
            "Posicion | 0 | es : | Raul |, con una prioridad de: | 0 | tamaño de la cola | 7 |\n",
            "Posicion | 1 | es : | Erick |, con una prioridad de: | 0 | tamaño de la cola | 7 |\n",
            "Posicion | 2 | es : | Pid |, con una prioridad de: | 1 | tamaño de la cola | 7 |\n",
            "Posicion | 3 | es : | Zyanya |, con una prioridad de: | 1 | tamaño de la cola | 7 |\n",
            "Posicion | 4 | es : | lary |, con una prioridad de: | 2 | tamaño de la cola | 7 |\n",
            "Posicion | 5 | es : | Diana |, con una prioridad de: | 3 | tamaño de la cola | 7 |\n",
            "Posicion | 6 | es : | Grogu |, con una prioridad de: | 3 | tamaño de la cola | 7 |\n"
          ],
          "name": "stdout"
        }
      ]
    }
  ]
}