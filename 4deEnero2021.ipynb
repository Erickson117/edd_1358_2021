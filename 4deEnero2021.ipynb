{
  "nbformat": 4,
  "nbformat_minor": 0,
  "metadata": {
    "colab": {
      "name": "4deEnero2021.ipynb",
      "provenance": [],
      "authorship_tag": "ABX9TyPqi2CxpmNBFqnj2CW6JaXY",
      "include_colab_link": true
    },
    "kernelspec": {
      "name": "python3",
      "display_name": "Python 3"
    }
  },
  "cells": [
    {
      "cell_type": "markdown",
      "metadata": {
        "id": "view-in-github",
        "colab_type": "text"
      },
      "source": [
        "<a href=\"https://colab.research.google.com/github/Erickson117/edd_1358_2021/blob/master/4deEnero2021.ipynb\" target=\"_parent\"><img src=\"https://colab.research.google.com/assets/colab-badge.svg\" alt=\"Open In Colab\"/></a>"
      ]
    },
    {
      "cell_type": "code",
      "metadata": {
        "id": "XEUcZt8lPel3"
      },
      "source": [
        ""
      ],
      "execution_count": null,
      "outputs": []
    },
    {
      "cell_type": "code",
      "metadata": {
        "id": "iW4FUKznLft1"
      },
      "source": [
        "## Clase Queue\r\n",
        "\r\n",
        "class Queue:\r\n",
        "  def __init__(self):\r\n",
        "    self.__data = list()\r\n",
        "\r\n",
        "  def is_empty(self):\r\n",
        "    return len(self.__data) == 0\r\n",
        "\r\n",
        "  def lenght(self):\r\n",
        "    return len(self.__data)\r\n",
        "\r\n",
        "  def enqueue( self, item ):\r\n",
        "    self.__data.append(item)\r\n",
        "  \r\n",
        "  def dequeue( self ):\r\n",
        "    if not self.is_empty(): #en caso de que no este vacia\r\n",
        "      return self.__data.pop(0)\r\n",
        "\r\n",
        "    else:\r\n",
        "      return None #en caso de que este vacia\r\n",
        "  \r\n",
        "  def to_string( self ):\r\n",
        "    for elem in self.__data:\r\n",
        "      print(f\"| {elem} \", end=\"\")\r\n",
        "    print(\"|\")\r\n",
        "\r\n"
      ],
      "execution_count": 12,
      "outputs": []
    },
    {
      "cell_type": "code",
      "metadata": {
        "colab": {
          "base_uri": "https://localhost:8080/"
        },
        "id": "GwxIgypKRxTG",
        "outputId": "f827626c-18f7-4ab0-9bee-8843f49759b2"
      },
      "source": [
        "#Pruebas de funcionamiento\r\n",
        "cola = Queue()\r\n",
        "cola.enqueue(10)\r\n",
        "cola.enqueue(2)\r\n",
        "cola.enqueue(20)\r\n",
        "cola.enqueue(110)\r\n",
        "cola.enqueue(33)\r\n",
        "cola.to_string()\r\n",
        "#meter un elemento\r\n",
        "cola.enqueue(44)\r\n",
        "cola.to_string()\r\n",
        "\r\n",
        "#sacar un elemento\r\n",
        "elem = cola.dequeue()\r\n",
        "print(f\"el elemento es {elem}\")\r\n",
        "#sacar un elemento\r\n",
        "elem = cola.dequeue()\r\n",
        "print(f\"el elemento es {elem}\")\r\n"
      ],
      "execution_count": 18,
      "outputs": [
        {
          "output_type": "stream",
          "text": [
            "| 10 | 2 | 20 | 110 | 33 |\n",
            "| 10 | 2 | 20 | 110 | 33 | 44 |\n",
            "el elemento es 10\n",
            "el elemento es 2\n"
          ],
          "name": "stdout"
        }
      ]
    },
    {
      "cell_type": "code",
      "metadata": {
        "colab": {
          "base_uri": "https://localhost:8080/"
        },
        "id": "0H_70FGvUm9W",
        "outputId": "cc0c6c4e-fa9e-40a5-cce0-16543995d0bf"
      },
      "source": [
        "c1 = { \"id\" : 1 , \"nombre\":\"Jose\" , \"balance\":2345654.99}\r\n",
        "c2 = { \"id\" : 2 , \"nombre\":\"Maria\" , \"balance\":2323.01}\r\n",
        "c3 = { \"id\" : 3 , \"nombre\":\"Jesus\" , \"balance\":333.55}\r\n",
        "\r\n",
        "queue = Queue()\r\n",
        "queue.enqueue(c1)\r\n",
        "queue.enqueue(c2)\r\n",
        "queue.enqueue(c3)\r\n",
        "\r\n",
        "queue.to_string()\r\n",
        "\r\n",
        "a_atender = queue.dequeue()\r\n",
        "\r\n",
        "print(f\"Hola sr {a_atender['nombre']} ,  ¿Que tramite desea hacer?\")"
      ],
      "execution_count": 24,
      "outputs": [
        {
          "output_type": "stream",
          "text": [
            "| {'id': 1, 'nombre': 'Jose', 'balance': 2345654.99} | {'id': 2, 'nombre': 'Maria', 'balance': 2323.01} | {'id': 3, 'nombre': 'Jesus', 'balance': 333.55} |\n",
            "Hola sr Jose ,  ¿Que tramite desea hacer?\n"
          ],
          "name": "stdout"
        }
      ]
    }
  ]
}