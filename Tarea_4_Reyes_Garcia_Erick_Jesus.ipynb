{
  "nbformat": 4,
  "nbformat_minor": 0,
  "metadata": {
    "colab": {
      "name": "Tarea  4 Reyes Garcia Erick Jesus.ipynb",
      "provenance": [],
      "authorship_tag": "ABX9TyMneMG4kKhDsBwpHR7dQ0H4",
      "include_colab_link": true
    },
    "kernelspec": {
      "name": "python3",
      "display_name": "Python 3"
    }
  },
  "cells": [
    {
      "cell_type": "markdown",
      "metadata": {
        "id": "view-in-github",
        "colab_type": "text"
      },
      "source": [
        "<a href=\"https://colab.research.google.com/github/Erickson117/edd_1358_2021/blob/master/Tarea_4_Reyes_Garcia_Erick_Jesus.ipynb\" target=\"_parent\"><img src=\"https://colab.research.google.com/assets/colab-badge.svg\" alt=\"Open In Colab\"/></a>"
      ]
    },
    {
      "cell_type": "code",
      "metadata": {
        "id": "T-p-g6V8-6dO"
      },
      "source": [
        "# Alumno: Reyes Garcia Erick Jesus\n",
        "# Grupo: 1358\n",
        "# Tarea 4: ADT Nodos\n",
        "class Nodo:\n",
        "    def __init__( self , dato, siguiente = None):\n",
        "        self.dato = dato\n",
        "        self.siguiente = siguiente\n",
        "\n",
        "class LinkedList:\n",
        "  def __init__(self):\n",
        "    self.__head = None\n",
        "\n",
        "  def is_empty(self):\n",
        "    #regresa true o false\n",
        "    return self.__head == None\n",
        "\n",
        "  def tail(self):\n",
        "\n",
        "    curr_node = self.__head\n",
        "    while curr_node != None and curr_node.siguiente != None:\n",
        "      curr_node = curr_node.siguiente\n",
        "    return curr_node\n",
        "  \n",
        "  def append(self , value):\n",
        "\n",
        "    nuevo = Nodo(value)\n",
        "    if self.__head == None:\n",
        "      self.__head = nuevo\n",
        "    else:\n",
        "      self.tail().siguiente = nuevo\n",
        "  \n",
        "  def transversal(self):\n",
        "    curr_node = self.__head\n",
        "    if curr_node == None:\n",
        "      print(\"lista vacia owo\")\n",
        "    else:\n",
        "      while curr_node != None:\n",
        "        print(f\"{curr_node.dato} ---> \", end=\"\")\n",
        "        curr_node = curr_node.siguiente\n",
        "      print(\"\")\n",
        "\n",
        "  def preppend(self,value):\n",
        "\n",
        "    nuevo = Nodo(value)\n",
        "    if self.__head == None:\n",
        "      self.__head = nuevo\n",
        "    else:\n",
        "      x = self.__head\n",
        "      self.__head = nuevo\n",
        "      nuevo.siguiente = x\n",
        "  \n",
        "  def pop(self, pos):\n",
        "    curr_node = self.__head\n",
        "    \n",
        "    for p in range(pos): #se obtiene el valor de la posicion para cualquiera que no sea la primera\n",
        "      curr_node = curr_node.siguiente\n",
        "      x = curr_node.dato\n",
        "    if pos == 0: # si la pos es 0 a puntara al valor de la cabeza por defecto\n",
        "      x = curr_node.dato\n",
        "    return x #regresa el valor \n",
        "  \n",
        "  def remove(self, value):\n",
        "    curr_node = self.__head\n",
        "    elementos = self.__head\n",
        "    no_elementos = 0\n",
        "    contador = 0\n",
        "    while curr_node != None and curr_node.dato != value: #este while es para saber en que nodo esta el valor que coincide, ademas incrementa la variable contador\n",
        "      curr_node = curr_node.siguiente\n",
        "      contador += 1\n",
        "    while elementos != None: #este while es para contar la cantidad de nodos que hay\n",
        "      elementos = elementos.siguiente\n",
        "      no_elementos += 1\n",
        "    try: # coloque este try porque puede que el numero no coincida con ningun nodo\n",
        "      if contador == 0: # en caso de que el primer nodo sea el que coincida simplemente hay que hacer que la cabeza sea el siguiente nodo\n",
        "        self.__head = self.__head.siguiente\n",
        "      else: # en caso de que sea diferente lo que hice fue almacenar los valores de los nodos en una lista para despues reacomodarlos\n",
        "        posterior = curr_node.siguiente\n",
        "        arreglo = [self.pop(0)]\n",
        "        for x in range(1, no_elementos): # aqui se guardan los datos\n",
        "          arreglo.append(self.pop(x))\n",
        "        self.__head = None #aqui se limpia \n",
        "        for c in range(contador ): #se agregan los nodo de forma que queden acomodados \n",
        "          self.append(arreglo[c])\n",
        "        for c in range((contador +1), no_elementos): #se agrega el resto \n",
        "          self.append(posterior.dato)\n",
        "          posterior = posterior.siguiente\n",
        "    except AttributeError:\n",
        "      print(\"no existe ese numero en la lista \")"
      ],
      "execution_count": 8,
      "outputs": []
    },
    {
      "cell_type": "code",
      "metadata": {
        "colab": {
          "base_uri": "https://localhost:8080/"
        },
        "id": "-p-mJSpICWLO",
        "outputId": "60d02b9a-9059-40d6-8cb8-bbee1b31cf1d"
      },
      "source": [
        "l = LinkedList()\n",
        "print(f\"l esta vacia = {l.is_empty()}\")\n",
        "\n",
        "x = l.tail()\n",
        "print(x)\n",
        "l.append(10)\n",
        "l.append(20)\n",
        "l.append(30)\n",
        "l.append(40)\n",
        "l.preppend(5)\n",
        "l.transversal()\n",
        "print(l.pop(0))\n",
        "#prueba 1 remover 10\n",
        "l.remove(10)\n",
        "l.transversal()\n",
        "#prueba 2 colocar otro 20\n",
        "l.append(20)\n",
        "l.transversal()\n",
        "#prueba 3 remover el 20 para asegurarnos que solo quita la primeraq coincidencia \n",
        "l.remove(20)\n",
        "l.transversal()\n",
        "#prueba 4 eliminar el primer valor\n",
        "l.remove(5)\n",
        "l.transversal()\n",
        "#prueba 5 colocar un valor distinto para saber si el try funciona correctamente\n",
        "l.remove(15)\n",
        "l.transversal()\n",
        "#prueba 6 obtener el valor en una posicion\n",
        "print(f\"el valor es: {l.pop(2)}\")\n",
        "\n"
      ],
      "execution_count": 13,
      "outputs": [
        {
          "output_type": "stream",
          "text": [
            "l esta vacia = True\n",
            "None\n",
            "5 ---> 10 ---> 20 ---> 30 ---> 40 ---> \n",
            "5\n",
            "5 ---> 20 ---> 30 ---> 40 ---> \n",
            "5 ---> 20 ---> 30 ---> 40 ---> 20 ---> \n",
            "5 ---> 30 ---> 40 ---> 20 ---> \n",
            "30 ---> 40 ---> 20 ---> \n",
            "no existe ese numero en la lista \n",
            "30 ---> 40 ---> 20 ---> \n",
            "el valor es: 20\n"
          ],
          "name": "stdout"
        }
      ]
    }
  ]
}