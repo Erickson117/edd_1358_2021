{
  "nbformat": 4,
  "nbformat_minor": 0,
  "metadata": {
    "colab": {
      "name": "Tarea_10_ReyesGarciaErickJesus.ipynb",
      "provenance": [],
      "collapsed_sections": [],
      "authorship_tag": "ABX9TyOBN8UErdUvbE0K3S28qMf6",
      "include_colab_link": true
    },
    "kernelspec": {
      "name": "python3",
      "display_name": "Python 3"
    }
  },
  "cells": [
    {
      "cell_type": "markdown",
      "metadata": {
        "id": "view-in-github",
        "colab_type": "text"
      },
      "source": [
        "<a href=\"https://colab.research.google.com/github/Erickson117/edd_1358_2021/blob/master/Tarea_10_ReyesGarciaErickJesus.ipynb\" target=\"_parent\"><img src=\"https://colab.research.google.com/assets/colab-badge.svg\" alt=\"Open In Colab\"/></a>"
      ]
    },
    {
      "cell_type": "code",
      "metadata": {
        "colab": {
          "base_uri": "https://localhost:8080/"
        },
        "id": "UyFPuU5T5dAX",
        "outputId": "f6b9e227-86d4-411e-8e7e-edd097384d04"
      },
      "source": [
        "#Reyes Garcia Erick Jesus\r\n",
        "#suma recursiva de una lista\r\n",
        "\r\n",
        "def sumalista(lista):#esta funcion necesita una lista\r\n",
        "  if len(lista) == 1: #si hay un unico valor en ella regresa ese valor\r\n",
        "    return lista.pop() \r\n",
        "  else: #si la longitud no es cero entonces se saca el ultimo valor y se usa la recursividad para conocer el siguiente\r\n",
        "    return lista.pop() + sumalista(lista) #el valor que regrese el caso base se sumara al de los demas\r\n",
        "\r\n",
        "l = [1,2,3,4,5]\r\n",
        "sl = sumalista(l)\r\n",
        "print(sl)"
      ],
      "execution_count": null,
      "outputs": [
        {
          "output_type": "stream",
          "text": [
            "15\n"
          ],
          "name": "stdout"
        }
      ]
    },
    {
      "cell_type": "code",
      "metadata": {
        "colab": {
          "base_uri": "https://localhost:8080/"
        },
        "id": "1_3bNve5AcBB",
        "outputId": "27f402a5-e23e-4606-c954-534dc5393746"
      },
      "source": [
        "#Reyes Garcia Erick Jesus\r\n",
        "#contador regresivo con recursividad\r\n",
        "\r\n",
        "def cuenta_regresiva(n):\r\n",
        "  if n == 0:\r\n",
        "    print(n)\r\n",
        "    return 0 #si ya es cero regresa cero\r\n",
        "  else:\r\n",
        "    print(n)#si el valor aun no es cero imprime el valor\r\n",
        "    n -= 1 #decrementa n\r\n",
        "    return cuenta_regresiva(n) #recursividad al llamar nuevamente la funcion\r\n",
        "\r\n",
        "x = cuenta_regresiva(15)\r\n",
        "\r\n",
        "\r\n"
      ],
      "execution_count": null,
      "outputs": [
        {
          "output_type": "stream",
          "text": [
            "15\n",
            "14\n",
            "13\n",
            "12\n",
            "11\n",
            "10\n",
            "9\n",
            "8\n",
            "7\n",
            "6\n",
            "5\n",
            "4\n",
            "3\n",
            "2\n",
            "1\n",
            "0\n"
          ],
          "name": "stdout"
        }
      ]
    },
    {
      "cell_type": "code",
      "metadata": {
        "id": "TY-PY0WWBkBq"
      },
      "source": [
        "#Reyes Garcia Erick Jesus\r\n",
        "#ADT pila valor de en medio para usarlo en la recursividad\r\n",
        "\r\n",
        "class Stack:\r\n",
        "    def __init__(self):\r\n",
        "        self.__data = []\r\n",
        "        self.__size = 0\r\n",
        "\r\n",
        "    def pop(self):\r\n",
        "        self.__size -= 1\r\n",
        "        return self.__data.pop()\r\n",
        "\r\n",
        "    def get_size(self):\r\n",
        "        return self.__size\r\n",
        "\r\n",
        "    def peak(self):\r\n",
        "        if len(self.__data) > 0:\r\n",
        "            return self.__data[-1]\r\n",
        "        else:\r\n",
        "            return None\r\n",
        "\r\n",
        "    def push(self,value):\r\n",
        "        self.__data.append(value)\r\n",
        "        self.__size += 1\r\n",
        "\r\n",
        "    def to_string(self):\r\n",
        "        print(\"-\"*6)\r\n",
        "        for dato in self.__data[::-1]:\r\n",
        "            print(f\"| {dato} |\")\r\n",
        "            print(\"/\" * 6)\r\n",
        "        print(\"\")\r\n",
        "  "
      ],
      "execution_count": 53,
      "outputs": []
    },
    {
      "cell_type": "code",
      "metadata": {
        "id": "4GccWCKBCiEB",
        "colab": {
          "base_uri": "https://localhost:8080/"
        },
        "outputId": "03e89c8c-624d-4f4e-d2a9-5b5bb2c5368f"
      },
      "source": [
        "#Reyes Garcia Erick Jesus\r\n",
        "def valor_medio_pila(pila , mitad): #Para quitar el valor medio de una pila usare la funcion valor_medio_pila\r\n",
        "    uwu = None\r\n",
        "    if pila.get_size() == mitad: #el caso base es cuando la mitad redondeada de la longitud de la pila sea igual a la posicion actual\r\n",
        "      pila.pop() #cuando eso suceda se saca el valor y se regresa la pila\r\n",
        "      return pila\r\n",
        "    else:\r\n",
        "      uwu = pila.pop() #En el caso de que no se cumpla la condicion anterior, se hace un pop y se almacena en esta variable, para despues volver a meterlo.\r\n",
        "      valor_medio_pila(pila , mitad)#con el popanterior la longitud se reduce para aproximarce a la mitad.\r\n",
        "      return pila.push(uwu)#ya que la recursividad venga de regreso el push agregara los valores que se sacaron para averiguar la posicion media.\r\n",
        "      \r\n",
        "\r\n",
        "\r\n",
        "p = Stack()#creo una variable de tipo Stack\r\n",
        "p.push(5)#agrego los siguientes valores \r\n",
        "p.push(4)\r\n",
        "p.push(3)\r\n",
        "p.push(2)\r\n",
        "p.push(1)\r\n",
        "\r\n",
        "#p.to_string()\r\n",
        "\r\n",
        "mitadp = int((p.get_size() / 2)+0.5)#obtengo la mitad de la siguiente manera\r\n",
        "#Nota le sume 0.5 porque pythin redondea al valor anterior en algunos casos como 2.5 lo redondea a 2 y yo necesito el numero que sigue\r\n",
        "print(f\"la mitad es {mitadp}\")#uso este print para con firmar que es la posicion que quiero remover\r\n",
        "x = valor_medio_pila(p,mitadp)#llamo a la funcion valor_medio_pila y le mando la pila creada junto al valor numerico de su mitad\r\n",
        "p.to_string()#use este to_string para comprobar que esta correcto"
      ],
      "execution_count": 58,
      "outputs": [
        {
          "output_type": "stream",
          "text": [
            "la mitad es 3\n",
            "------\n",
            "| 1 |\n",
            "//////\n",
            "| 2 |\n",
            "//////\n",
            "| 4 |\n",
            "//////\n",
            "| 5 |\n",
            "//////\n",
            "\n"
          ],
          "name": "stdout"
        }
      ]
    }
  ]
}