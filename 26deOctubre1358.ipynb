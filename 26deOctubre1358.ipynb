{
  "nbformat": 4,
  "nbformat_minor": 0,
  "metadata": {
    "colab": {
      "name": "26deOctubre1358.ipynb",
      "provenance": [],
      "authorship_tag": "ABX9TyMOrkr5mMxXBJOp2UHMwHqu",
      "include_colab_link": true
    },
    "kernelspec": {
      "name": "python3",
      "display_name": "Python 3"
    }
  },
  "cells": [
    {
      "cell_type": "markdown",
      "metadata": {
        "id": "view-in-github",
        "colab_type": "text"
      },
      "source": [
        "<a href=\"https://colab.research.google.com/github/Erickson117/edd_1358_2021/blob/master/26deOctubre1358.ipynb\" target=\"_parent\"><img src=\"https://colab.research.google.com/assets/colab-badge.svg\" alt=\"Open In Colab\"/></a>"
      ]
    },
    {
      "cell_type": "code",
      "metadata": {
        "id": "ZGV7w6N7qgCs",
        "outputId": "aff9ddd1-33ed-4d8a-f9f2-f234f2a47939",
        "colab": {
          "base_uri": "https://localhost:8080/",
          "height": 34
        }
      },
      "source": [
        "\"\"\"\n",
        "Array\n",
        "\"\"\"\n",
        "\n",
        "class Array:\n",
        "  def __init__(self,tam):\n",
        "    self.__datos = [0 for x in range(tam) ]\n",
        "\n",
        "  def get_item(self, index):\n",
        "    return self.__datos[index]\n",
        "\n",
        "mi_arreglo = Array(10)\n",
        "print(mi_arreglo.get_item(2))\n",
        "\n"
      ],
      "execution_count": 2,
      "outputs": [
        {
          "output_type": "stream",
          "text": [
            "0\n"
          ],
          "name": "stdout"
        }
      ]
    }
  ]
}