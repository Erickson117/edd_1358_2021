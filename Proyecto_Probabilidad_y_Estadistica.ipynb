{
  "nbformat": 4,
  "nbformat_minor": 0,
  "metadata": {
    "colab": {
      "name": "Proyecto Probabilidad y Estadistica.ipynb",
      "provenance": [],
      "collapsed_sections": [],
      "authorship_tag": "ABX9TyMPHXZ6KWqu518gxVLucxy7",
      "include_colab_link": true
    },
    "kernelspec": {
      "name": "python3",
      "display_name": "Python 3"
    },
    "language_info": {
      "name": "python"
    }
  },
  "cells": [
    {
      "cell_type": "markdown",
      "metadata": {
        "id": "view-in-github",
        "colab_type": "text"
      },
      "source": [
        "<a href=\"https://colab.research.google.com/github/Erickson117/edd_1358_2021/blob/master/Proyecto_Probabilidad_y_Estadistica.ipynb\" target=\"_parent\"><img src=\"https://colab.research.google.com/assets/colab-badge.svg\" alt=\"Open In Colab\"/></a>"
      ]
    },
    {
      "cell_type": "code",
      "metadata": {
        "colab": {
          "base_uri": "https://localhost:8080/",
          "height": 212
        },
        "id": "gL4tzwTqbVDX",
        "outputId": "4270529f-8afd-45d6-a3d5-e8f24890934b"
      },
      "source": [
        "# Erick Jesus Reyes Garcia\n",
        "# Eduardo Perez Paz\n",
        "import pandas as pd\n",
        "import seaborn as sns\n",
        "import matplotlib.pyplot as plt\n",
        "#1.- \n",
        "Tabla = pd.read_csv(\"bebidas.csv\",index_col = 0)\n",
        "print(\"-----PRIMERAS 5 COMPRAS-----\")\n",
        "Tabla.head()\n",
        "\n"
      ],
      "execution_count": 30,
      "outputs": [
        {
          "output_type": "stream",
          "text": [
            "-----PRIMERAS 5 COMPRAS-----\n"
          ],
          "name": "stdout"
        },
        {
          "output_type": "execute_result",
          "data": {
            "text/html": [
              "<div>\n",
              "<style scoped>\n",
              "    .dataframe tbody tr th:only-of-type {\n",
              "        vertical-align: middle;\n",
              "    }\n",
              "\n",
              "    .dataframe tbody tr th {\n",
              "        vertical-align: top;\n",
              "    }\n",
              "\n",
              "    .dataframe thead th {\n",
              "        text-align: right;\n",
              "    }\n",
              "</style>\n",
              "<table border=\"1\" class=\"dataframe\">\n",
              "  <thead>\n",
              "    <tr style=\"text-align: right;\">\n",
              "      <th></th>\n",
              "      <th>Edad</th>\n",
              "      <th>Temperatura</th>\n",
              "      <th>Bebida</th>\n",
              "    </tr>\n",
              "  </thead>\n",
              "  <tbody>\n",
              "    <tr>\n",
              "      <th>0</th>\n",
              "      <td>17</td>\n",
              "      <td>13</td>\n",
              "      <td>0</td>\n",
              "    </tr>\n",
              "    <tr>\n",
              "      <th>1</th>\n",
              "      <td>4</td>\n",
              "      <td>15</td>\n",
              "      <td>0</td>\n",
              "    </tr>\n",
              "    <tr>\n",
              "      <th>2</th>\n",
              "      <td>44</td>\n",
              "      <td>11</td>\n",
              "      <td>1</td>\n",
              "    </tr>\n",
              "    <tr>\n",
              "      <th>3</th>\n",
              "      <td>37</td>\n",
              "      <td>14</td>\n",
              "      <td>0</td>\n",
              "    </tr>\n",
              "    <tr>\n",
              "      <th>4</th>\n",
              "      <td>37</td>\n",
              "      <td>25</td>\n",
              "      <td>1</td>\n",
              "    </tr>\n",
              "  </tbody>\n",
              "</table>\n",
              "</div>"
            ],
            "text/plain": [
              "   Edad  Temperatura  Bebida\n",
              "0    17           13       0\n",
              "1     4           15       0\n",
              "2    44           11       1\n",
              "3    37           14       0\n",
              "4    37           25       1"
            ]
          },
          "metadata": {
            "tags": []
          },
          "execution_count": 30
        }
      ]
    },
    {
      "cell_type": "code",
      "metadata": {
        "colab": {
          "base_uri": "https://localhost:8080/",
          "height": 212
        },
        "id": "Hlnf125XeJ7P",
        "outputId": "1d14bc3f-476f-4c54-d4ce-bf36b5488df2"
      },
      "source": [
        "print(\"-----ULTIMAS 5 COMPRAS-----\")\n",
        "Tabla.tail()"
      ],
      "execution_count": 31,
      "outputs": [
        {
          "output_type": "stream",
          "text": [
            "-----ULTIMAS 5 COMPRAS-----\n"
          ],
          "name": "stdout"
        },
        {
          "output_type": "execute_result",
          "data": {
            "text/html": [
              "<div>\n",
              "<style scoped>\n",
              "    .dataframe tbody tr th:only-of-type {\n",
              "        vertical-align: middle;\n",
              "    }\n",
              "\n",
              "    .dataframe tbody tr th {\n",
              "        vertical-align: top;\n",
              "    }\n",
              "\n",
              "    .dataframe thead th {\n",
              "        text-align: right;\n",
              "    }\n",
              "</style>\n",
              "<table border=\"1\" class=\"dataframe\">\n",
              "  <thead>\n",
              "    <tr style=\"text-align: right;\">\n",
              "      <th></th>\n",
              "      <th>Edad</th>\n",
              "      <th>Temperatura</th>\n",
              "      <th>Bebida</th>\n",
              "    </tr>\n",
              "  </thead>\n",
              "  <tbody>\n",
              "    <tr>\n",
              "      <th>995</th>\n",
              "      <td>17</td>\n",
              "      <td>17</td>\n",
              "      <td>0</td>\n",
              "    </tr>\n",
              "    <tr>\n",
              "      <th>996</th>\n",
              "      <td>57</td>\n",
              "      <td>12</td>\n",
              "      <td>1</td>\n",
              "    </tr>\n",
              "    <tr>\n",
              "      <th>997</th>\n",
              "      <td>82</td>\n",
              "      <td>5</td>\n",
              "      <td>1</td>\n",
              "    </tr>\n",
              "    <tr>\n",
              "      <th>998</th>\n",
              "      <td>61</td>\n",
              "      <td>5</td>\n",
              "      <td>1</td>\n",
              "    </tr>\n",
              "    <tr>\n",
              "      <th>999</th>\n",
              "      <td>44</td>\n",
              "      <td>3</td>\n",
              "      <td>0</td>\n",
              "    </tr>\n",
              "  </tbody>\n",
              "</table>\n",
              "</div>"
            ],
            "text/plain": [
              "     Edad  Temperatura  Bebida\n",
              "995    17           17       0\n",
              "996    57           12       1\n",
              "997    82            5       1\n",
              "998    61            5       1\n",
              "999    44            3       0"
            ]
          },
          "metadata": {
            "tags": []
          },
          "execution_count": 31
        }
      ]
    },
    {
      "cell_type": "code",
      "metadata": {
        "colab": {
          "base_uri": "https://localhost:8080/",
          "height": 530
        },
        "id": "hABVne4beav2",
        "outputId": "d407f497-c70c-4574-c56a-081ddbacb9ca"
      },
      "source": [
        "#2.-\n",
        "print(\"-----DIAGRAMA DE DISPERSIÓN-----\")\n",
        "plt.figure(figsize=(8,8))\n",
        "sns.scatterplot(x=Tabla.Edad, y=Tabla.Temperatura, hue= Tabla.Bebida)"
      ],
      "execution_count": 32,
      "outputs": [
        {
          "output_type": "stream",
          "text": [
            "-----DIAGRAMA DE DISPERSIÓN-----\n"
          ],
          "name": "stdout"
        },
        {
          "output_type": "execute_result",
          "data": {
            "text/plain": [
              "<matplotlib.axes._subplots.AxesSubplot at 0x7f133f349610>"
            ]
          },
          "metadata": {
            "tags": []
          },
          "execution_count": 32
        },
        {
          "output_type": "display_data",
          "data": {
            "image/png": "[encoded data removed]",
            "text/plain": [
              "<Figure size 576x576 with 1 Axes>"
            ]
          },
          "metadata": {
            "tags": [],
            "needs_background": "light"
          }
        }
      ]
    },
    {
      "cell_type": "code",
      "metadata": {
        "colab": {
          "base_uri": "https://localhost:8080/",
          "height": 402
        },
        "id": "c0EySmxRfKvF",
        "outputId": "e1e5e23b-a66d-422d-9364-13a01f3eb351"
      },
      "source": [
        "# 3.- \n",
        "nueva_Tabla = Tabla\n",
        "# edades menores de edad, mayores de edad y mayores de 60 representados con 0,1,2 respectivamente\n",
        "for i in range(0,1000):\n",
        "  if (Tabla.Edad[i] < 18):\n",
        "    nueva_Tabla.Edad[i] = 0\n",
        "  elif (Tabla.Edad[i] >= 18 and Tabla.Edad[i] < 60):\n",
        "    nueva_Tabla.Edad[i] = 1\n",
        "  else:\n",
        "    nueva_Tabla.Edad[i] = 2\n",
        "nueva_Tabla\n",
        "# Temperaturas frias, templadas y calidas en orden de 0,1 y 2 respectivamente\n",
        "for i in range(0,1000):\n",
        "  if (Tabla.Temperatura[i] <= 10):\n",
        "    nueva_Tabla.Temperatura[i] = 0\n",
        "  elif (Tabla.Temperatura[i] > 10 and Tabla.Temperatura[i] < 20):\n",
        "    nueva_Tabla.Temperatura[i] = 1\n",
        "  else:\n",
        "    nueva_Tabla.Temperatura[i] = 2\n",
        "\n",
        "\n",
        "nueva_Tabla\n",
        "\n"
      ],
      "execution_count": 35,
      "outputs": [
        {
          "output_type": "execute_result",
          "data": {
            "text/html": [
              "<div>\n",
              "<style scoped>\n",
              "    .dataframe tbody tr th:only-of-type {\n",
              "        vertical-align: middle;\n",
              "    }\n",
              "\n",
              "    .dataframe tbody tr th {\n",
              "        vertical-align: top;\n",
              "    }\n",
              "\n",
              "    .dataframe thead th {\n",
              "        text-align: right;\n",
              "    }\n",
              "</style>\n",
              "<table border=\"1\" class=\"dataframe\">\n",
              "  <thead>\n",
              "    <tr style=\"text-align: right;\">\n",
              "      <th></th>\n",
              "      <th>Edad</th>\n",
              "      <th>Temperatura</th>\n",
              "      <th>Bebida</th>\n",
              "    </tr>\n",
              "  </thead>\n",
              "  <tbody>\n",
              "    <tr>\n",
              "      <th>0</th>\n",
              "      <td>0</td>\n",
              "      <td>1</td>\n",
              "      <td>0</td>\n",
              "    </tr>\n",
              "    <tr>\n",
              "      <th>1</th>\n",
              "      <td>0</td>\n",
              "      <td>1</td>\n",
              "      <td>0</td>\n",
              "    </tr>\n",
              "    <tr>\n",
              "      <th>2</th>\n",
              "      <td>1</td>\n",
              "      <td>1</td>\n",
              "      <td>1</td>\n",
              "    </tr>\n",
              "    <tr>\n",
              "      <th>3</th>\n",
              "      <td>1</td>\n",
              "      <td>1</td>\n",
              "      <td>0</td>\n",
              "    </tr>\n",
              "    <tr>\n",
              "      <th>4</th>\n",
              "      <td>1</td>\n",
              "      <td>2</td>\n",
              "      <td>1</td>\n",
              "    </tr>\n",
              "    <tr>\n",
              "      <th>...</th>\n",
              "      <td>...</td>\n",
              "      <td>...</td>\n",
              "      <td>...</td>\n",
              "    </tr>\n",
              "    <tr>\n",
              "      <th>995</th>\n",
              "      <td>0</td>\n",
              "      <td>1</td>\n",
              "      <td>0</td>\n",
              "    </tr>\n",
              "    <tr>\n",
              "      <th>996</th>\n",
              "      <td>1</td>\n",
              "      <td>1</td>\n",
              "      <td>1</td>\n",
              "    </tr>\n",
              "    <tr>\n",
              "      <th>997</th>\n",
              "      <td>2</td>\n",
              "      <td>0</td>\n",
              "      <td>1</td>\n",
              "    </tr>\n",
              "    <tr>\n",
              "      <th>998</th>\n",
              "      <td>2</td>\n",
              "      <td>0</td>\n",
              "      <td>1</td>\n",
              "    </tr>\n",
              "    <tr>\n",
              "      <th>999</th>\n",
              "      <td>1</td>\n",
              "      <td>0</td>\n",
              "      <td>0</td>\n",
              "    </tr>\n",
              "  </tbody>\n",
              "</table>\n",
              "<p>1000 rows × 3 columns</p>\n",
              "</div>"
            ],
            "text/plain": [
              "     Edad  Temperatura  Bebida\n",
              "0       0            1       0\n",
              "1       0            1       0\n",
              "2       1            1       1\n",
              "3       1            1       0\n",
              "4       1            2       1\n",
              "..    ...          ...     ...\n",
              "995     0            1       0\n",
              "996     1            1       1\n",
              "997     2            0       1\n",
              "998     2            0       1\n",
              "999     1            0       0\n",
              "\n",
              "[1000 rows x 3 columns]"
            ]
          },
          "metadata": {
            "tags": []
          },
          "execution_count": 35
        }
      ]
    },
    {
      "cell_type": "code",
      "metadata": {
        "colab": {
          "base_uri": "https://localhost:8080/"
        },
        "id": "4d0UDrG2kMnp",
        "outputId": "e719ceef-e18a-4c3b-959a-1b1aa4dc82b9"
      },
      "source": [
        "#5.-\n",
        "Bebida_fria = 0\n",
        "Bebida_caliente = 0\n",
        "for i in range(0,1000):\n",
        "  if (nueva_Tabla.Bebida[i] == 0):\n",
        "    Bebida_fria += 1\n",
        "  else:\n",
        "    Bebida_caliente += 1\n",
        "\n",
        "Bebida_fria /= 1000\n",
        "Bebida_caliente /= 1000\n",
        "\n",
        "print(f\"P(Z=fria):{Bebida_fria} \\nP(Z=caliente):{Bebida_caliente}\")"
      ],
      "execution_count": 43,
      "outputs": [
        {
          "output_type": "stream",
          "text": [
            "P(Z=fria):0.339 \n",
            "P(Z=caliente):0.661\n"
          ],
          "name": "stdout"
        }
      ]
    },
    {
      "cell_type": "code",
      "metadata": {
        "colab": {
          "base_uri": "https://localhost:8080/"
        },
        "id": "uttKHXhZugoB",
        "outputId": "9ebb2e86-8582-4b0f-9e91-66d7ac241fb2"
      },
      "source": [
        "\n",
        "# posicion 0 menores de 18; posicion 1 mayores a 18 y menores a 60; posicion 2 mayores a 60\n",
        "# posicion n,0 dia frio posicion n,1 dia templado posicion n,2 dia frio\n",
        "evidenciaxy = [[0,0,0],[0,0,0],[0,0,0]]\n",
        "\n",
        "for i in range(0,1000):\n",
        "  evidenciaxy[nueva_Tabla.Edad[i]][nueva_Tabla.Temperatura[i]] += 1\n",
        "\n",
        "for i in range(0,3):\n",
        "  for k in range(0,3):\n",
        "    evidenciaxy[i][k] /= 1000\n",
        "\n",
        "print(\"Distribucion conjunta\")\n",
        "print(evidenciaxy)\n",
        "\n"
      ],
      "execution_count": 52,
      "outputs": [
        {
          "output_type": "stream",
          "text": [
            "Distribucion conjunta\n",
            "[[0.036, 0.178, 0.077], [0.05, 0.309, 0.133], [0.028, 0.126, 0.063]]\n"
          ],
          "name": "stdout"
        }
      ]
    },
    {
      "cell_type": "code",
      "metadata": {
        "colab": {
          "base_uri": "https://localhost:8080/"
        },
        "id": "8ty-IUhMxd22",
        "outputId": "c62fb3f8-95b6-4ba1-a6f2-e4ea3a92b11d"
      },
      "source": [
        "# 7.1\n",
        "# posicion 0 menores de 18; posicion 1 mayores a 18 y menores a 60; posicion 2 mayores a 60\n",
        "# posicion n,0 dia frio posicion n,1 dia templado posicion n,2 dia frio\n",
        "#posicion n,k,0 bebida fria, posicion n,k,1 bebida caliente \n",
        "evidenciaxyz = [[[0,0],[0,0],[0,0]],[[0,0],[0,0],[0,0]],[[0,0],[0,0],[0,0]]]\n",
        "\n",
        "for i in range(0,1000):\n",
        " evidenciaxyz[nueva_Tabla.Edad[i]][nueva_Tabla.Temperatura[i]][nueva_Tabla.Bebida[i]] += 1\n",
        "\n",
        "for i in range(0,3):\n",
        "  for k in range(0,3):\n",
        "    for e in range(0,2):\n",
        "      evidenciaxyz[i][k][e] /= 1000\n",
        "\n",
        "print(\"P(X ∩ Y ∩ Z),\")\n",
        "print(evidenciaxyz)\n",
        "\n",
        "print(\"P(X ∩ Y|Z)\")\n",
        "for i in range(0,3):\n",
        "  for k in range(0,3):\n",
        "    for e in range(0,2):\n",
        "      if (e == 0):\n",
        "        evidenciaxyz[i][k][e] /= Bebida_fria\n",
        "      else:\n",
        "        evidenciaxyz[i][k][e] /= Bebida_caliente\n",
        "print(evidenciaxyz)"
      ],
      "execution_count": 56,
      "outputs": [
        {
          "output_type": "stream",
          "text": [
            "P(X ∩ Y ∩ Z),\n",
            "[[[0.016, 0.02], [0.047, 0.003], [0.027, 0.001]], [[0.043, 0.135], [0.11, 0.199], [0.061, 0.065]], [[0.008, 0.069], [0.014, 0.119], [0.013, 0.05]]]\n",
            "P(X ∩ Y|Z)\n",
            "[[[0.0471976401179941, 0.030257186081694403], [0.13864306784660765, 0.0045385779122541605], [0.07964601769911504, 0.0015128593040847202]], [[0.12684365781710913, 0.2042360060514372], [0.3244837758112094, 0.3010590015128593], [0.1799410029498525, 0.09833585476550681]], [[0.02359882005899705, 0.1043872919818457], [0.04129793510324484, 0.18003025718608168], [0.0383480825958702, 0.07564296520423601]]]\n"
          ],
          "name": "stdout"
        }
      ]
    },
    {
      "cell_type": "code",
      "metadata": {
        "colab": {
          "base_uri": "https://localhost:8080/"
        },
        "id": "DO-P4luRp6xN",
        "outputId": "8c892e17-6b3d-44cb-8a34-571904cf8090"
      },
      "source": [
        "\n",
        "print(f\"Nuevo cliente\")\n",
        "print(\"Edad: \")\n",
        "edad = input()\n",
        "print(\"Temperatura: \")\n",
        "temperatura=input()\n",
        "if (edad == \"menor\"):\n",
        "  edad = 0\n",
        "elif (edad == \"adulto\"):\n",
        "  edad = 1\n",
        "elif (edad == \"mayor\"):\n",
        "  edad = 2\n",
        "else:\n",
        "  try:\n",
        "    edad = int(edad)\n",
        "    if (edad < 18 ):\n",
        "      edad = 0\n",
        "    if (edad >= 18 and edad < 60):\n",
        "      edad = 1\n",
        "    else:\n",
        "      edad = 2\n",
        "  except:\n",
        "    edad = 1\n",
        "\n",
        "if (temperatura == \"frio\"):\n",
        "  temperatura = 0\n",
        "elif (temperatura == \"templado\"):\n",
        "  temperatura = 1\n",
        "elif (temperatura == \"calido\"):\n",
        "  temperatura = 2\n",
        "else:\n",
        "  try:\n",
        "    temperatura = int(temperatura)\n",
        "    if (temperatura <= 10):\n",
        "      temperatura = 0\n",
        "    elif (temperatura > 10 and temperatura < 20):\n",
        "      temperatura = 1\n",
        "    else:\n",
        "      temperatura = 2\n",
        "  except:\n",
        "    temperatura = 1\n",
        "  \n",
        "\n",
        "probabilidad_sugerencia_fria = (Bebida_fria * evidenciaxyz[edad][temperatura][0]) / evidenciaxy[edad][temperatura]\n",
        "probabilidad_sugerencia_caliente = (Bebida_fria * evidenciaxyz[edad][temperatura][1]) / evidenciaxy[edad][temperatura]\n",
        "    \n",
        "if (probabilidad_sugerencia_fria < probabilidad_sugerencia_caliente):\n",
        "  print(f\"La sugerencia es: Caliente\")\n",
        "else:\n",
        "  print(f\"la sugerencia es: Fria\")"
      ],
      "execution_count": 77,
      "outputs": [
        {
          "output_type": "stream",
          "text": [
            "Nuevo cliente\n",
            "Edad: \n",
            "joven\n",
            "Temperatura: \n",
            "fria\n",
            "la sugerencia es: Fria\n"
          ],
          "name": "stdout"
        }
      ]
    }
  ]
}