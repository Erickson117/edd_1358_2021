{
  "nbformat": 4,
  "nbformat_minor": 0,
  "metadata": {
    "colab": {
      "name": "28deOctubre1358.ipynb",
      "provenance": [],
      "authorship_tag": "ABX9TyN7E1YC2X/EAMgNpTMemzqo",
      "include_colab_link": true
    },
    "kernelspec": {
      "name": "python3",
      "display_name": "Python 3"
    }
  },
  "cells": [
    {
      "cell_type": "markdown",
      "metadata": {
        "id": "view-in-github",
        "colab_type": "text"
      },
      "source": [
        "<a href=\"https://colab.research.google.com/github/Erickson117/edd_1358_2021/blob/master/28deOctubre1358.ipynb\" target=\"_parent\"><img src=\"https://colab.research.google.com/assets/colab-badge.svg\" alt=\"Open In Colab\"/></a>"
      ]
    },
    {
      "cell_type": "code",
      "metadata": {
        "id": "6xhfnD1s8m05",
        "outputId": "dc19431f-af79-4a28-f42a-eb89dac206c1",
        "colab": {
          "base_uri": "https://localhost:8080/"
        }
      },
      "source": [
        "\"\"\"\n",
        "Array\n",
        "\"\"\"\n",
        "\n",
        "class Array:\n",
        "  def __init__(self,tam):\n",
        "    self.__datos = [0 for x in range(tam) ]\n",
        "\n",
        "  def get_item(self, index):\n",
        "    dato = 0\n",
        "    if index >= 0 and index < len(self.__datos):\n",
        "      dato = self.__datos[index]\n",
        "    else:\n",
        "      print(\"error en el indice\")\n",
        "\n",
        "    return dato\n",
        "  \n",
        "  def set_item(self, index , dato):\n",
        "     if index >= 0 and index < len(self.__datos):\n",
        "       self.__datos[index] = dato\n",
        "     else:\n",
        "       print(\"error en el indice\")\n",
        "  \n",
        "  def get_leght(self):\n",
        "    tamano = len(self.__datos)\n",
        "    return tamano\n",
        "  def clear(self,dato):\n",
        "    self.__datos = [ dato for x in range(self.__tam)]\n",
        "  def getIterator(self):\n",
        "    return _getIterador(self.__datos)\n",
        "\n",
        "\n",
        "\n",
        "class _getIterador:\n",
        "  def __init__(self,arreglo):\n",
        "    self.__arreglo = arreglo\n",
        "    self.__indice_actual = 0\n",
        "\n",
        "  def __iter__(self):\n",
        "    return self\n",
        "  def __next__(self):\n",
        "    if self.__indice_actual < len(self.__arreglo):\n",
        "      dato = self.__arreglo[self.__indice_actual]\n",
        "      self.__indice_actual += 1\n",
        "      return dato\n",
        "    else:\n",
        "      raise StopIteration \n",
        "     \n",
        "\n",
        "\n",
        "\n",
        "\n",
        "mi_arreglo = Array(10)\n",
        "print(mi_arreglo.get_item(20))\n",
        "print(mi_arreglo.get_leght())\n",
        "mi_arreglo.set_item(2345,3)\n",
        "print(mi_arreglo.get_item(3))\n",
        "for x in mi_arreglo.getIterator():\n",
        "  print(x)"
      ],
      "execution_count": 30,
      "outputs": [
        {
          "output_type": "stream",
          "text": [
            "error en el indice\n",
            "0\n",
            "10\n",
            "error en el indice\n",
            "0\n",
            "0\n",
            "0\n",
            "0\n",
            "0\n",
            "0\n",
            "0\n",
            "0\n",
            "0\n",
            "0\n",
            "0\n"
          ],
          "name": "stdout"
        }
      ]
    },
    {
      "cell_type": "code",
      "metadata": {
        "id": "9ebdwFecFU1W"
      },
      "source": [
        ""
      ],
      "execution_count": null,
      "outputs": []
    }
  ]
}