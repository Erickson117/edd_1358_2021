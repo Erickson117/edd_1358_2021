{
  "nbformat": 4,
  "nbformat_minor": 0,
  "metadata": {
    "colab": {
      "name": "Tarea7_Reyes Garcia Erick Jesus.ipynb",
      "provenance": [],
      "authorship_tag": "ABX9TyMt4jfuDq8usH79AktIDIiQ",
      "include_colab_link": true
    },
    "kernelspec": {
      "name": "python3",
      "display_name": "Python 3"
    }
  },
  "cells": [
    {
      "cell_type": "markdown",
      "metadata": {
        "id": "view-in-github",
        "colab_type": "text"
      },
      "source": [
        "<a href=\"https://colab.research.google.com/github/Erickson117/edd_1358_2021/blob/master/Tarea7_Reyes_Garcia_Erick_Jesus.ipynb\" target=\"_parent\"><img src=\"https://colab.research.google.com/assets/colab-badge.svg\" alt=\"Open In Colab\"/></a>"
      ]
    },
    {
      "cell_type": "code",
      "metadata": {
        "id": "vSJxF593Lyqm"
      },
      "source": [
        "\"\"\"\n",
        "Nombre: Reyes Garcia Erick Jesus\n",
        "Grupo: 1358\n",
        "Tarea: Tarea 7 Pilas\n",
        "\"\"\"\n",
        "class Stack:\n",
        "  def __init__(self):\n",
        "    self.__data = []\n",
        "    self.__size = 0\n",
        "\n",
        "  def length(self):\n",
        "    return self.__size\n",
        "  \n",
        "  def is_empty(self):\n",
        "    return self.__size == 0\n",
        "\n",
        "  def pop( self ):\n",
        "    self.__size -= 1\n",
        "    return self.__data.pop()\n",
        "  \n",
        "  def peak(self):\n",
        "    return self.__data[-1]\n",
        "  \n",
        "  def push(self,value):\n",
        "    self.__data.append(value)\n",
        "    self.__size += 1\n",
        "\n",
        "  def to_string(self):\n",
        "    print(\"-------------------\")\n",
        "    for dato in self.__data[::-1]:\n",
        "      print(f\"| {dato} |\")\n",
        "      print(\"------\")"
      ],
      "execution_count": 1,
      "outputs": []
    },
    {
      "cell_type": "code",
      "metadata": {
        "colab": {
          "base_uri": "https://localhost:8080/"
        },
        "id": "BQrT-LXsM_sl",
        "outputId": "dc4629e3-2cd0-4147-d141-947bc1179f2b"
      },
      "source": [
        "#aplicaciones de la estructura Stack\n",
        "#validacion de parentesis valanceados\n",
        "\n",
        "cadena =\"b=3*(5+((4/2))))\"\n",
        "\n",
        "pila  = Stack()\n",
        "pila.push(\"#\") #caracter de pila vacia\n",
        "for elem in cadena:\n",
        "  if elem == \"(\":\n",
        "    pila.push(\"*\")\n",
        "  elif elem == \")\":\n",
        "    try: #no se puede usar la funcion pop si esta vacio, por eso use este try aunque lo pude poner en el metodo\n",
        "     pila.pop()\n",
        "    except IndexError: #si da el error IndexError pasa\n",
        "      pass\n",
        "  else:\n",
        "    pass\n",
        "try: \n",
        " if pila.peak() == \"#\": #no puede usas peak por la misma razon de pop, en este igual se podria modificar el metodo\n",
        "   print(\"la expresion esta balanceada en parentesis\")\n",
        " else:\n",
        "   print(\"La expresion NO esta balanceada: tiene parentesis de apertura extra\") \n",
        "except IndexError:\n",
        "   print(\"La expresion No esta balanceada: tiene parentesis de cierre extras\") #si hay parentesis de cirre extra da el error IndexError lo que indica que hay parentesis de cierre extras\n"
      ],
      "execution_count": 2,
      "outputs": [
        {
          "output_type": "stream",
          "text": [
            "La expresion No esta balanceada: tiene parentesis de cierre extras\n"
          ],
          "name": "stdout"
        }
      ]
    }
  ]
}