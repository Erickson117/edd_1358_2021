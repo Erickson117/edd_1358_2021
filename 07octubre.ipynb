{
  "nbformat": 4,
  "nbformat_minor": 0,
  "metadata": {
    "colab": {
      "name": "07octubre.ipynb",
      "provenance": [],
      "authorship_tag": "ABX9TyPD5emipjxpLE2uJJj6YHKQ",
      "include_colab_link": true
    },
    "kernelspec": {
      "name": "python3",
      "display_name": "Python 3"
    }
  },
  "cells": [
    {
      "cell_type": "markdown",
      "metadata": {
        "id": "view-in-github",
        "colab_type": "text"
      },
      "source": [
        "<a href=\"https://colab.research.google.com/github/Erickson117/edd_1358_2021/blob/master/07octubre.ipynb\" target=\"_parent\"><img src=\"https://colab.research.google.com/assets/colab-badge.svg\" alt=\"Open In Colab\"/></a>"
      ]
    },
    {
      "cell_type": "code",
      "metadata": {
        "id": "YzdJlZi8wSsF"
      },
      "source": [
        ""
      ],
      "execution_count": null,
      "outputs": []
    },
    {
      "cell_type": "markdown",
      "metadata": {
        "id": "VfD4DY0blLqH"
      },
      "source": [
        "\n",
        "\n",
        "## LISTAS REPASO \n",
        "\n"
      ]
    },
    {
      "cell_type": "code",
      "metadata": {
        "id": "iskqPb8blDZd",
        "outputId": "5ae3ab2b-3e98-4b4b-943f-320f914b86d0",
        "colab": {
          "base_uri": "https://localhost:8080/"
        }
      },
      "source": [
        "# listas multidimension\n",
        "\n",
        "autos = [\"Mazda\",\"honda\",\"Akura\",\"Ford\",\"VW\"]\n",
        "telefonos = [\"iPhone\",\"Huawei Mate 30\", \"Xiaomi S10\",\"Alcatel t1000\"]\n",
        "sistemas_operativos = [ \"Windows\", \"Linux\" , \"Android\" , \"iOS\" ,\"MacOs\" ]\n",
        "procesadores = [[\"intel\",3.1,True],[\"AMD\",2.7,False],[\"Motorola\",1.1,False]]\n",
        "lista_2d = [autos,telefonos,sistemas_operativos,procesadores]\n",
        "print(lista_2d)\n",
        "print(lista_2d[1][1])\n",
        "print(lista_2d[2][3])\n",
        "print(lista_2d[1][1][3:6])\n",
        "print(lista_2d[3][1][1])\n",
        "print(lista_2d[3][2][0][2:6])\n",
        "print(lista_2d[3][0][0][-2:-5:-1])\n",
        "\n",
        "colores = [\"rojo\",\"verde\",\"azul\",\"negro\"]\n",
        "flores = [\"margarita\",\"rosa\"]\n",
        "# nueva variable para no modificar\n",
        "nueva = colores + flores\n",
        "\n",
        "print(nueva)\n",
        "print(flores)\n",
        "print(colores)\n",
        "\n",
        "#con extends modifica\n",
        "\n",
        "colores.extend(flores)\n",
        "print(colores)\n",
        "\n",
        "# unpaking de listas\n",
        "print(\"unpaking\")\n",
        "datos_personales = [\"Jose\",\"Perez\",\"Juarez\",22,1.67,True]\n",
        "\n",
        "nombre,parerno,materno,edad,estatura,fuma = datos_personales\n",
        "print(datos_personales)\n",
        "print(nombre)\n",
        "print(parerno)"
      ],
      "execution_count": 66,
      "outputs": [
        {
          "output_type": "stream",
          "text": [
            "[['Mazda', 'honda', 'Akura', 'Ford', 'VW'], ['iPhone', 'Huawei Mate 30', 'Xiaomi S10', 'Alcatel t1000'], ['Windows', 'Linux', 'Android', 'iOS', 'MacOs'], [['intel', 3.1, True], ['AMD', 2.7, False], ['Motorola', 1.1, False]]]\n",
            "Huawei Mate 30\n",
            "iOS\n",
            "wei\n",
            "2.7\n",
            "toro\n",
            "etn\n",
            "['rojo', 'verde', 'azul', 'negro', 'margarita', 'rosa']\n",
            "['margarita', 'rosa']\n",
            "['rojo', 'verde', 'azul', 'negro']\n",
            "['rojo', 'verde', 'azul', 'negro', 'margarita', 'rosa']\n",
            "unpaking\n",
            "['Jose', 'Perez', 'Juarez', 22, 1.67, True]\n",
            "Jose\n",
            "Perez\n"
          ],
          "name": "stdout"
        }
      ]
    },
    {
      "cell_type": "markdown",
      "metadata": {
        "id": "W7M0zQsvuMNu"
      },
      "source": [
        "## TUPLAS"
      ]
    },
    {
      "cell_type": "code",
      "metadata": {
        "id": "w94skEiluRNt",
        "outputId": "490c2ddb-13e7-420b-cb3c-2d515fb30a60",
        "colab": {
          "base_uri": "https://localhost:8080/"
        }
      },
      "source": [
        "# las tuplas no son mutables\n",
        "print(\"tuplas\")\n",
        "bd = ('127.0.0.1','root','toor','1345')\n",
        "print(f\"Usuario: {bd[1]}\")\n",
        "\n",
        "#bd[1] = \"usuario 1\" no se puede por que es una tupla\n",
        "print(bd[1],bd[3]) \n",
        "print(bd[1:3])"
      ],
      "execution_count": 65,
      "outputs": [
        {
          "output_type": "stream",
          "text": [
            "tuplas\n",
            "Usuario: root\n",
            "root 1345\n",
            "('root', 'toor')\n"
          ],
          "name": "stdout"
        }
      ]
    },
    {
      "cell_type": "markdown",
      "metadata": {
        "id": "m-nspeLpwGH_"
      },
      "source": [
        "## DICCIONARIOS\n"
      ]
    },
    {
      "cell_type": "code",
      "metadata": {
        "id": "BYw9TcfiwL_N",
        "outputId": "6cbcc050-62ac-4d01-e369-2f1352ea7310",
        "colab": {
          "base_uri": "https://localhost:8080/"
        }
      },
      "source": [
        "# si son mutables se declaran con llaves {}\n",
        "print(\"diccionarios\")\n",
        "alumno = {'Nombre':'Juan','edad':22,'carrera':'ICO'}\n",
        "print(alumno)\n",
        "print(alumno['edad'])\n",
        "# los diccionaris se pueden escribir en multiples lineas\n",
        "alumno = {'Nombre':'Juan',\n",
        "          'edad':22,\n",
        "          'carrera':'ICO',\n",
        "          'direccion':{'calle':'Bosques de Africa',\n",
        "                       'numero':39,\n",
        "                       'delegacion':'Nezahualcoyotl',\n",
        "                       'estado':15,\n",
        "                       'nombre de estado':'Nezahualcoyolt'\n",
        "                      }\n",
        "          \n",
        "                      \n",
        "          }\n",
        "print(alumno['direccion'])\n",
        "print(alumno['direccion']['delegacion'])\n",
        "print(alumno['direccion']['delegacion'][3:7])\n",
        "print(alumno['direccion']['delegacion'][3:7].upper())\n",
        "alumno['Edad'] = 35\n",
        "print(alumno)\n",
        "alumno['Promedio'] = 9.9\n",
        "print(alumno)\n",
        "alumno['materias'] = {'nombre':'CyP','calificacion':10}\n",
        "print(alumno)\n"
      ],
      "execution_count": 64,
      "outputs": [
        {
          "output_type": "stream",
          "text": [
            "diccionarios\n",
            "{'Nombre': 'Juan', 'edad': 22, 'carrera': 'ICO'}\n",
            "22\n",
            "{'calle': 'Bosques de Africa', 'numero': 39, 'delegacion': 'Nezahualcoyotl', 'estado': 15, 'nombre de estado': 'Nezahualcoyolt'}\n",
            "Nezahualcoyotl\n",
            "ahua\n",
            "AHUA\n",
            "{'Nombre': 'Juan', 'edad': 22, 'carrera': 'ICO', 'direccion': {'calle': 'Bosques de Africa', 'numero': 39, 'delegacion': 'Nezahualcoyotl', 'estado': 15, 'nombre de estado': 'Nezahualcoyolt'}, 'Edad': 35}\n",
            "{'Nombre': 'Juan', 'edad': 22, 'carrera': 'ICO', 'direccion': {'calle': 'Bosques de Africa', 'numero': 39, 'delegacion': 'Nezahualcoyotl', 'estado': 15, 'nombre de estado': 'Nezahualcoyolt'}, 'Edad': 35, 'Promedio': 9.9}\n",
            "{'Nombre': 'Juan', 'edad': 22, 'carrera': 'ICO', 'direccion': {'calle': 'Bosques de Africa', 'numero': 39, 'delegacion': 'Nezahualcoyotl', 'estado': 15, 'nombre de estado': 'Nezahualcoyolt'}, 'Edad': 35, 'Promedio': 9.9, 'materias': {'nombre': 'CyP', 'calificacion': 10}}\n"
          ],
          "name": "stdout"
        }
      ]
    }
  ]
}