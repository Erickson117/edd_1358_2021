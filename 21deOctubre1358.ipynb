{
  "nbformat": 4,
  "nbformat_minor": 0,
  "metadata": {
    "colab": {
      "name": "21deOctubre1358.ipynb",
      "provenance": [],
      "authorship_tag": "ABX9TyOWSlu59zmanLWlC7Tc5bZB",
      "include_colab_link": true
    },
    "kernelspec": {
      "name": "python3",
      "display_name": "Python 3"
    }
  },
  "cells": [
    {
      "cell_type": "markdown",
      "metadata": {
        "id": "view-in-github",
        "colab_type": "text"
      },
      "source": [
        "<a href=\"https://colab.research.google.com/github/Erickson117/edd_1358_2021/blob/master/21deOctubre1358.ipynb\" target=\"_parent\"><img src=\"https://colab.research.google.com/assets/colab-badge.svg\" alt=\"Open In Colab\"/></a>"
      ]
    },
    {
      "cell_type": "markdown",
      "metadata": {
        "id": "YonUXuPqsk74"
      },
      "source": [
        "## Continuacion POO en python \n",
        "\n"
      ]
    },
    {
      "cell_type": "code",
      "metadata": {
        "id": "t3JpybVnsO63",
        "outputId": "a7948819-11c4-4e79-afd9-37bbc2ff1ca4",
        "colab": {
          "base_uri": "https://localhost:8080/",
          "height": 86
        }
      },
      "source": [
        "class SmartPhone:\n",
        "  def __init__( self, m ):\n",
        "    self.__marca = m\n",
        "    #forma tradicional\n",
        "  def set_marca(self, m):\n",
        "    self.__marca = m\n",
        "  def get_marca(self,  m):\n",
        "    return self.__marca\n",
        "  def to_string(self):\n",
        "    return \"La marca del telefono es: \" + self.__marca\n",
        "#creando un objeto de la clase SmartPhone\n",
        "sp1 = SmartPhone(\"Huawei\")\n",
        "print(sp1.to_string())\n",
        "#No se cambia por que esta encapsulado\n",
        "sp1.__marca = \"iPhone X\"\n",
        "print(sp1.to_string())\n",
        "#aqui si se cambia porque se usa el metodo set\n",
        "sp1.set_marca(\"Samsung\")\n",
        "print(sp1.to_string())\n",
        "#si se quiere obtener unicamnete el valor se usa get\n",
        "print(sp1.get_marca(\"\"))"
      ],
      "execution_count": 15,
      "outputs": [
        {
          "output_type": "stream",
          "text": [
            "La marca del telefono es: Huawei\n",
            "La marca del telefono es: Huawei\n",
            "La marca del telefono es: Samsung\n",
            "Samsung\n"
          ],
          "name": "stdout"
        }
      ]
    },
    {
      "cell_type": "code",
      "metadata": {
        "id": "O4nD3A02x4FP",
        "outputId": "bd9fe7fb-4a2a-4000-81bc-42fe846f99ad",
        "colab": {
          "base_uri": "https://localhost:8080/",
          "height": 415
        }
      },
      "source": [
        "# Estilo python 3\n",
        "class SmartPhone:\n",
        "  def __init__ (self,m):\n",
        "    self.marca = m  #llamando al metodo set #se esta definiendo metodo get y se declara self.__marca\n",
        "  @property\n",
        "  def marca (self):\n",
        "    print(\"En el metodo get de marca\")\n",
        "    return self.__marca\n",
        "    #el setter debe estar despues del get\n",
        "\n",
        "  @marca.setter\n",
        "  def marca (self,m):\n",
        "    if m in [\"Sony\",\"lenovo\",\"Xiami\",\"iPhone SE\",\"Huawei\",\"Xiami\",\"Nokia\",\"Motorolat\"]:\n",
        "      self.__marca = m\n",
        "    else:\n",
        "      print(\"no valido\")\n",
        "  \n",
        "  def to_string(self):\n",
        "    return \"Marca = \" + self.marca\n",
        "\n",
        "sp2 = SmartPhone(\"Xiaomi\")\n",
        "print(sp2.to_string())\n",
        "sp2.__marca = \"iPhone SE\"\n",
        "print(sp2.to_string())\n",
        "sp2.marca = \"Motorola\" #invocacion al metodo set\n",
        "print(sp2.to_string())\n",
        "print(sp2.marca) #metodo get\n",
        "\n",
        "sp2.marca = \"6529+58564589\"\n",
        "print(sp2.to_string())\n"
      ],
      "execution_count": 47,
      "outputs": [
        {
          "output_type": "stream",
          "text": [
            "no valido\n",
            "En el metodo get de marca\n"
          ],
          "name": "stdout"
        },
        {
          "output_type": "error",
          "ename": "AttributeError",
          "evalue": "ignored",
          "traceback": [
            "\u001b[0;31m---------------------------------------------------------------------------\u001b[0m",
            "\u001b[0;31mAttributeError\u001b[0m                            Traceback (most recent call last)",
            "\u001b[0;32m<ipython-input-47-8924fa9f7979>\u001b[0m in \u001b[0;36m<module>\u001b[0;34m()\u001b[0m\n\u001b[1;32m     20\u001b[0m \u001b[0;34m\u001b[0m\u001b[0m\n\u001b[1;32m     21\u001b[0m \u001b[0msp2\u001b[0m \u001b[0;34m=\u001b[0m \u001b[0mSmartPhone\u001b[0m\u001b[0;34m(\u001b[0m\u001b[0;34m\"Xiaomi\"\u001b[0m\u001b[0;34m)\u001b[0m\u001b[0;34m\u001b[0m\u001b[0;34m\u001b[0m\u001b[0m\n\u001b[0;32m---> 22\u001b[0;31m \u001b[0mprint\u001b[0m\u001b[0;34m(\u001b[0m\u001b[0msp2\u001b[0m\u001b[0;34m.\u001b[0m\u001b[0mto_string\u001b[0m\u001b[0;34m(\u001b[0m\u001b[0;34m)\u001b[0m\u001b[0;34m)\u001b[0m\u001b[0;34m\u001b[0m\u001b[0;34m\u001b[0m\u001b[0m\n\u001b[0m\u001b[1;32m     23\u001b[0m \u001b[0msp2\u001b[0m\u001b[0;34m.\u001b[0m\u001b[0m__marca\u001b[0m \u001b[0;34m=\u001b[0m \u001b[0;34m\"iPhone SE\"\u001b[0m\u001b[0;34m\u001b[0m\u001b[0;34m\u001b[0m\u001b[0m\n\u001b[1;32m     24\u001b[0m \u001b[0mprint\u001b[0m\u001b[0;34m(\u001b[0m\u001b[0msp2\u001b[0m\u001b[0;34m.\u001b[0m\u001b[0mto_string\u001b[0m\u001b[0;34m(\u001b[0m\u001b[0;34m)\u001b[0m\u001b[0;34m)\u001b[0m\u001b[0;34m\u001b[0m\u001b[0;34m\u001b[0m\u001b[0m\n",
            "\u001b[0;32m<ipython-input-47-8924fa9f7979>\u001b[0m in \u001b[0;36mto_string\u001b[0;34m(self)\u001b[0m\n\u001b[1;32m     17\u001b[0m \u001b[0;34m\u001b[0m\u001b[0m\n\u001b[1;32m     18\u001b[0m   \u001b[0;32mdef\u001b[0m \u001b[0mto_string\u001b[0m\u001b[0;34m(\u001b[0m\u001b[0mself\u001b[0m\u001b[0;34m)\u001b[0m\u001b[0;34m:\u001b[0m\u001b[0;34m\u001b[0m\u001b[0;34m\u001b[0m\u001b[0m\n\u001b[0;32m---> 19\u001b[0;31m     \u001b[0;32mreturn\u001b[0m \u001b[0;34m\"Marca = \"\u001b[0m \u001b[0;34m+\u001b[0m \u001b[0mself\u001b[0m\u001b[0;34m.\u001b[0m\u001b[0mmarca\u001b[0m\u001b[0;34m\u001b[0m\u001b[0;34m\u001b[0m\u001b[0m\n\u001b[0m\u001b[1;32m     20\u001b[0m \u001b[0;34m\u001b[0m\u001b[0m\n\u001b[1;32m     21\u001b[0m \u001b[0msp2\u001b[0m \u001b[0;34m=\u001b[0m \u001b[0mSmartPhone\u001b[0m\u001b[0;34m(\u001b[0m\u001b[0;34m\"Xiaomi\"\u001b[0m\u001b[0;34m)\u001b[0m\u001b[0;34m\u001b[0m\u001b[0;34m\u001b[0m\u001b[0m\n",
            "\u001b[0;32m<ipython-input-47-8924fa9f7979>\u001b[0m in \u001b[0;36mmarca\u001b[0;34m(self)\u001b[0m\n\u001b[1;32m      6\u001b[0m   \u001b[0;32mdef\u001b[0m \u001b[0mmarca\u001b[0m \u001b[0;34m(\u001b[0m\u001b[0mself\u001b[0m\u001b[0;34m)\u001b[0m\u001b[0;34m:\u001b[0m\u001b[0;34m\u001b[0m\u001b[0;34m\u001b[0m\u001b[0m\n\u001b[1;32m      7\u001b[0m     \u001b[0mprint\u001b[0m\u001b[0;34m(\u001b[0m\u001b[0;34m\"En el metodo get de marca\"\u001b[0m\u001b[0;34m)\u001b[0m\u001b[0;34m\u001b[0m\u001b[0;34m\u001b[0m\u001b[0m\n\u001b[0;32m----> 8\u001b[0;31m     \u001b[0;32mreturn\u001b[0m \u001b[0mself\u001b[0m\u001b[0;34m.\u001b[0m\u001b[0m__marca\u001b[0m\u001b[0;34m\u001b[0m\u001b[0;34m\u001b[0m\u001b[0m\n\u001b[0m\u001b[1;32m      9\u001b[0m     \u001b[0;31m#el setter debe estar despues del get\u001b[0m\u001b[0;34m\u001b[0m\u001b[0;34m\u001b[0m\u001b[0;34m\u001b[0m\u001b[0m\n\u001b[1;32m     10\u001b[0m \u001b[0;34m\u001b[0m\u001b[0m\n",
            "\u001b[0;31mAttributeError\u001b[0m: 'SmartPhone' object has no attribute '_SmartPhone__marca'"
          ]
        }
      ]
    },
    {
      "cell_type": "markdown",
      "metadata": {
        "id": "wrAxTCY15Ww8"
      },
      "source": [
        "## Herencia"
      ]
    },
    {
      "cell_type": "code",
      "metadata": {
        "id": "zrPFKS9y5Zwb",
        "outputId": "2dbdd9c4-c517-4dca-cbc8-8cb9985c0708",
        "colab": {
          "base_uri": "https://localhost:8080/",
          "height": 72
        }
      },
      "source": [
        "class TelefonoTabajo(SmartPhone):\n",
        " def __init__(self,m):\n",
        "   self.marca = m\n",
        "\n",
        "sp3 = TelefonoTabajo(\"Motorola\")\n",
        "print(dir(sp3))\n",
        "#print(sp3.to_String())\n",
        "\n",
        "\n"
      ],
      "execution_count": 44,
      "outputs": [
        {
          "output_type": "stream",
          "text": [
            "no valido\n",
            "['__class__', '__delattr__', '__dict__', '__dir__', '__doc__', '__eq__', '__format__', '__ge__', '__getattribute__', '__gt__', '__hash__', '__init__', '__init_subclass__', '__le__', '__lt__', '__module__', '__ne__', '__new__', '__reduce__', '__reduce_ex__', '__repr__', '__setattr__', '__sizeof__', '__str__', '__subclasshook__', '__weakref__', 'marca', 'to_string']\n"
          ],
          "name": "stdout"
        }
      ]
    }
  ]
}