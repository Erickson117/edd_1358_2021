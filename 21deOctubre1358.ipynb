{
  "nbformat": 4,
  "nbformat_minor": 0,
  "metadata": {
    "colab": {
      "name": "21deOctubre1358.ipynb",
      "provenance": [],
      "authorship_tag": "ABX9TyMV2mGQnTmO9EjrbkPEc8Wv",
      "include_colab_link": true
    },
    "kernelspec": {
      "name": "python3",
      "display_name": "Python 3"
    }
  },
  "cells": [
    {
      "cell_type": "markdown",
      "metadata": {
        "id": "view-in-github",
        "colab_type": "text"
      },
      "source": [
        "<a href=\"https://colab.research.google.com/github/Erickson117/edd_1358_2021/blob/master/21deOctubre1358.ipynb\" target=\"_parent\"><img src=\"https://colab.research.google.com/assets/colab-badge.svg\" alt=\"Open In Colab\"/></a>"
      ]
    },
    {
      "cell_type": "markdown",
      "metadata": {
        "id": "YonUXuPqsk74"
      },
      "source": [
        "## Continuacion POO en python \n",
        "\n"
      ]
    },
    {
      "cell_type": "code",
      "metadata": {
        "id": "t3JpybVnsO63",
        "outputId": "a7948819-11c4-4e79-afd9-37bbc2ff1ca4",
        "colab": {
          "base_uri": "https://localhost:8080/",
          "height": 86
        }
      },
      "source": [
        "class SmartPhone:\n",
        "  def __init__( self, m ):\n",
        "    self.__marca = m\n",
        "    #forma tradicional\n",
        "  def set_marca(self, m):\n",
        "    self.__marca = m\n",
        "  def get_marca(self,  m):\n",
        "    return self.__marca\n",
        "  def to_string(self):\n",
        "    return \"La marca del telefono es: \" + self.__marca\n",
        "#creando un objeto de la clase SmartPhone\n",
        "sp1 = SmartPhone(\"Huawei\")\n",
        "print(sp1.to_string())\n",
        "#No se cambia por que esta encapsulado\n",
        "sp1.__marca = \"iPhone X\"\n",
        "print(sp1.to_string())\n",
        "#aqui si se cambia porque se usa el metodo set\n",
        "sp1.set_marca(\"Samsung\")\n",
        "print(sp1.to_string())\n",
        "#si se quiere obtener unicamnete el valor se usa get\n",
        "print(sp1.get_marca(\"\"))"
      ],
      "execution_count": 15,
      "outputs": [
        {
          "output_type": "stream",
          "text": [
            "La marca del telefono es: Huawei\n",
            "La marca del telefono es: Huawei\n",
            "La marca del telefono es: Samsung\n",
            "Samsung\n"
          ],
          "name": "stdout"
        }
      ]
    },
    {
      "cell_type": "code",
      "metadata": {
        "id": "O4nD3A02x4FP",
        "outputId": "2e1f849b-3a1c-417f-b118-ed972f5754ad",
        "colab": {
          "base_uri": "https://localhost:8080/",
          "height": 224
        }
      },
      "source": [
        "# Estilo python 3\n",
        "class SmartPhone:\n",
        "  def __init__ (self,m):\n",
        "    self.marca = m  #llamando al metodo set #se esta definiendo metodo get y se declara self.__marca\n",
        "  @property\n",
        "  def marca (self):\n",
        "    print(\"En el metodo get de marca\")\n",
        "    return self.__marca\n",
        "    #el setter debe estar despues del get\n",
        "\n",
        "  @marca.setter\n",
        "  def marca (self,m):\n",
        "    if m in [\"Sony\",\"lenovo\",\"Xiaomi\",\"iPhone SE\",\"Huawei\",\"Xiami\",\"Nokia\",\"Motorolat\"]:\n",
        "      self.__marca = m\n",
        "    else:\n",
        "      print(\"no valido\")\n",
        "  \n",
        "  def to_string(self):\n",
        "    return \"Marca = \" + self.marca\n",
        "\n",
        "sp2 = SmartPhone(\"Xiaomi\")\n",
        "print(sp2.to_string())\n",
        "sp2.__marca = \"iPhone SE\"\n",
        "print(sp2.to_string())\n",
        "sp2.marca = \"Motorola\" #invocacion al metodo set\n",
        "print(sp2.to_string())\n",
        "print(sp2.marca) #metodo get\n",
        "\n",
        "sp2.marca = \"6529+58564589\"\n",
        "print(sp2.to_string())\n"
      ],
      "execution_count": 50,
      "outputs": [
        {
          "output_type": "stream",
          "text": [
            "En el metodo get de marca\n",
            "Marca = Xiaomi\n",
            "En el metodo get de marca\n",
            "Marca = Xiaomi\n",
            "no valido\n",
            "En el metodo get de marca\n",
            "Marca = Xiaomi\n",
            "En el metodo get de marca\n",
            "Xiaomi\n",
            "no valido\n",
            "En el metodo get de marca\n",
            "Marca = Xiaomi\n"
          ],
          "name": "stdout"
        }
      ]
    },
    {
      "cell_type": "markdown",
      "metadata": {
        "id": "wrAxTCY15Ww8"
      },
      "source": [
        "## Herencia"
      ]
    },
    {
      "cell_type": "code",
      "metadata": {
        "id": "zrPFKS9y5Zwb",
        "outputId": "2dbdd9c4-c517-4dca-cbc8-8cb9985c0708",
        "colab": {
          "base_uri": "https://localhost:8080/",
          "height": 72
        }
      },
      "source": [
        "class TelefonoTabajo(SmartPhone):\n",
        " def __init__(self,m):\n",
        "   self.marca = m\n",
        "\n",
        "sp3 = TelefonoTabajo(\"Motorola\")\n",
        "print(dir(sp3))\n",
        "#print(sp3.to_String())\n",
        "\n",
        "\n"
      ],
      "execution_count": 44,
      "outputs": [
        {
          "output_type": "stream",
          "text": [
            "no valido\n",
            "['__class__', '__delattr__', '__dict__', '__dir__', '__doc__', '__eq__', '__format__', '__ge__', '__getattribute__', '__gt__', '__hash__', '__init__', '__init_subclass__', '__le__', '__lt__', '__module__', '__ne__', '__new__', '__reduce__', '__reduce_ex__', '__repr__', '__setattr__', '__sizeof__', '__str__', '__subclasshook__', '__weakref__', 'marca', 'to_string']\n"
          ],
          "name": "stdout"
        }
      ]
    }
  ]
}