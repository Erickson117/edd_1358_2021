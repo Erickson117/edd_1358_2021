{
  "nbformat": 4,
  "nbformat_minor": 0,
  "metadata": {
    "colab": {
      "name": "30deseptiembre_1358.ipynb",
      "provenance": [],
      "collapsed_sections": [],
      "authorship_tag": "ABX9TyMZiOGuV1hEyvIdqlR6QGK3",
      "include_colab_link": true
    },
    "kernelspec": {
      "name": "python3",
      "display_name": "Python 3"
    }
  },
  "cells": [
    {
      "cell_type": "markdown",
      "metadata": {
        "id": "view-in-github",
        "colab_type": "text"
      },
      "source": [
        "<a href=\"https://colab.research.google.com/github/Erickson117/edd_1358_2021/blob/master/30deseptiembre_1358.ipynb\" target=\"_parent\"><img src=\"https://colab.research.google.com/assets/colab-badge.svg\" alt=\"Open In Colab\"/></a>"
      ]
    },
    {
      "cell_type": "markdown",
      "metadata": {
        "id": "mI2zws43skeu"
      },
      "source": [
        "## Repaso python "
      ]
    },
    {
      "cell_type": "markdown",
      "metadata": {
        "id": "p4MjWXMMs_9F"
      },
      "source": [
        "TIPOS DE DATOS"
      ]
    },
    {
      "cell_type": "code",
      "metadata": {
        "id": "Rcgg_W3dsco3"
      },
      "source": [
        "edad = 13\n",
        "nombre = \"Erick\"\n",
        "estatura = 1.70\n",
        "tiene_ine = True\n"
      ],
      "execution_count": null,
      "outputs": []
    },
    {
      "cell_type": "markdown",
      "metadata": {
        "id": "bcxeZFVpsjAp"
      },
      "source": [
        "### TIPOS DE DATOS COMPUESTOS \n",
        "\n",
        "\n",
        "1.   Elemento de lista\n",
        "2.   Elemento de lista\n",
        "\n",
        "## tuplas\n",
        "son inmutablesse accede a los elementos via el indice los elementos pueden ser de diferente tipo\n",
        "tupla_ejemplo(\"root\",\"123.322.45.4\",\"123adios\" )\n"
      ]
    },
    {
      "cell_type": "code",
      "metadata": {
        "id": "DCRGsrnQtrS-",
        "outputId": "85f8578f-7a81-47d1-cc9d-4c017392b1c3",
        "colab": {
          "base_uri": "https://localhost:8080/",
          "height": 190
        }
      },
      "source": [
        "lista_ejemplo = [\"manzana\", 1.57,True,[\"rojo\",\"azul\"]]\n",
        "print(lista_ejemplo[1])\n",
        "print(lista_ejemplo[3])\n",
        "print(lista_ejemplo[3][1])\n",
        "# agregar elemento al final apend\n",
        "lista_ejemplo.append(\"iPhone\")\n",
        "print(lista_ejemplo)\n",
        "#saca el ultimo elemento\n",
        "valor = lista_ejemplo.pop()\n",
        "print(valor)\n",
        "print(lista_ejemplo)\n",
        "## documento de los tipos de datos\n",
        "#dir(list)\n",
        "#help(list)\n",
        "#help(str)\n",
        "#el insert se usa para agreagar en cualquier parte de la cadena\n",
        "lista_ejemplo.insert(0,\"Huawei\")\n",
        "print(lista_ejemplo)\n",
        "#count se usa para saber cuantos elementos de un tipo hay\n",
        "conteo = lista_ejemplo.count(True)\n",
        "print(conteo)\n",
        "#para agregar una lista como elemento de otra\n",
        "colores = [\"azul\",\"rosa\",\"verde\",\"negro\"]\n",
        "lista_ejemplo.append(colores)\n",
        "print(lista_ejemplo)\n",
        "#para agregar elementos a una sola lista\n",
        "lista_ejemplo.extend(colores)\n",
        "print(lista_ejemplo)"
      ],
      "execution_count": 14,
      "outputs": [
        {
          "output_type": "stream",
          "text": [
            "1.57\n",
            "['rojo', 'azul']\n",
            "azul\n",
            "['manzana', 1.57, True, ['rojo', 'azul'], 'iPhone']\n",
            "iPhone\n",
            "['manzana', 1.57, True, ['rojo', 'azul']]\n",
            "['Huawei', 'manzana', 1.57, True, ['rojo', 'azul']]\n",
            "1\n",
            "['Huawei', 'manzana', 1.57, True, ['rojo', 'azul'], ['azul', 'rosa', 'verde', 'negro']]\n",
            "['Huawei', 'manzana', 1.57, True, ['rojo', 'azul'], ['azul', 'rosa', 'verde', 'negro'], 'azul', 'rosa', 'verde', 'negro']\n"
          ],
          "name": "stdout"
        }
      ]
    }
  ]
}