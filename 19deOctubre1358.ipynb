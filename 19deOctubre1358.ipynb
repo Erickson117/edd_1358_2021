{
  "nbformat": 4,
  "nbformat_minor": 0,
  "metadata": {
    "colab": {
      "name": "19deOctubre1358.ipynb",
      "provenance": [],
      "authorship_tag": "ABX9TyP9vnBaYEWE7KK97GVpO/TM",
      "include_colab_link": true
    },
    "kernelspec": {
      "name": "python3",
      "display_name": "Python 3"
    }
  },
  "cells": [
    {
      "cell_type": "markdown",
      "metadata": {
        "id": "view-in-github",
        "colab_type": "text"
      },
      "source": [
        "<a href=\"https://colab.research.google.com/github/Erickson117/edd_1358_2021/blob/master/19deOctubre1358.ipynb\" target=\"_parent\"><img src=\"https://colab.research.google.com/assets/colab-badge.svg\" alt=\"Open In Colab\"/></a>"
      ]
    },
    {
      "cell_type": "markdown",
      "metadata": {
        "id": "WK4FlMKTlD0m"
      },
      "source": [
        "## LEER ARCHIVOS 2"
      ]
    },
    {
      "cell_type": "code",
      "metadata": {
        "id": "zahP58kCZ7WZ",
        "outputId": "c8842bb7-5842-4b7b-9cc3-53a77641f5b0",
        "colab": {
          "base_uri": "https://localhost:8080/",
          "height": 69
        }
      },
      "source": [
        "archivo = open('frutas.txt','rt')\n",
        "#funcion read()\n",
        "data = archivo.read()\n",
        "print(data.upper())\n",
        "archivo.close()\n"
      ],
      "execution_count": 3,
      "outputs": [
        {
          "output_type": "stream",
          "text": [
            "LIMON,AGUACATE,FRESA,MANZANA\n",
            "CIRUELA,CAPULIN,NARANJA\n",
            "PERA,KIWI\n"
          ],
          "name": "stdout"
        }
      ]
    },
    {
      "cell_type": "code",
      "metadata": {
        "id": "pvubW7xueBoW",
        "outputId": "532f9020-ac86-4fb6-c8e9-cf1108d29aa5",
        "colab": {
          "base_uri": "https://localhost:8080/",
          "height": 104
        }
      },
      "source": [
        "#readline() lee linea por linea\n",
        "archivo =  open('frutas.txt','rt')\n",
        "data = archivo.readline()\n",
        "while data != \"\":\n",
        "  print(data)\n",
        "  data = archivo.readline()\n",
        "  \n",
        "archivo.close()\n"
      ],
      "execution_count": 9,
      "outputs": [
        {
          "output_type": "stream",
          "text": [
            "limon,aguacate,fresa,manzana\n",
            "\n",
            "ciruela,capulin,naranja\n",
            "\n",
            "pera,kiwi\n"
          ],
          "name": "stdout"
        }
      ]
    },
    {
      "cell_type": "code",
      "metadata": {
        "id": "aNofR823gF_d",
        "outputId": "60dbc05c-8fdb-4fd9-dc85-08de6fc57682",
        "colab": {
          "base_uri": "https://localhost:8080/",
          "height": 86
        }
      },
      "source": [
        "# readlines()\n",
        "\n",
        "archivo = open('frutas.txt','rt')\n",
        "\n",
        "data = archivo.readlines()\n",
        "print(data)\n",
        "archivo.close()\n",
        "frutas = []\n",
        "for linea in data:\n",
        "  frutas.append(linea.strip())\n",
        "\n",
        "print(frutas)\n",
        "archivo.close()\n",
        "\n",
        "frutas_final = []\n",
        "for elem in frutas:\n",
        "  for fruta in elem.split(','):\n",
        "    frutas_final.append(fruta.strip())\n",
        "\n",
        "print(frutas_final)\n",
        "print(frutas_final[0])\n",
        "archivo.close()\n"
      ],
      "execution_count": 19,
      "outputs": [
        {
          "output_type": "stream",
          "text": [
            "['limon,aguacate,fresa,manzana\\n', 'ciruela,capulin,naranja\\n', 'pera,kiwi']\n",
            "['limon,aguacate,fresa,manzana', 'ciruela,capulin,naranja', 'pera,kiwi']\n",
            "['limon', 'aguacate', 'fresa', 'manzana', 'ciruela', 'capulin', 'naranja', 'pera', 'kiwi']\n",
            "limon\n"
          ],
          "name": "stdout"
        }
      ]
    },
    {
      "cell_type": "markdown",
      "metadata": {
        "id": "ErFebMUPlJbn"
      },
      "source": [
        "# POO con python\n",
        "\n",
        "* declarar metodos\n",
        "* metodo constructor\n",
        "* encapsulamiento\n",
        "* objetos\n",
        "* atributos\n",
        "* herencia\n"
      ]
    },
    {
      "cell_type": "markdown",
      "metadata": {
        "id": "xF3gcgsnlsgh"
      },
      "source": [
        "## Declarar con  class"
      ]
    },
    {
      "cell_type": "code",
      "metadata": {
        "id": "HBnpoE0ElxNK",
        "outputId": "c23d5af4-97e8-49f9-9b13-5b742dd4d99c",
        "colab": {
          "base_uri": "https://localhost:8080/",
          "height": 52
        }
      },
      "source": [
        "class persona:\n",
        "  #constructor con 2 guion bajo y la palabra init\n",
        "  def __init__(self,edad,estatura):\n",
        "    #doble guion bajo para hacerlos privados\n",
        "    self.__edad = 0\n",
        "    self.__estatura = 0.0\n",
        "  \n",
        "  def to_string(self):\n",
        "\n",
        "    print(f\"edad={self.__edad}, estatura ={self.__estatura} \")\n",
        "\n",
        "per1 = persona(23 , 1.78)\n",
        "per1.to_string()\n",
        "per1.__estatura = 10.4\n",
        "per1.to_string()\n"
      ],
      "execution_count": 25,
      "outputs": [
        {
          "output_type": "stream",
          "text": [
            "edad=0, estatura =0.0 \n",
            "edad=0, estatura =0.0 \n"
          ],
          "name": "stdout"
        }
      ]
    }
  ]
}