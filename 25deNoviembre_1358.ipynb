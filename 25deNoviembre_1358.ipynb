{
  "nbformat": 4,
  "nbformat_minor": 0,
  "metadata": {
    "colab": {
      "name": "25deNoviembre_1358.ipynb",
      "provenance": [],
      "authorship_tag": "ABX9TyPzeqVUOC86c8gwz6ehDnoz",
      "include_colab_link": true
    },
    "kernelspec": {
      "name": "python3",
      "display_name": "Python 3"
    }
  },
  "cells": [
    {
      "cell_type": "markdown",
      "metadata": {
        "id": "view-in-github",
        "colab_type": "text"
      },
      "source": [
        "<a href=\"https://colab.research.google.com/github/Erickson117/edd_1358_2021/blob/master/25deNoviembre_1358.ipynb\" target=\"_parent\"><img src=\"https://colab.research.google.com/assets/colab-badge.svg\" alt=\"Open In Colab\"/></a>"
      ]
    },
    {
      "cell_type": "code",
      "metadata": {
        "id": "BchNm5r2J81c"
      },
      "source": [
        "class NodoDoble:\n",
        "  def __init__( self , value , previo = None , siguiente = None ):\n",
        "    self.data = value\n",
        "    self.prev = previo\n",
        "    self.next = siguiente\n",
        "  \n",
        "class DoubleLinkedList:\n",
        "  def __init__(self):\n",
        "    self.__head = None\n",
        "    self.__tail = None\n",
        "    self.__size = 0\n",
        "  def get_size(self):\n",
        "    return self.__size\n",
        "  def is_empty(self):\n",
        "    return self.__size == 0\n",
        "  def append(self , value):\n",
        "    if self.is_empty() :\n",
        "      nuevo = NodoDoble(value)\n",
        "      self.__head = nuevo\n",
        "      self.__tail = nuevo\n",
        "    else:\n",
        "      nuevo = NodoDoble(value, self.__tail, None)\n",
        "      self.__tail.next = nuevo\n",
        "      self.__tail = nuevo\n",
        "\n",
        "    self.__size += 1  \n",
        "  def transversal(self):\n",
        "    curr_node = self.__head\n",
        "    while curr_node != None:\n",
        "      print(\"<=== \", curr_node.data , \"===>\", end= \"\")\n",
        "      curr_node = curr_node.next\n",
        "    print(\"\")\n",
        "  def remove_from_head(self,value):\n",
        "    if self.is_empty():\n",
        "      pass\n",
        "    else:\n",
        "      curr_node = self.__head\n",
        "      while curr_node.data == value and curr_node != None:\n",
        "        curr_node = curr_node.next\n",
        "      if curr_node.data == value: # caso en el que head sea el valor\n",
        "        curr_node.prev.next = curr_node.next\n",
        "        curr_node.next.prev = curr_node.prev\n",
        "      self.__size -= 1\n",
        "    \n",
        "\n",
        "\n",
        "  "
      ],
      "execution_count": 19,
      "outputs": []
    },
    {
      "cell_type": "code",
      "metadata": {
        "colab": {
          "base_uri": "https://localhost:8080/"
        },
        "id": "u81QJmJLRqMk",
        "outputId": "27b14973-f19d-4f2a-d2bb-10a8c1efec62"
      },
      "source": [
        "ldl = DoubleLinkedList()\n",
        "print(ldl.get_size())\n",
        "ldl.append(10)\n",
        "print(ldl.get_size())\n",
        "ldl.transversal()\n",
        "ldl.append(20)\n",
        "ldl.append(30)\n",
        "ldl.transversal()\n"
      ],
      "execution_count": 17,
      "outputs": [
        {
          "output_type": "stream",
          "text": [
            "0\n",
            "1\n",
            "<===  10 ===>\n",
            "<===  10 ===><===  20 ===><===  30 ===>\n"
          ],
          "name": "stdout"
        }
      ]
    }
  ]
}