{
  "nbformat": 4,
  "nbformat_minor": 0,
  "metadata": {
    "colab": {
      "name": "6deEnero2021.ipynb",
      "provenance": [],
      "authorship_tag": "ABX9TyMGwC68PIwiZXlVO8Bj2tFk",
      "include_colab_link": true
    },
    "kernelspec": {
      "name": "python3",
      "display_name": "Python 3"
    }
  },
  "cells": [
    {
      "cell_type": "markdown",
      "metadata": {
        "id": "view-in-github",
        "colab_type": "text"
      },
      "source": [
        "<a href=\"https://colab.research.google.com/github/Erickson117/edd_1358_2021/blob/master/6deEnero2021.ipynb\" target=\"_parent\"><img src=\"https://colab.research.google.com/assets/colab-badge.svg\" alt=\"Open In Colab\"/></a>"
      ]
    },
    {
      "cell_type": "code",
      "metadata": {
        "id": "-OLAtrx8o6vI"
      },
      "source": [
        "class Queue:\r\n",
        "  def __init__(self):\r\n",
        "    self.__data = list()\r\n",
        "\r\n",
        "  def is_empty(self):\r\n",
        "    return len(self.__data) == 0\r\n",
        "\r\n",
        "  def lenght(self):\r\n",
        "    return len(self.__data)\r\n",
        "\r\n",
        "  def enqueue( self, item ):\r\n",
        "    self.__data.append(item)\r\n",
        "  \r\n",
        "  def dequeue( self ):\r\n",
        "    if not self.is_empty(): #en caso de que no este vacia\r\n",
        "      return self.__data.pop(0)\r\n",
        "\r\n",
        "    else:\r\n",
        "      return None #en caso de que este vacia\r\n",
        "  \r\n",
        "  def to_string( self ):\r\n",
        "    for elem in self.__data:\r\n",
        "      print(f\"| {elem} \", end=\"\")\r\n",
        "    print(\"|\")\r\n"
      ],
      "execution_count": 1,
      "outputs": []
    },
    {
      "cell_type": "code",
      "metadata": {
        "id": "ppaXeTPkpZpL"
      },
      "source": [
        "class BoundePriorityQueue:\r\n",
        "  def __init__(self ,niveles):\r\n",
        "    self.__data = [Queue() for x in range(niveles)]\r\n",
        "    self.__size = 0\r\n",
        "  \r\n",
        "  def empty(self):\r\n",
        "    return self.__size == 0\r\n",
        "\r\n",
        "  def lenght(self):\r\n",
        "    return self.__size\r\n",
        "  \r\n",
        "  def enqueue(self, prioridad, elem):\r\n",
        "    self.__data[prioridad].enqueue(elem)\r\n",
        "  \r\n",
        "  \r\n"
      ],
      "execution_count": null,
      "outputs": []
    }
  ]
}