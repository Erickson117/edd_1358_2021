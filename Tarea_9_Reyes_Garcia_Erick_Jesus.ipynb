{
  "nbformat": 4,
  "nbformat_minor": 0,
  "metadata": {
    "colab": {
      "name": "Tarea 9 Reyes Garcia Erick Jesus.ipynb",
      "provenance": [],
      "collapsed_sections": [],
      "authorship_tag": "ABX9TyPHbeQg4K0ad86/vKU3xGjT",
      "include_colab_link": true
    },
    "kernelspec": {
      "name": "python3",
      "display_name": "Python 3"
    }
  },
  "cells": [
    {
      "cell_type": "markdown",
      "metadata": {
        "id": "view-in-github",
        "colab_type": "text"
      },
      "source": [
        "<a href=\"https://colab.research.google.com/github/Erickson117/edd_1358_2021/blob/master/Tarea_9_Reyes_Garcia_Erick_Jesus.ipynb\" target=\"_parent\"><img src=\"https://colab.research.google.com/assets/colab-badge.svg\" alt=\"Open In Colab\"/></a>"
      ]
    },
    {
      "cell_type": "code",
      "metadata": {
        "id": "btKIYrFVL-rT"
      },
      "source": [
        "#Nombre: Reyes Garcia Erick Jesus\r\n",
        "#Grupo: 1358\r\n",
        "class Queue:\r\n",
        "  def __init__(self):\r\n",
        "    self.__data = list()\r\n",
        "\r\n",
        "  def is_empty(self):\r\n",
        "    return len(self.__data) == 0\r\n",
        "\r\n",
        "  def lenght(self):\r\n",
        "    return len(self.__data)\r\n",
        "\r\n",
        "  def enqueue( self, item ):\r\n",
        "    self.__data.append(item)\r\n",
        "  \r\n",
        "  def denqueue( self ):\r\n",
        "    if not self.is_empty(): #en caso de que no este vacia\r\n",
        "      return self.__data.pop(0)\r\n",
        "\r\n",
        "    else:\r\n",
        "      return None #en caso de que este vacia\r\n",
        "  \r\n",
        "  def to_string( self ):\r\n",
        "    cadena = \"\"\r\n",
        "    for elem in self.__data:\r\n",
        "      cadena = cadena + \"|\" + elem\r\n",
        "    cadena = cadena + \"|\" \r\n",
        "    return cadena"
      ],
      "execution_count": 4,
      "outputs": []
    },
    {
      "cell_type": "code",
      "metadata": {
        "id": "VCvJlNmNMEOY"
      },
      "source": [
        "#Nombre: Reyes Garcia Erick Jesus\r\n",
        "#Grupo: 1358\r\n",
        "class BoundePriorityQueue:\r\n",
        "  def __init__(self ,niveles):\r\n",
        "    self.__data = [Queue() for x in range(niveles)]\r\n",
        "    self.__size = 0\r\n",
        "  \r\n",
        "  def empty(self):\r\n",
        "    return self.__size == 0\r\n",
        "\r\n",
        "  def lenght(self):\r\n",
        "    return self.__size\r\n",
        "  \r\n",
        "  def enqueue(self, prioridad, elem):\r\n",
        "    \r\n",
        "    if prioridad < len(self.__data) and prioridad >= 0:\r\n",
        "      self.__data[prioridad].enqueue(elem)\r\n",
        "      self.__size += 1\r\n",
        "    else:\r\n",
        "      print(\"prioridad fuera de rango\")\r\n",
        "  \r\n",
        "  def denqueue(self):\r\n",
        "    if not self.empty():\r\n",
        "      self.__size -= 1\r\n",
        "      nivel = 0\r\n",
        "      while self.__data[nivel].is_empty():\r\n",
        "        nivel += 1\r\n",
        "      return self.__data[nivel].denqueue()\r\n",
        "  \r\n",
        "  def to_string(self):\r\n",
        "    \r\n",
        "    for nivel in range(len(self.__data)):\r\n",
        "      print(f\"Nivel: {nivel}------> {self.__data[nivel].to_string()}\")"
      ],
      "execution_count": 3,
      "outputs": []
    },
    {
      "cell_type": "code",
      "metadata": {
        "id": "VNIcylMFMJhO"
      },
      "source": [
        "#Nombre: Reyes Garcia Erick Jesus\r\n",
        "#Grupo: 1358\r\n",
        "class Barco:\r\n",
        "  def __init__(self,clases):\r\n",
        "    self.__barco = BoundePriorityQueue(clases) #se crea un objeto de la clase BoundePriorityQueue\r\n",
        "  \r\n",
        "  def abordar(self): #la funcion abordar crea todos los grupos existentes en la diapositiva que vimos en clase\r\n",
        "    self.__barco.enqueue(4,\"Maestre\")\r\n",
        "    self.__barco.enqueue(2,\"Niños\")\r\n",
        "    self.__barco.enqueue(4,\"Mecanico\")\r\n",
        "    self.__barco.enqueue(3,\"Mujeres\")\r\n",
        "    self.__barco.enqueue(2,\"3ra edad\")\r\n",
        "    self.__barco.enqueue(3,\"Hombres\")\r\n",
        "    self.__barco.enqueue(1,\"Niñas\")\r\n",
        "    self.__barco.enqueue(4,\"Vigia\")\r\n",
        "    self.__barco.enqueue(5,\"Capitan\")\r\n",
        "    self.__barco.enqueue(4,\"Timonel\")\r\n",
        "    print(f\"El barco se ha abordado:\")#una vez se terminan de crear lanza este mensaje mas la lista de los niveles\r\n",
        "    self.__barco.to_string()\r\n",
        "  \r\n",
        "  def evacuar(self): #la funcion evacuar saca a todos los tripulantes en orden aunque como se ve arriba estos no ingresaron de la misma manera que van a salir\r\n",
        "    print(\"¡¡¡¡¡¡¡¡¡¡¡¡¡¡¡¡¡¡ICEBERG A LA VISTA!!!!!!!!!!!!!!!!!!\")\r\n",
        "    print(\"DEBEMOS EVACUAR\")\r\n",
        "    for i in range(self.__barco.lenght()): #Este contador ira sacando los pasageros usando la funcion denqueue\r\n",
        "      print(f\" Se ha evacuado el grupo de: {self.__barco.denqueue()} \")\r\n",
        "      if self.__barco.empty(): #Pregunta si el barco esta vacio en el caso de que asi sea imprimira el siguiente mensaje\r\n",
        "        print(\"--El barco ha sido evacuado con exito--\")\r\n",
        "\r\n",
        "\r\n",
        "\r\n",
        "\r\n"
      ],
      "execution_count": 1,
      "outputs": []
    },
    {
      "cell_type": "code",
      "metadata": {
        "colab": {
          "base_uri": "https://localhost:8080/"
        },
        "id": "8Els0xWhO-aH",
        "outputId": "82211ede-06ca-4458-9616-9f5b29c7ecd4"
      },
      "source": [
        "uwu = Barco(7)\r\n",
        "uwu.abordar()\r\n",
        "uwu.evacuar()"
      ],
      "execution_count": 5,
      "outputs": [
        {
          "output_type": "stream",
          "text": [
            "El barco se ha abordado:\n",
            "Nivel: 0------> |\n",
            "Nivel: 1------> |Niñas|\n",
            "Nivel: 2------> |Niños|3ra edad|\n",
            "Nivel: 3------> |Mujeres|Hombres|\n",
            "Nivel: 4------> |Maestre|Mecanico|Vigia|Timonel|\n",
            "Nivel: 5------> |Capitan|\n",
            "Nivel: 6------> |\n",
            "¡¡¡¡¡¡¡¡¡¡¡¡¡¡¡¡¡¡ICEBERG A LA VISTA!!!!!!!!!!!!!!!!!!\n",
            "DEBEMOS EVACUAR\n",
            " Se ha evacuado el grupo de: Niñas \n",
            " Se ha evacuado el grupo de: Niños \n",
            " Se ha evacuado el grupo de: 3ra edad \n",
            " Se ha evacuado el grupo de: Mujeres \n",
            " Se ha evacuado el grupo de: Hombres \n",
            " Se ha evacuado el grupo de: Maestre \n",
            " Se ha evacuado el grupo de: Mecanico \n",
            " Se ha evacuado el grupo de: Vigia \n",
            " Se ha evacuado el grupo de: Timonel \n",
            " Se ha evacuado el grupo de: Capitan \n",
            "--El barco ha sido evacuado con exito--\n"
          ],
          "name": "stdout"
        }
      ]
    }
  ]
}