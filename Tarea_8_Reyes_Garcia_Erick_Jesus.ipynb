{
  "nbformat": 4,
  "nbformat_minor": 0,
  "metadata": {
    "colab": {
      "name": "Tarea 8 Reyes Garcia Erick Jesus.ipynb",
      "provenance": [],
      "authorship_tag": "ABX9TyNrGUQogvMBAFCKRIUUWAXn",
      "include_colab_link": true
    },
    "kernelspec": {
      "name": "python3",
      "display_name": "Python 3"
    }
  },
  "cells": [
    {
      "cell_type": "markdown",
      "metadata": {
        "id": "view-in-github",
        "colab_type": "text"
      },
      "source": [
        "<a href=\"https://colab.research.google.com/github/Erickson117/edd_1358_2021/blob/master/Tarea_8_Reyes_Garcia_Erick_Jesus.ipynb\" target=\"_parent\"><img src=\"https://colab.research.google.com/assets/colab-badge.svg\" alt=\"Open In Colab\"/></a>"
      ]
    },
    {
      "cell_type": "code",
      "metadata": {
        "id": "AD0KAwLiEzlg"
      },
      "source": [
        "#Nombre: Reyes Garcia Erick Jesus\r\n",
        "#Grupo: 1358\r\n",
        "class PriorityQueue:\r\n",
        "  def __init__(self):\r\n",
        "    self.__data = list()\r\n",
        "    self.__size = 0\r\n",
        "\r\n",
        "  def is_empty(self):\r\n",
        "    return len(self.__data) == 0\r\n",
        "  \r\n",
        "  def lenght(self):\r\n",
        "    return len(self.__data)\r\n",
        "\r\n",
        "  def enqueue(self, prioridad, elem):\r\n",
        "    if self.is_empty() or prioridad > self.__size:\r\n",
        "      self.__data.append([elem,prioridad])\r\n",
        "      self.__size += 1\r\n",
        "    else:\r\n",
        "      x = self.__size -1\r\n",
        "      #print(x)\r\n",
        "      while self.__data[x][1] != prioridad and x >= 0:\r\n",
        "        x -= 1\r\n",
        "      if x != -1:\r\n",
        "        self.__data.insert((x+1),[elem,prioridad]) \r\n",
        "        self.__size += 1\r\n",
        "      else:\r\n",
        "        if prioridad > self.__data[self.__size -1][1]:\r\n",
        "          self.__data.append([elem,prioridad])\r\n",
        "          self.__size += 1\r\n",
        "        else:\r\n",
        "          y = self.__size -1\r\n",
        "          while prioridad < self.__data[y][1]:\r\n",
        "            y-= 1\r\n",
        "          self.__data.insert((x+1),[elem,prioridad]) \r\n",
        "          self.__size += 1\r\n",
        "\r\n",
        "  \r\n",
        "  def dequeue(self):\r\n",
        "    self.__size -= 1\r\n",
        "    self.__data.pop(0)\r\n",
        "  \r\n",
        "  def to_string(self):\r\n",
        "    for i in range(len(self.__data)):\r\n",
        "      print(f\"Posicion | {i} | es : | {self.__data[i][0]} |, con una prioridad de: | {self.__data[i][1]} | tamaño de la cola | {self.__size} |\")    \r\n",
        "\r\n",
        "\r\n",
        "       \r\n",
        "\r\n",
        "      \r\n",
        "      \r\n",
        "       \r\n",
        "\r\n",
        "\r\n",
        "        \r\n",
        "\r\n",
        "\r\n"
      ],
      "execution_count": 156,
      "outputs": []
    },
    {
      "cell_type": "code",
      "metadata": {
        "colab": {
          "base_uri": "https://localhost:8080/"
        },
        "id": "1VDogZdoJ9mA",
        "outputId": "3897e2f6-8843-4993-cc1d-8ec8ff986d31"
      },
      "source": [
        "uwu = PriorityQueue()\r\n",
        "uwu.enqueue(0,\"Diana\")\r\n",
        "uwu.enqueue(0,\"Raul\")\r\n",
        "uwu.enqueue(1,\"Pid\")\r\n",
        "uwu.enqueue(0,\"Erick\")\r\n",
        "uwu.enqueue(2,\"lary\")\r\n",
        "uwu.enqueue(1,\"Zyanya\")\r\n",
        "uwu.enqueue(3,\"Grogu\")\r\n",
        "uwu.to_string()\r\n"
      ],
      "execution_count": 159,
      "outputs": [
        {
          "output_type": "stream",
          "text": [
            "Posicion | 0 | es : | Diana |, con una prioridad de: | 0 | tamaño de la cola | 7 |\n",
            "Posicion | 1 | es : | Raul |, con una prioridad de: | 0 | tamaño de la cola | 7 |\n",
            "Posicion | 2 | es : | Erick |, con una prioridad de: | 0 | tamaño de la cola | 7 |\n",
            "Posicion | 3 | es : | Pid |, con una prioridad de: | 1 | tamaño de la cola | 7 |\n",
            "Posicion | 4 | es : | Zyanya |, con una prioridad de: | 1 | tamaño de la cola | 7 |\n",
            "Posicion | 5 | es : | lary |, con una prioridad de: | 2 | tamaño de la cola | 7 |\n",
            "Posicion | 6 | es : | Grogu |, con una prioridad de: | 3 | tamaño de la cola | 7 |\n"
          ],
          "name": "stdout"
        }
      ]
    }
  ]
}