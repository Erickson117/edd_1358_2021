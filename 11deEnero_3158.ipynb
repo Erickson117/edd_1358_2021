{
  "nbformat": 4,
  "nbformat_minor": 0,
  "metadata": {
    "colab": {
      "name": "11deEnero_3158.ipynb",
      "provenance": [],
      "authorship_tag": "ABX9TyNRX+dnodLj8WoNSISYo8Yi",
      "include_colab_link": true
    },
    "kernelspec": {
      "name": "python3",
      "display_name": "Python 3"
    }
  },
  "cells": [
    {
      "cell_type": "markdown",
      "metadata": {
        "id": "view-in-github",
        "colab_type": "text"
      },
      "source": [
        "<a href=\"https://colab.research.google.com/github/Erickson117/edd_1358_2021/blob/master/11deEnero_3158.ipynb\" target=\"_parent\"><img src=\"https://colab.research.google.com/assets/colab-badge.svg\" alt=\"Open In Colab\"/></a>"
      ]
    },
    {
      "cell_type": "code",
      "metadata": {
        "id": "_a5FJT-3OEGv"
      },
      "source": [
        "class NodoArbol:\r\n",
        "  def __init__(self , dato, hijo_izq = None, hijo_der = None):\r\n",
        "    self.dato = dato\r\n",
        "    self.hijo_izq = hijo_izq\r\n",
        "    self.hijo_der = hijo_der\r\n",
        "\r\n"
      ],
      "execution_count": 1,
      "outputs": []
    },
    {
      "cell_type": "code",
      "metadata": {
        "colab": {
          "base_uri": "https://localhost:8080/"
        },
        "id": "ElzE1DEPQ_AD",
        "outputId": "f1985e91-b16e-4156-fe2a-ccce68b9950d"
      },
      "source": [
        "arbol = NodoArbol(\"R\")\r\n",
        "arbol.hijo_izq = NodoArbol(\"C\")\r\n",
        "arbol.hijo_der = NodoArbol(\"H\")\r\n",
        "#Imprimir Nodo raiz\r\n",
        "print(arbol.dato)\r\n",
        "#Imprimir hijo izquierdo\r\n",
        "print(arbol.hijo_izq.dato)\r\n",
        "#Imprimir hijo derecho\r\n",
        "print(arbol.hijo_der.dato)\r\n"
      ],
      "execution_count": 9,
      "outputs": [
        {
          "output_type": "stream",
          "text": [
            "R\n",
            "C\n",
            "H\n"
          ],
          "name": "stdout"
        }
      ]
    },
    {
      "cell_type": "code",
      "metadata": {
        "colab": {
          "base_uri": "https://localhost:8080/"
        },
        "id": "6y0WV6VNSyRc",
        "outputId": "f8cb4c95-7784-496b-feb2-a85cd686dc25"
      },
      "source": [
        "arbol_v2 = NodoArbol(\"R\",NodoArbol(\"C\"),NodoArbol(\"H\"))\r\n",
        "print(arbol_v2.dato)\r\n",
        "print(arbol_v2.hijo_izq.dato)\r\n",
        "print(arbol_v2.hijo_der.dato)\r\n"
      ],
      "execution_count": 10,
      "outputs": [
        {
          "output_type": "stream",
          "text": [
            "R\n",
            "C\n",
            "H\n"
          ],
          "name": "stdout"
        }
      ]
    },
    {
      "cell_type": "code",
      "metadata": {
        "colab": {
          "base_uri": "https://localhost:8080/"
        },
        "id": "zG2DCBsnTWkd",
        "outputId": "8845ba3d-9ac3-4b1d-98df-6f67999288f8"
      },
      "source": [
        "#Ejercicio 2\r\n",
        "arbol_v3 = NodoArbol(4,NodoArbol(3,NodoArbol(2,NodoArbol(2))),NodoArbol(3))\r\n",
        "print(arbol_v3.dato)\r\n",
        "print(arbol_v3.hijo_izq.dato)\r\n",
        "print(arbol_v3.hijo_izq.hijo_izq.dato)\r\n",
        "print(arbol_v3.hijo_izq.hijo_izq.hijo_izq.dato)\r\n",
        "print(arbol_v3.hijo_der.dato)\r\n",
        "aux = arbol_v3\r\n",
        "while aux.hijo_izq != None:\r\n",
        "  aux = aux.hijo_izq\r\n",
        "print(f\"ultimo:{aux.dato}\")"
      ],
      "execution_count": 34,
      "outputs": [
        {
          "output_type": "stream",
          "text": [
            "4\n",
            "3\n",
            "2\n",
            "2\n",
            "3\n",
            "ultimo:2\n"
          ],
          "name": "stdout"
        }
      ]
    },
    {
      "cell_type": "code",
      "metadata": {
        "colab": {
          "base_uri": "https://localhost:8080/"
        },
        "id": "DM22ya3WVNLi",
        "outputId": "e717fb4a-14b8-43e2-935a-ab1ac96897d7"
      },
      "source": [
        "#Ejercicio 3\r\n",
        "arbol_v4 = NodoArbol(\"Santi\",None ,NodoArbol(\"Jesus\",NodoArbol(\"Pedro\",None , NodoArbol(\"Pedro\"))))\r\n",
        "print(arbol_v4.dato)\r\n",
        "print(arbol_v4.hijo_der.dato)\r\n",
        "print(arbol_v4.hijo_der.hijo_izq.dato)\r\n",
        "print(arbol_v4.hijo_der.hijo_izq.hijo_der.dato)"
      ],
      "execution_count": 33,
      "outputs": [
        {
          "output_type": "stream",
          "text": [
            "Santi\n",
            "Jesus\n",
            "Pedro\n",
            "Pedro\n"
          ],
          "name": "stdout"
        }
      ]
    },
    {
      "cell_type": "code",
      "metadata": {
        "id": "qY9QPGBjYv9T"
      },
      "source": [
        "class NodoArbol_v2:\r\n",
        "  def __init__(self , dato, hijo_izq = None,hijo_cen = None, hijo_der = None):\r\n",
        "    self.dato = dato\r\n",
        "    self.hijo_izq = hijo_izq\r\n",
        "    self.hijo_cen = hijo_cen\r\n",
        "    self.hijo_der = hijo_der\r\n"
      ],
      "execution_count": 40,
      "outputs": []
    },
    {
      "cell_type": "code",
      "metadata": {
        "id": "XVz1OcvXayMd"
      },
      "source": [
        "arbol3 = NodoArbol_v2(\"R\" , NodoArbol_v2(\"I\" , None , NodoArbol_v2(\"X\")) , NodoArbol_v2(\"C\" , NodoArbol_v2(\"Y\")) , NodoArbol_v2(\"D\" , None , None , NodoArbol_v2(\"Z\")))\r\n"
      ],
      "execution_count": 42,
      "outputs": []
    }
  ]
}