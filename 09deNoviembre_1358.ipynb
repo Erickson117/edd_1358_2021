{
  "nbformat": 4,
  "nbformat_minor": 0,
  "metadata": {
    "colab": {
      "name": "09deNoviembre_1358.ipynb",
      "provenance": [],
      "authorship_tag": "ABX9TyPJeOmRTAjdGu/aWkSbx359",
      "include_colab_link": true
    },
    "kernelspec": {
      "name": "python3",
      "display_name": "Python 3"
    }
  },
  "cells": [
    {
      "cell_type": "markdown",
      "metadata": {
        "id": "view-in-github",
        "colab_type": "text"
      },
      "source": [
        "<a href=\"https://colab.research.google.com/github/Erickson117/edd_1358_2021/blob/master/09deNoviembre_1358.ipynb\" target=\"_parent\"><img src=\"https://colab.research.google.com/assets/colab-badge.svg\" alt=\"Open In Colab\"/></a>"
      ]
    },
    {
      "cell_type": "code",
      "metadata": {
        "id": "AUiigDUnxcX9",
        "outputId": "50ea1e33-f67f-4bc7-d69a-7183c3cf86fb",
        "colab": {
          "base_uri": "https://localhost:8080/"
        }
      },
      "source": [
        "class Nodo:\n",
        "  def __init__(self,dato):\n",
        "    self.__dato = dato\n",
        "    self.__siguiente = None\n",
        "  \n",
        "  def get_dato(self):\n",
        "    return self.__dato\n",
        "\n",
        "  def set_dato(self,d):\n",
        "    self.__dato = d\n",
        "  \n",
        "  def get_siguiente(self):\n",
        "    return self.__siguiente\n",
        "  \n",
        "  def set_siguiente(self,d):\n",
        "    self.__siguiente = d\n",
        "\n",
        "  def to_String(self):\n",
        "    return \"|\"+ str(self.__dato)+\"|\"+str(self.__siguiente)+\"| -->\"\n",
        "\n",
        "    \n",
        "#ejemplo1\n",
        "\n",
        "a = Nodo(10)\n",
        "print(a.to_String())\n",
        "\n",
        "#ejemplo2\n",
        "\n",
        "a.set_siguiente(20)\n",
        "print(a.to_String())\n"
      ],
      "execution_count": 4,
      "outputs": [
        {
          "output_type": "stream",
          "text": [
            "|10|None| -->\n",
            "|10|20| -->\n"
          ],
          "name": "stdout"
        }
      ]
    }
  ]
}